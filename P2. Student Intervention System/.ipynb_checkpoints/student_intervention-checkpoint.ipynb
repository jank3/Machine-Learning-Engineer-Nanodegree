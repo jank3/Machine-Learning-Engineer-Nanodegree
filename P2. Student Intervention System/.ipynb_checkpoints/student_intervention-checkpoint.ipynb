{
 "cells": [
  {
   "cell_type": "markdown",
   "metadata": {},
   "source": [
    "# Project 2: Supervised Learning\n",
    "### Building a Student Intervention System"
   ]
  },
  {
   "cell_type": "markdown",
   "metadata": {},
   "source": [
    "## 1. Classification vs Regression\n",
    "\n",
    "Your goal is to identify students who might need early intervention - which type of supervised machine learning problem is this, classification or regression? Why?"
   ]
  },
  {
   "cell_type": "markdown",
   "metadata": {},
   "source": [
    "## 2. Exploring the Data\n",
    "\n",
    "Let's go ahead and read in the student dataset first.\n",
    "\n",
    "_To execute a code cell, click inside it and press **Shift+Enter**._"
   ]
  },
  {
   "cell_type": "code",
   "execution_count": 1,
   "metadata": {
    "collapsed": false
   },
   "outputs": [],
   "source": [
    "# Import libraries\n",
    "import numpy as np\n",
    "import pandas as pd\n",
    "from sklearn.cross_validation import train_test_split"
   ]
  },
  {
   "cell_type": "code",
   "execution_count": 2,
   "metadata": {
    "collapsed": false
   },
   "outputs": [
    {
     "name": "stdout",
     "output_type": "stream",
     "text": [
      "Student data read successfully!\n"
     ]
    }
   ],
   "source": [
    "# Read student data\n",
    "student_data = pd.read_csv(\"student-data.csv\")\n",
    "print(\"Student data read successfully!\")\n",
    "# Note: The last column 'passed' is the target/label, all other are feature columns"
   ]
  },
  {
   "cell_type": "markdown",
   "metadata": {},
   "source": [
    "Now, can you find out the following facts about the dataset?\n",
    "- Total number of students\n",
    "- Number of students who passed\n",
    "- Number of students who failed\n",
    "- Graduation rate of the class (%)\n",
    "- Number of features\n",
    "\n",
    "_Use the code block below to compute these values. Instructions/steps are marked using **TODO**s._"
   ]
  },
  {
   "cell_type": "code",
   "execution_count": 3,
   "metadata": {
    "collapsed": false
   },
   "outputs": [
    {
     "name": "stdout",
     "output_type": "stream",
     "text": [
      "Total number of students: 395\n",
      "Number of students who passed: 265\n",
      "Number of students who failed: 130\n",
      "Number of features: 31\n",
      "Graduation rate of the class: 67.09%\n"
     ]
    }
   ],
   "source": [
    "n_students = np.shape(student_data)[0]\n",
    "n_features = np.shape(student_data)[1]\n",
    "n_passed = len(student_data[student_data.passed=='yes'])\n",
    "n_failed = len(student_data[student_data.passed=='no'])\n",
    "grad_rate = (n_passed/n_students)*100\n",
    "print(\"Total number of students: {}\".format(n_students))\n",
    "print(\"Number of students who passed: {}\".format(n_passed))\n",
    "print(\"Number of students who failed: {}\".format(n_failed))\n",
    "print(\"Number of features: {}\".format(n_features))\n",
    "print(\"Graduation rate of the class: {:.2f}%\".format(grad_rate))"
   ]
  },
  {
   "cell_type": "markdown",
   "metadata": {},
   "source": [
    "## 3. Preparing the Data\n",
    "In this section, we will prepare the data for modeling, training and testing.\n",
    "\n",
    "### Identify feature and target columns\n",
    "It is often the case that the data you obtain contains non-numeric features. This can be a problem, as most machine learning algorithms expect numeric data to perform computations with.\n",
    "\n",
    "Let's first separate our data into feature and target columns, and see if any features are non-numeric.<br/>\n",
    "**Note**: For this dataset, the last column (`'passed'`) is the target or label we are trying to predict."
   ]
  },
  {
   "cell_type": "code",
   "execution_count": 4,
   "metadata": {
    "collapsed": false
   },
   "outputs": [
    {
     "name": "stdout",
     "output_type": "stream",
     "text": [
      "Feature column(s):-\n",
      "['school', 'sex', 'age', 'address', 'famsize', 'Pstatus', 'Medu', 'Fedu', 'Mjob', 'Fjob', 'reason', 'guardian', 'traveltime', 'studytime', 'failures', 'schoolsup', 'famsup', 'paid', 'activities', 'nursery', 'higher', 'internet', 'romantic', 'famrel', 'freetime', 'goout', 'Dalc', 'Walc', 'health', 'absences']\n",
      "Target column: passed\n",
      "\n",
      "Feature values:-\n",
      "  school sex  age address famsize Pstatus  Medu  Fedu     Mjob      Fjob  \\\n",
      "0     GP   F   18       U     GT3       A     4     4  at_home   teacher   \n",
      "1     GP   F   17       U     GT3       T     1     1  at_home     other   \n",
      "2     GP   F   15       U     LE3       T     1     1  at_home     other   \n",
      "3     GP   F   15       U     GT3       T     4     2   health  services   \n",
      "4     GP   F   16       U     GT3       T     3     3    other     other   \n",
      "\n",
      "    ...    higher internet  romantic  famrel  freetime goout Dalc Walc health  \\\n",
      "0   ...       yes       no        no       4         3     4    1    1      3   \n",
      "1   ...       yes      yes        no       5         3     3    1    1      3   \n",
      "2   ...       yes      yes        no       4         3     2    2    3      3   \n",
      "3   ...       yes      yes       yes       3         2     2    1    1      5   \n",
      "4   ...       yes       no        no       4         3     2    1    2      5   \n",
      "\n",
      "  absences  \n",
      "0        6  \n",
      "1        4  \n",
      "2       10  \n",
      "3        2  \n",
      "4        4  \n",
      "\n",
      "[5 rows x 30 columns]\n"
     ]
    }
   ],
   "source": [
    "# Extract feature (X) and target (y) columns\n",
    "feature_cols = list(student_data.columns[:-1])  # all columns but last are features\n",
    "target_col = student_data.columns[-1]  # last column is the target/label\n",
    "print(\"Feature column(s):-\\n{}\".format(feature_cols))\n",
    "print(\"Target column: {}\".format(target_col))\n",
    "\n",
    "X_all = student_data[feature_cols]  # feature values for all students\n",
    "y_all = student_data[target_col]  # corresponding targets/labels\n",
    "print(\"\\nFeature values:-\")\n",
    "print(X_all.head())  # print the first 5 rows"
   ]
  },
  {
   "cell_type": "markdown",
   "metadata": {},
   "source": [
    "### Preprocess feature columns\n",
    "\n",
    "As you can see, there are several non-numeric columns that need to be converted! Many of them are simply `yes`/`no`, e.g. `internet`. These can be reasonably converted into `1`/`0` (binary) values.\n",
    "\n",
    "Other columns, like `Mjob` and `Fjob`, have more than two values, and are known as _categorical variables_. The recommended way to handle such a column is to create as many columns as possible values (e.g. `Fjob_teacher`, `Fjob_other`, `Fjob_services`, etc.), and assign a `1` to one of them and `0` to all others.\n",
    "\n",
    "These generated columns are sometimes called _dummy variables_, and we will use the [`pandas.get_dummies()`](http://pandas.pydata.org/pandas-docs/stable/generated/pandas.get_dummies.html?highlight=get_dummies#pandas.get_dummies) function to perform this transformation."
   ]
  },
  {
   "cell_type": "code",
   "execution_count": 5,
   "metadata": {
    "collapsed": false
   },
   "outputs": [
    {
     "name": "stdout",
     "output_type": "stream",
     "text": [
      "Processed feature columns (48):-\n",
      "['school_GP', 'school_MS', 'sex_F', 'sex_M', 'age', 'address_R', 'address_U', 'famsize_GT3', 'famsize_LE3', 'Pstatus_A', 'Pstatus_T', 'Medu', 'Fedu', 'Mjob_at_home', 'Mjob_health', 'Mjob_other', 'Mjob_services', 'Mjob_teacher', 'Fjob_at_home', 'Fjob_health', 'Fjob_other', 'Fjob_services', 'Fjob_teacher', 'reason_course', 'reason_home', 'reason_other', 'reason_reputation', 'guardian_father', 'guardian_mother', 'guardian_other', 'traveltime', 'studytime', 'failures', 'schoolsup', 'famsup', 'paid', 'activities', 'nursery', 'higher', 'internet', 'romantic', 'famrel', 'freetime', 'goout', 'Dalc', 'Walc', 'health', 'absences']\n"
     ]
    }
   ],
   "source": [
    "# Preprocess feature columns\n",
    "def preprocess_features(X):\n",
    "    outX = pd.DataFrame(index=X.index)  # output dataframe, initially empty\n",
    "\n",
    "    # Check each column\n",
    "    for col, col_data in X.iteritems():\n",
    "        # If data type is non-numeric, try to replace all yes/no values with 1/0\n",
    "        if col_data.dtype == object:\n",
    "            col_data = col_data.replace(['yes', 'no'], [1, 0])\n",
    "        # Note: This should change the data type for yes/no columns to int\n",
    "\n",
    "        # If still non-numeric, convert to one or more dummy variables\n",
    "        if col_data.dtype == object:\n",
    "            col_data = pd.get_dummies(col_data, prefix=col)  # e.g. 'school' => 'school_GP', 'school_MS'\n",
    "\n",
    "        outX = outX.join(col_data)  # collect column(s) in output dataframe\n",
    "\n",
    "    return outX\n",
    "\n",
    "X_all = preprocess_features(X_all)\n",
    "Y_all = student_data['passed'].replace(['yes', 'no'], [1, 0])\n",
    "print(\"Processed feature columns ({}):-\\n{}\".format(len(X_all.columns), list(X_all.columns)))"
   ]
  },
  {
   "cell_type": "markdown",
   "metadata": {},
   "source": [
    "### Split data into training and test sets\n",
    "\n",
    "So far, we have converted all _categorical_ features into numeric values. In this next step, we split the data (both features and corresponding labels) into training and test sets."
   ]
  },
  {
   "cell_type": "code",
   "execution_count": 6,
   "metadata": {
    "collapsed": false
   },
   "outputs": [
    {
     "name": "stdout",
     "output_type": "stream",
     "text": [
      "Training set: 300 samples\n",
      "Test set: 95 samples\n"
     ]
    }
   ],
   "source": [
    "# First, decide how many training vs test samples you want\n",
    "num_all = student_data.shape[0]  # same as len(student_data)\n",
    "num_train = 300  # about 75% of the data\n",
    "num_test = num_all - num_train\n",
    "\n",
    "# TODO: Then, select features (X) and corresponding labels (y) for the training and test sets\n",
    "# Note: Shuffle the data or randomly select samples to avoid any bias due to ordering in the dataset\n",
    "\n",
    "x_train, x_test, y_train, y_test = train_test_split(X_all, Y_all, test_size=num_test, random_state=42)\n",
    "\n",
    "print(\"Training set: {} samples\".format(x_train.shape[0]))\n",
    "print(\"Test set: {} samples\".format(x_test.shape[0]))\n",
    "# Note: If you need a validation set, extract it from within training data\n",
    "\n",
    "# Helper function for iterative testing later:\n",
    "def makeSamples(trainSize):\n",
    "    if trainSize == x_train.shape[0]:\n",
    "        return(x_train, y_train)\n",
    "    else:\n",
    "        sizedX, discX, sizedY, discY = train_test_split(x_train, y_train, test_size=trainSize, random_state=42)\n",
    "        return(sizedX, sizedY)"
   ]
  },
  {
   "cell_type": "markdown",
   "metadata": {},
   "source": [
    "## 4. Training and Evaluating Models\n",
    "Choose 3 supervised learning models that are available in scikit-learn, and appropriate for this problem. For each model:\n",
    "\n",
    "- What is the theoretical O(n) time & space complexity in terms of input size?\n",
    "- What are the general applications of this model? What are its strengths and weaknesses?\n",
    "- Given what you know about the data so far, why did you choose this model to apply?\n",
    "- Fit this model to the training data, try to predict labels (for both training and test sets), and measure the F<sub>1</sub> score. Repeat this process with different training set sizes (100, 200, 300), keeping test set constant.\n",
    "\n",
    "Produce a table showing training time, prediction time, F<sub>1</sub> score on training set and F<sub>1</sub> score on test set, for each training set size.\n",
    "\n",
    "Note: You need to produce 3 such tables - one for each model."
   ]
  },
  {
   "cell_type": "code",
   "execution_count": 7,
   "metadata": {
    "collapsed": false
   },
   "outputs": [
    {
     "data": {
      "text/plain": [
       "('Training Time', '0.002')"
      ]
     },
     "execution_count": 7,
     "metadata": {},
     "output_type": "execute_result"
    }
   ],
   "source": [
    "# Train a model\n",
    "import time\n",
    "\n",
    "def train_classifier(clf, X_train, y_train):\n",
    "    start = time.time()\n",
    "    clf.fit(X_train, y_train)\n",
    "    end = time.time()\n",
    "    return('Training Time','{:.3f}'.format(end - start))\n",
    "\n",
    "# TODO: Choose a model, import it and instantiate an object\n",
    "from sklearn import tree\n",
    "clf = tree.DecisionTreeClassifier()\n",
    "\n",
    "# Fit model to training data\n",
    "\n",
    "train_classifier(clf, x_train, y_train)  # note: using entire training set here\n",
    "#print(clf)  # you can inspect the learned model by printing it"
   ]
  },
  {
   "cell_type": "code",
   "execution_count": 8,
   "metadata": {
    "collapsed": false
   },
   "outputs": [
    {
     "name": "stdout",
     "output_type": "stream",
     "text": [
      "F1 score for training set: (1.0, '0.000')\n"
     ]
    }
   ],
   "source": [
    "# Predict on training set and compute F1 score\n",
    "from sklearn.metrics import f1_score\n",
    "\n",
    "def predict_labels(clf, features, target):\n",
    "    start = time.time()\n",
    "    y_pred = clf.predict(features)\n",
    "    end = time.time()\n",
    "    return(f1_score(target.values, y_pred), \"{:.3f}\".format(end - start))\n",
    "\n",
    "train_f1_score = predict_labels(clf, x_train, y_train)\n",
    "print(\"F1 score for training set: {}\".format(train_f1_score))"
   ]
  },
  {
   "cell_type": "code",
   "execution_count": 9,
   "metadata": {
    "collapsed": false
   },
   "outputs": [
    {
     "name": "stdout",
     "output_type": "stream",
     "text": [
      "F1 score for test set: (0.66666666666666663, '0.001')\n"
     ]
    }
   ],
   "source": [
    "# Predict on test data\n",
    "print(\"F1 score for test set: {}\".format(predict_labels(clf, x_test, y_test)))"
   ]
  },
  {
   "cell_type": "markdown",
   "metadata": {},
   "source": [
    "### 4. a -  Decision Tree Classifier\n",
    "- What is the theoretical O(n) time & space complexity in terms of input size?\n",
    "\n",
    "According to the scikit-learn reference material, the O(n) time expense for training a tree is O(n²*f*log(n)) where n is the number of samples and f is the number of features. There are alternative implimentations in scikit-learn that can be more efficient in some circumstances.\n",
    "\n",
    "The greatest impact comes from the number of training examples which has a logarithmic effect on the time growth. There is also a linear effect from the number of features (since each node needs to iterate each feature). From what I can see the memory cost should be a constant n plus a small overhead for the nodes as they are computed, there should be no need to copy the training set as subsets can be used through training.\n",
    "\n",
    "Query time is estimated to be O(log(n)).\n",
    "\n",
    "- What are the general applications of this model? What are its strengths and weaknesses?\n",
    "\n",
    "Decision trees have a few advantages over other models in that they can handle much less processed data (they can work with categorical values instead of needing dummies) and when not overly complex can create easily understood (white-box) models. \n",
    "\n",
    "Their downsides are they can tend towards overfitting if given too many features or not structured correctly in training. They can also be biased if the training classes are too uneven and can become computationally expensive in training with too many inputs or features. \n",
    "\n",
    "- Given what you know about the data so far, why did you choose this model to apply?\n",
    "\n",
    " Our data is limited in both the number of features and observations and has already been cleaned more than neccesary for a decision tree so it is a good fit to test with. The added bonus of the model being easily visualized and explained could also prove useful in getting the board's buy in if it is the chosen model. \n",
    "\n",
    "- Fit this model to the training data, try to predict labels (for both training and test sets), and measure the F<sub>1</sub> score. Repeat this process with different training set sizes (100, 200, 300), keeping test set constant."
   ]
  },
  {
   "cell_type": "code",
   "execution_count": 10,
   "metadata": {
    "collapsed": false
   },
   "outputs": [
    {
     "data": {
      "text/html": [
       "<div>\n",
       "<table border=\"1\" class=\"dataframe\">\n",
       "  <thead>\n",
       "    <tr style=\"text-align: right;\">\n",
       "      <th></th>\n",
       "      <th>Training Size</th>\n",
       "      <th>Train Time</th>\n",
       "      <th>Training F1</th>\n",
       "      <th>Train Pred Time</th>\n",
       "      <th>Test Pred Time</th>\n",
       "      <th>Test F1</th>\n",
       "    </tr>\n",
       "  </thead>\n",
       "  <tbody>\n",
       "    <tr>\n",
       "      <th>DecisionTreeClassifier_100</th>\n",
       "      <td>100</td>\n",
       "      <td>0.001</td>\n",
       "      <td>0.911392</td>\n",
       "      <td>0.000</td>\n",
       "      <td>0.001</td>\n",
       "      <td>0.811189</td>\n",
       "    </tr>\n",
       "    <tr>\n",
       "      <th>DecisionTreeClassifier_200</th>\n",
       "      <td>200</td>\n",
       "      <td>0.001</td>\n",
       "      <td>0.855172</td>\n",
       "      <td>0.000</td>\n",
       "      <td>0.000</td>\n",
       "      <td>0.808511</td>\n",
       "    </tr>\n",
       "    <tr>\n",
       "      <th>DecisionTreeClassifier_300</th>\n",
       "      <td>300</td>\n",
       "      <td>0.001</td>\n",
       "      <td>0.829157</td>\n",
       "      <td>0.001</td>\n",
       "      <td>0.000</td>\n",
       "      <td>0.761194</td>\n",
       "    </tr>\n",
       "  </tbody>\n",
       "</table>\n",
       "</div>"
      ],
      "text/plain": [
       "                           Training Size Train Time Training F1  \\\n",
       "DecisionTreeClassifier_100           100      0.001    0.911392   \n",
       "DecisionTreeClassifier_200           200      0.001    0.855172   \n",
       "DecisionTreeClassifier_300           300      0.001    0.829157   \n",
       "\n",
       "                           Train Pred Time Test Pred Time   Test F1  \n",
       "DecisionTreeClassifier_100           0.000          0.001  0.811189  \n",
       "DecisionTreeClassifier_200           0.000          0.000  0.808511  \n",
       "DecisionTreeClassifier_300           0.001          0.000  0.761194  "
      ]
     },
     "execution_count": 10,
     "metadata": {},
     "output_type": "execute_result"
    }
   ],
   "source": [
    "from sklearn import tree\n",
    "\n",
    "resultTable = {}\n",
    "sizes = [100,200,300]\n",
    "\n",
    "# Train and predict using different training set sizes\n",
    "def train_predict(clf, x_train, y_train, x_test, y_test):\n",
    "    mdl = clf.__class__.__name__ + '_' +  str(len(x_train))\n",
    "    if mdl not in resultTable:\n",
    "        resultTable[mdl] = {}\n",
    "    resultTable[mdl]['Training Size'] = len(x_train)\n",
    "    resultTable[mdl]['Train Time'] = train_classifier(clf, x_train, y_train)[1]\n",
    "    pred = predict_labels(clf, x_train, y_train)\n",
    "    resultTable[mdl]['Training F1'] = pred[0]\n",
    "    resultTable[mdl]['Train Pred Time'] = pred[1]\n",
    "    test = predict_labels(clf, x_test, y_test)\n",
    "    resultTable[mdl]['Test F1'] = test[0]\n",
    "    resultTable[mdl]['Test Pred Time'] = test[1]\n",
    "\n",
    "\n",
    "models = [tree.DecisionTreeClassifier()]\n",
    "params = {'DecisionTreeClassifier':{'max_depth':3}}\n",
    "\n",
    "for m in models:\n",
    "    clf = m\n",
    "    if clf.__class__.__name__ in params:\n",
    "        clf.set_params(**params[clf.__class__.__name__])\n",
    "    for s in sizes:\n",
    "        tX, tY = makeSamples(s)\n",
    "        train_predict(clf, tX, tY, x_test, y_test)\n",
    "\n",
    "pd.DataFrame.from_dict(resultTable).T[['Training Size','Train Time','Training F1','Train Pred Time','Test Pred Time','Test F1']]"
   ]
  },
  {
   "cell_type": "markdown",
   "metadata": {},
   "source": [
    "### 4. b -  K Nearest Neighbors \n",
    "- What is the theoretical O(n) time & space complexity in terms of input size?\n",
    "\n",
    "From our lecture, k Nearest Neighbors tends to have a very low training cost of O(1) in terms of time since it simple loads the data to the model. The memory cost is linear with the size of the training sample or O(n). The trade-off is that the query time is higher since the model needs to find the appropriate point and identify the appropriate points with an O(log(n) + k) although the memory remains constant.\n",
    "\n",
    "- What are the general applications of this model? What are its strengths and weaknesses?\n",
    "\n",
    "The model is different than Decision Trees since it is instance based and doesn't try and produce a model of the data (instead just polling k training data points that are nearest the queried point to see which class they fit into). Since there is no underlying model, this means that KNN can better represent iregular decision boundaries (since there is no need for a very complex equation to have been modeled) but this is a two edged sword since outliers can skew the boundary or create an area of false positives behing the primary boundary.\n",
    "\n",
    "- Given what you know about the data so far, why did you choose this model to apply?\n",
    "\n",
    "Scikit's documentation indicates that KNN has been applied in a large number of situations succesfully where other models may have difficulty approximating a function to model the data.\n",
    "\n",
    "- Fit this model to the training data, try to predict labels (for both training and test sets), and measure the F<sub>1</sub> score. Repeat this process with different training set sizes (100, 200, 300), keeping test set constant.\n",
    "\n"
   ]
  },
  {
   "cell_type": "code",
   "execution_count": 14,
   "metadata": {
    "collapsed": false
   },
   "outputs": [
    {
     "data": {
      "text/html": [
       "<div>\n",
       "<table border=\"1\" class=\"dataframe\">\n",
       "  <thead>\n",
       "    <tr style=\"text-align: right;\">\n",
       "      <th></th>\n",
       "      <th>Training Size</th>\n",
       "      <th>Train Time</th>\n",
       "      <th>Training F1</th>\n",
       "      <th>Train Pred Time</th>\n",
       "      <th>Test Pred Time</th>\n",
       "      <th>Test F1</th>\n",
       "    </tr>\n",
       "  </thead>\n",
       "  <tbody>\n",
       "    <tr>\n",
       "      <th>KNeighborsClassifier_100</th>\n",
       "      <td>100</td>\n",
       "      <td>0.001</td>\n",
       "      <td>0.88</td>\n",
       "      <td>0.002</td>\n",
       "      <td>0.002</td>\n",
       "      <td>0.767123</td>\n",
       "    </tr>\n",
       "    <tr>\n",
       "      <th>KNeighborsClassifier_200</th>\n",
       "      <td>200</td>\n",
       "      <td>0.001</td>\n",
       "      <td>0.872483</td>\n",
       "      <td>0.003</td>\n",
       "      <td>0.004</td>\n",
       "      <td>0.8</td>\n",
       "    </tr>\n",
       "    <tr>\n",
       "      <th>KNeighborsClassifier_300</th>\n",
       "      <td>300</td>\n",
       "      <td>0.000</td>\n",
       "      <td>0.875847</td>\n",
       "      <td>0.004</td>\n",
       "      <td>0.003</td>\n",
       "      <td>0.76259</td>\n",
       "    </tr>\n",
       "  </tbody>\n",
       "</table>\n",
       "</div>"
      ],
      "text/plain": [
       "                         Training Size Train Time Training F1 Train Pred Time  \\\n",
       "KNeighborsClassifier_100           100      0.001        0.88           0.002   \n",
       "KNeighborsClassifier_200           200      0.001    0.872483           0.003   \n",
       "KNeighborsClassifier_300           300      0.000    0.875847           0.004   \n",
       "\n",
       "                         Test Pred Time   Test F1  \n",
       "KNeighborsClassifier_100          0.002  0.767123  \n",
       "KNeighborsClassifier_200          0.004       0.8  \n",
       "KNeighborsClassifier_300          0.003   0.76259  "
      ]
     },
     "execution_count": 14,
     "metadata": {},
     "output_type": "execute_result"
    }
   ],
   "source": [
    "# Add another model, let's use a KNN\n",
    "from sklearn import neighbors \n",
    "\n",
    "resultTable = {}\n",
    "\n",
    "# Train and predict using different training set sizes\n",
    "def train_predict(clf, x_train, y_train, x_test, y_test):\n",
    "    mdl = clf.__class__.__name__ + '_' +  str(len(x_train))\n",
    "    if mdl not in resultTable:\n",
    "        resultTable[mdl] = {}\n",
    "    resultTable[mdl]['Training Size'] = len(x_train)\n",
    "    resultTable[mdl]['Train Time'] = train_classifier(clf, x_train, y_train)[1]\n",
    "    pred = predict_labels(clf, x_train, y_train)\n",
    "    resultTable[mdl]['Training F1'] = pred[0]\n",
    "    resultTable[mdl]['Train Pred Time'] = pred[1]\n",
    "    test = predict_labels(clf, x_test, y_test)\n",
    "    resultTable[mdl]['Test F1'] = test[0]\n",
    "    resultTable[mdl]['Test Pred Time'] = test[1]\n",
    "\n",
    "\n",
    "models = [neighbors.KNeighborsClassifier()]\n",
    "params = {'KNeighborsClassifier':{'n_neighbors':5,'algorithm':'brute'}}\n",
    "\n",
    "for m in models:\n",
    "    clf = m\n",
    "    if clf.__class__.__name__ in params:\n",
    "        clf.set_params(**params[clf.__class__.__name__])\n",
    "    for s in sizes:\n",
    "        tX, tY = makeSamples(s)\n",
    "        train_predict(clf, tX, tY, x_test, y_test)\n",
    "\n",
    "pd.DataFrame.from_dict(resultTable).T[['Training Size','Train Time','Training F1','Train Pred Time','Test Pred Time','Test F1']]"
   ]
  },
  {
   "cell_type": "markdown",
   "metadata": {},
   "source": [
    "### 4. c -  Linear SVC\n",
    "- What is the theoretical O(n) time & space complexity in terms of input size?\n",
    "- What are the general applications of this model? What are its strengths and weaknesses?\n",
    "- Given what you know about the data so far, why did you choose this model to apply?\n",
    "- Fit this model to the training data, try to predict labels (for both training and test sets), and measure the F<sub>1</sub> score. Repeat this process with different training set sizes (100, 200, 300), keeping test set constant.\n",
    "\n"
   ]
  },
  {
   "cell_type": "code",
   "execution_count": 12,
   "metadata": {
    "collapsed": false
   },
   "outputs": [
    {
     "data": {
      "text/html": [
       "<div>\n",
       "<table border=\"1\" class=\"dataframe\">\n",
       "  <thead>\n",
       "    <tr style=\"text-align: right;\">\n",
       "      <th></th>\n",
       "      <th>Training Size</th>\n",
       "      <th>Train Time</th>\n",
       "      <th>Training F1</th>\n",
       "      <th>Train Pred Time</th>\n",
       "      <th>Test Pred Time</th>\n",
       "      <th>Test F1</th>\n",
       "    </tr>\n",
       "  </thead>\n",
       "  <tbody>\n",
       "    <tr>\n",
       "      <th>SVC_100</th>\n",
       "      <td>100</td>\n",
       "      <td>0.001</td>\n",
       "      <td>0.904459</td>\n",
       "      <td>0.001</td>\n",
       "      <td>0.001</td>\n",
       "      <td>0.768212</td>\n",
       "    </tr>\n",
       "    <tr>\n",
       "      <th>SVC_200</th>\n",
       "      <td>200</td>\n",
       "      <td>0.005</td>\n",
       "      <td>0.890323</td>\n",
       "      <td>0.003</td>\n",
       "      <td>0.002</td>\n",
       "      <td>0.797297</td>\n",
       "    </tr>\n",
       "    <tr>\n",
       "      <th>SVC_300</th>\n",
       "      <td>300</td>\n",
       "      <td>0.008</td>\n",
       "      <td>0.876068</td>\n",
       "      <td>0.006</td>\n",
       "      <td>0.002</td>\n",
       "      <td>0.783784</td>\n",
       "    </tr>\n",
       "  </tbody>\n",
       "</table>\n",
       "</div>"
      ],
      "text/plain": [
       "        Training Size Train Time Training F1 Train Pred Time Test Pred Time  \\\n",
       "SVC_100           100      0.001    0.904459           0.001          0.001   \n",
       "SVC_200           200      0.005    0.890323           0.003          0.002   \n",
       "SVC_300           300      0.008    0.876068           0.006          0.002   \n",
       "\n",
       "          Test F1  \n",
       "SVC_100  0.768212  \n",
       "SVC_200  0.797297  \n",
       "SVC_300  0.783784  "
      ]
     },
     "execution_count": 12,
     "metadata": {},
     "output_type": "execute_result"
    }
   ],
   "source": [
    "# Add another model, let's use a KNN\n",
    "from sklearn import svm \n",
    "\n",
    "resultTable = {}\n",
    "\n",
    "# Train and predict using different training set sizes\n",
    "def train_predict(clf, x_train, y_train, x_test, y_test):\n",
    "    mdl = clf.__class__.__name__ + '_' +  str(len(x_train))\n",
    "    if mdl not in resultTable:\n",
    "        resultTable[mdl] = {}\n",
    "    resultTable[mdl]['Training Size'] = len(x_train)\n",
    "    resultTable[mdl]['Train Time'] = train_classifier(clf, x_train, y_train)[1]\n",
    "    pred = predict_labels(clf, x_train, y_train)\n",
    "    resultTable[mdl]['Training F1'] = pred[0]\n",
    "    resultTable[mdl]['Train Pred Time'] = pred[1]\n",
    "    test = predict_labels(clf, x_test, y_test)\n",
    "    resultTable[mdl]['Test F1'] = test[0]\n",
    "    resultTable[mdl]['Test Pred Time'] = test[1]\n",
    "\n",
    "\n",
    "models = [svm.SVC()]\n",
    "params = {'LinearSVC':{'loss':'hinge'}}\n",
    "\n",
    "for m in models:\n",
    "    clf = m\n",
    "    if clf.__class__.__name__ in params:\n",
    "        clf.set_params(**params[clf.__class__.__name__])\n",
    "    for s in sizes:\n",
    "        tX, tY = makeSamples(s)\n",
    "        train_predict(clf, tX, tY, x_test, y_test)\n",
    "\n",
    "pd.DataFrame.from_dict(resultTable).T[['Training Size','Train Time','Training F1','Train Pred Time','Test Pred Time','Test F1']]"
   ]
  },
  {
   "cell_type": "markdown",
   "metadata": {},
   "source": [
    "## 5. Choosing the Best Model\n",
    "\n",
    "- Based on the experiments you performed earlier, in 1-2 paragraphs explain to the board of supervisors what single model you chose as the best model. Which model is generally the most appropriate based on the available data, limited resources, cost, and performance?\n",
    "- In 1-2 paragraphs explain to the board of supervisors in layman's terms how the final model chosen is supposed to work (for example if you chose a Decision Tree or Support Vector Machine, how does it make a prediction).\n",
    "- Fine-tune the model. Use Gridsearch with at least one important parameter tuned and with at least 3 settings. Use the entire training set for this.\n",
    "- What is the model's final F<sub>1</sub> score?"
   ]
  },
  {
   "cell_type": "code",
   "execution_count": null,
   "metadata": {
    "collapsed": false
   },
   "outputs": [],
   "source": []
  }
 ],
 "metadata": {
  "kernelspec": {
   "display_name": "Python 3",
   "language": "python",
   "name": "python3"
  },
  "language_info": {
   "codemirror_mode": {
    "name": "ipython",
    "version": 3
   },
   "file_extension": ".py",
   "mimetype": "text/x-python",
   "name": "python",
   "nbconvert_exporter": "python",
   "pygments_lexer": "ipython3",
   "version": "3.5.0"
  }
 },
 "nbformat": 4,
 "nbformat_minor": 0
}
