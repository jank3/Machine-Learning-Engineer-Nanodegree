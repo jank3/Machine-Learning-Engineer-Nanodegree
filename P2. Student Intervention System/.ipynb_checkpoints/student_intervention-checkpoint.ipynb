{
 "cells": [
  {
   "cell_type": "markdown",
   "metadata": {},
   "source": [
    "# Project 2: Supervised Learning\n",
    "### Building a Student Intervention System"
   ]
  },
  {
   "cell_type": "markdown",
   "metadata": {},
   "source": [
    "## 1. Classification vs Regression\n",
    "\n",
    "Your goal is to identify students who might need early intervention - which type of supervised machine learning problem is this, classification or regression? Why?"
   ]
  },
  {
   "cell_type": "markdown",
   "metadata": {},
   "source": [
    "## 2. Exploring the Data\n",
    "\n",
    "Let's go ahead and read in the student dataset first.\n",
    "\n",
    "_To execute a code cell, click inside it and press **Shift+Enter**._"
   ]
  },
  {
   "cell_type": "code",
   "execution_count": 1,
   "metadata": {
    "collapsed": false
   },
   "outputs": [],
   "source": [
    "# Import libraries\n",
    "import numpy as np\n",
    "import pandas as pd\n",
    "from sklearn.cross_validation import train_test_split"
   ]
  },
  {
   "cell_type": "code",
   "execution_count": 2,
   "metadata": {
    "collapsed": false
   },
   "outputs": [
    {
     "name": "stdout",
     "output_type": "stream",
     "text": [
      "Student data read successfully!\n"
     ]
    }
   ],
   "source": [
    "# Read student data\n",
    "student_data = pd.read_csv(\"student-data.csv\")\n",
    "print(\"Student data read successfully!\")\n",
    "# Note: The last column 'passed' is the target/label, all other are feature columns"
   ]
  },
  {
   "cell_type": "markdown",
   "metadata": {},
   "source": [
    "Now, can you find out the following facts about the dataset?\n",
    "- Total number of students\n",
    "- Number of students who passed\n",
    "- Number of students who failed\n",
    "- Graduation rate of the class (%)\n",
    "- Number of features\n",
    "\n",
    "_Use the code block below to compute these values. Instructions/steps are marked using **TODO**s._"
   ]
  },
  {
   "cell_type": "code",
   "execution_count": 3,
   "metadata": {
    "collapsed": false
   },
   "outputs": [
    {
     "name": "stdout",
     "output_type": "stream",
     "text": [
      "Total number of students: 395\n",
      "Number of students who passed: 265\n",
      "Number of students who failed: 130\n",
      "Number of features: 31\n",
      "Graduation rate of the class: 67.09%\n"
     ]
    }
   ],
   "source": [
    "n_students = np.shape(student_data)[0]\n",
    "n_features = np.shape(student_data)[1]\n",
    "n_passed = len(student_data[student_data.passed=='yes'])\n",
    "n_failed = len(student_data[student_data.passed=='no'])\n",
    "grad_rate = (n_passed/n_students)*100\n",
    "print(\"Total number of students: {}\".format(n_students))\n",
    "print(\"Number of students who passed: {}\".format(n_passed))\n",
    "print(\"Number of students who failed: {}\".format(n_failed))\n",
    "print(\"Number of features: {}\".format(n_features))\n",
    "print(\"Graduation rate of the class: {:.2f}%\".format(grad_rate))"
   ]
  },
  {
   "cell_type": "markdown",
   "metadata": {},
   "source": [
    "## 3. Preparing the Data\n",
    "In this section, we will prepare the data for modeling, training and testing.\n",
    "\n",
    "### Identify feature and target columns\n",
    "It is often the case that the data you obtain contains non-numeric features. This can be a problem, as most machine learning algorithms expect numeric data to perform computations with.\n",
    "\n",
    "Let's first separate our data into feature and target columns, and see if any features are non-numeric.<br/>\n",
    "**Note**: For this dataset, the last column (`'passed'`) is the target or label we are trying to predict."
   ]
  },
  {
   "cell_type": "code",
   "execution_count": 4,
   "metadata": {
    "collapsed": false
   },
   "outputs": [
    {
     "name": "stdout",
     "output_type": "stream",
     "text": [
      "Feature column(s):-\n",
      "['school', 'sex', 'age', 'address', 'famsize', 'Pstatus', 'Medu', 'Fedu', 'Mjob', 'Fjob', 'reason', 'guardian', 'traveltime', 'studytime', 'failures', 'schoolsup', 'famsup', 'paid', 'activities', 'nursery', 'higher', 'internet', 'romantic', 'famrel', 'freetime', 'goout', 'Dalc', 'Walc', 'health', 'absences']\n",
      "Target column: passed\n",
      "\n",
      "Feature values:-\n",
      "  school sex  age address famsize Pstatus  Medu  Fedu     Mjob      Fjob  \\\n",
      "0     GP   F   18       U     GT3       A     4     4  at_home   teacher   \n",
      "1     GP   F   17       U     GT3       T     1     1  at_home     other   \n",
      "2     GP   F   15       U     LE3       T     1     1  at_home     other   \n",
      "3     GP   F   15       U     GT3       T     4     2   health  services   \n",
      "4     GP   F   16       U     GT3       T     3     3    other     other   \n",
      "\n",
      "    ...    higher internet  romantic  famrel  freetime goout Dalc Walc health  \\\n",
      "0   ...       yes       no        no       4         3     4    1    1      3   \n",
      "1   ...       yes      yes        no       5         3     3    1    1      3   \n",
      "2   ...       yes      yes        no       4         3     2    2    3      3   \n",
      "3   ...       yes      yes       yes       3         2     2    1    1      5   \n",
      "4   ...       yes       no        no       4         3     2    1    2      5   \n",
      "\n",
      "  absences  \n",
      "0        6  \n",
      "1        4  \n",
      "2       10  \n",
      "3        2  \n",
      "4        4  \n",
      "\n",
      "[5 rows x 30 columns]\n"
     ]
    }
   ],
   "source": [
    "# Extract feature (X) and target (y) columns\n",
    "feature_cols = list(student_data.columns[:-1])  # all columns but last are features\n",
    "target_col = student_data.columns[-1]  # last column is the target/label\n",
    "print(\"Feature column(s):-\\n{}\".format(feature_cols))\n",
    "print(\"Target column: {}\".format(target_col))\n",
    "\n",
    "X_all = student_data[feature_cols]  # feature values for all students\n",
    "y_all = student_data[target_col]  # corresponding targets/labels\n",
    "print(\"\\nFeature values:-\")\n",
    "print(X_all.head())  # print the first 5 rows"
   ]
  },
  {
   "cell_type": "markdown",
   "metadata": {},
   "source": [
    "### Preprocess feature columns\n",
    "\n",
    "As you can see, there are several non-numeric columns that need to be converted! Many of them are simply `yes`/`no`, e.g. `internet`. These can be reasonably converted into `1`/`0` (binary) values.\n",
    "\n",
    "Other columns, like `Mjob` and `Fjob`, have more than two values, and are known as _categorical variables_. The recommended way to handle such a column is to create as many columns as possible values (e.g. `Fjob_teacher`, `Fjob_other`, `Fjob_services`, etc.), and assign a `1` to one of them and `0` to all others.\n",
    "\n",
    "These generated columns are sometimes called _dummy variables_, and we will use the [`pandas.get_dummies()`](http://pandas.pydata.org/pandas-docs/stable/generated/pandas.get_dummies.html?highlight=get_dummies#pandas.get_dummies) function to perform this transformation."
   ]
  },
  {
   "cell_type": "code",
   "execution_count": 5,
   "metadata": {
    "collapsed": false
   },
   "outputs": [
    {
     "name": "stdout",
     "output_type": "stream",
     "text": [
      "Processed feature columns (48):-\n",
      "['school_GP', 'school_MS', 'sex_F', 'sex_M', 'age', 'address_R', 'address_U', 'famsize_GT3', 'famsize_LE3', 'Pstatus_A', 'Pstatus_T', 'Medu', 'Fedu', 'Mjob_at_home', 'Mjob_health', 'Mjob_other', 'Mjob_services', 'Mjob_teacher', 'Fjob_at_home', 'Fjob_health', 'Fjob_other', 'Fjob_services', 'Fjob_teacher', 'reason_course', 'reason_home', 'reason_other', 'reason_reputation', 'guardian_father', 'guardian_mother', 'guardian_other', 'traveltime', 'studytime', 'failures', 'schoolsup', 'famsup', 'paid', 'activities', 'nursery', 'higher', 'internet', 'romantic', 'famrel', 'freetime', 'goout', 'Dalc', 'Walc', 'health', 'absences']\n"
     ]
    }
   ],
   "source": [
    "# Preprocess feature columns\n",
    "def preprocess_features(X):\n",
    "    outX = pd.DataFrame(index=X.index)  # output dataframe, initially empty\n",
    "\n",
    "    # Check each column\n",
    "    for col, col_data in X.iteritems():\n",
    "        # If data type is non-numeric, try to replace all yes/no values with 1/0\n",
    "        if col_data.dtype == object:\n",
    "            col_data = col_data.replace(['yes', 'no'], [1, 0])\n",
    "        # Note: This should change the data type for yes/no columns to int\n",
    "\n",
    "        # Normalize numeric fields\n",
    "        if col_data.dtype == 'int64' or col_data.dtype == float:\n",
    "            mmin = col_data.min()\n",
    "            mmax = col_data.max()\n",
    "            col_data = col_data.apply(lambda x: (x - mmin) / (mmax - mmin))\n",
    "        \n",
    "        # If still non-numeric, convert to one or more dummy variables\n",
    "        if col_data.dtype == object:\n",
    "            col_data = pd.get_dummies(col_data, prefix=col)  # e.g. 'school' => 'school_GP', 'school_MS'\n",
    "            \n",
    "        outX = outX.join(col_data)  # collect column(s) in output dataframe\n",
    "\n",
    "    return outX\n",
    "\n",
    "X_all = preprocess_features(X_all)\n",
    "Y_all = student_data['passed'].replace(['yes', 'no'], [1, 0])\n",
    "print(\"Processed feature columns ({}):-\\n{}\".format(len(X_all.columns), list(X_all.columns)))"
   ]
  },
  {
   "cell_type": "markdown",
   "metadata": {},
   "source": [
    "### Split data into training and test sets\n",
    "\n",
    "So far, we have converted all _categorical_ features into numeric values. In this next step, we split the data (both features and corresponding labels) into training and test sets."
   ]
  },
  {
   "cell_type": "code",
   "execution_count": 6,
   "metadata": {
    "collapsed": false
   },
   "outputs": [
    {
     "name": "stdout",
     "output_type": "stream",
     "text": [
      "Training set: 300 samples\n",
      "Test set: 95 samples\n"
     ]
    }
   ],
   "source": [
    "# First, decide how many training vs test samples you want\n",
    "num_all = student_data.shape[0]  # same as len(student_data)\n",
    "num_train = 300  # about 75% of the data\n",
    "num_test = num_all - num_train\n",
    "\n",
    "# TODO: Then, select features (X) and corresponding labels (y) for the training and test sets\n",
    "# Note: Shuffle the data or randomly select samples to avoid any bias due to ordering in the dataset\n",
    "\n",
    "x_train, x_test, y_train, y_test = train_test_split(X_all, Y_all, test_size=num_test, random_state=42)\n",
    "\n",
    "print(\"Training set: {} samples\".format(x_train.shape[0]))\n",
    "print(\"Test set: {} samples\".format(x_test.shape[0]))\n",
    "# Note: If you need a validation set, extract it from within training data\n",
    "\n",
    "# Helper function for iterative testing later:\n",
    "def makeSamples(trainSize):\n",
    "    if trainSize == x_train.shape[0]:\n",
    "        return(x_train, y_train)\n",
    "    else:\n",
    "        sizedX, discX, sizedY, discY = train_test_split(x_train, y_train, test_size=trainSize, random_state=42)\n",
    "        return(sizedX, sizedY)"
   ]
  },
  {
   "cell_type": "markdown",
   "metadata": {},
   "source": [
    "## 4. Training and Evaluating Models\n",
    "Choose 3 supervised learning models that are available in scikit-learn, and appropriate for this problem. For each model:\n",
    "\n",
    "- What is the theoretical O(n) time & space complexity in terms of input size?\n",
    "- What are the general applications of this model? What are its strengths and weaknesses?\n",
    "- Given what you know about the data so far, why did you choose this model to apply?\n",
    "- Fit this model to the training data, try to predict labels (for both training and test sets), and measure the F<sub>1</sub> score. Repeat this process with different training set sizes (100, 200, 300), keeping test set constant.\n",
    "\n",
    "Produce a table showing training time, prediction time, F<sub>1</sub> score on training set and F<sub>1</sub> score on test set, for each training set size.\n",
    "\n",
    "Note: You need to produce 3 such tables - one for each model."
   ]
  },
  {
   "cell_type": "code",
   "execution_count": 7,
   "metadata": {
    "collapsed": false
   },
   "outputs": [
    {
     "data": {
      "text/plain": [
       "('Training Time', '0.002')"
      ]
     },
     "execution_count": 7,
     "metadata": {},
     "output_type": "execute_result"
    }
   ],
   "source": [
    "# Train a model\n",
    "import time\n",
    "\n",
    "def train_classifier(clf, X_train, y_train):\n",
    "    start = time.time()\n",
    "    clf.fit(X_train, y_train)\n",
    "    end = time.time()\n",
    "    return('Training Time','{:.3f}'.format(end - start))\n",
    "\n",
    "# TODO: Choose a model, import it and instantiate an object\n",
    "from sklearn import tree\n",
    "clf = tree.DecisionTreeClassifier()\n",
    "\n",
    "# Fit model to training data\n",
    "\n",
    "train_classifier(clf, x_train, y_train)  # note: using entire training set here\n",
    "#print(clf)  # you can inspect the learned model by printing it"
   ]
  },
  {
   "cell_type": "code",
   "execution_count": 8,
   "metadata": {
    "collapsed": false
   },
   "outputs": [
    {
     "name": "stdout",
     "output_type": "stream",
     "text": [
      "F1 score for training set: (1.0, '0.001')\n"
     ]
    }
   ],
   "source": [
    "# Predict on training set and compute F1 score\n",
    "from sklearn.metrics import f1_score\n",
    "\n",
    "def predict_labels(clf, features, target):\n",
    "    start = time.time()\n",
    "    y_pred = clf.predict(features)\n",
    "    end = time.time()\n",
    "    return(f1_score(target.values, y_pred), \"{:.3f}\".format(end - start))\n",
    "\n",
    "train_f1_score = predict_labels(clf, x_train, y_train)\n",
    "print(\"F1 score for training set: {}\".format(train_f1_score))"
   ]
  },
  {
   "cell_type": "code",
   "execution_count": 9,
   "metadata": {
    "collapsed": false
   },
   "outputs": [
    {
     "name": "stdout",
     "output_type": "stream",
     "text": [
      "F1 score for test set: (0.63934426229508201, '0.000')\n"
     ]
    }
   ],
   "source": [
    "# Predict on test data\n",
    "print(\"F1 score for test set: {}\".format(predict_labels(clf, x_test, y_test)))"
   ]
  },
  {
   "cell_type": "markdown",
   "metadata": {},
   "source": [
    "### 4. a -  Decision Tree Classifier\n",
    "- What is the theoretical O(n) time & space complexity in terms of input size?\n",
    "\n",
    "According to the scikit-learn reference material, the O(n) time expense for training a tree is O(n²*f*log(n)) where n is the number of samples and f is the number of features. There are alternative implimentations in scikit-learn that can be more efficient in some circumstances.\n",
    "\n",
    "The greatest impact comes from the number of training examples which has a logarithmic effect on the time growth. There is also a linear effect from the number of features (since each node needs to iterate each feature). From what I can see the memory cost should be a constant n plus a small overhead for the nodes as they are computed, there should be no need to copy the training set as subsets can be used through training.\n",
    "\n",
    "Query time is estimated to be O(log(n)).\n",
    "\n",
    "- What are the general applications of this model? What are its strengths and weaknesses?\n",
    "\n",
    "Decision trees have a few advantages over other models in that they can handle much less processed data (they can work with categorical values instead of needing dummies) and when not overly complex can create easily understood (white-box) models. \n",
    "\n",
    "Their downsides are they can tend towards overfitting if given too many features or not structured correctly in training. They can also be biased if the training classes are too uneven and can become computationally expensive in training with too many inputs or features. \n",
    "\n",
    "- Given what you know about the data so far, why did you choose this model to apply?\n",
    "\n",
    " Our data is limited in both the number of features and observations and has already been cleaned more than neccesary for a decision tree so it is a good fit to test with. The added bonus of the model being easily visualized and explained could also prove useful in getting the board's buy in if it is the chosen model. \n",
    "\n",
    "- Fit this model to the training data, try to predict labels (for both training and test sets), and measure the F<sub>1</sub> score. Repeat this process with different training set sizes (100, 200, 300), keeping test set constant."
   ]
  },
  {
   "cell_type": "code",
   "execution_count": 10,
   "metadata": {
    "collapsed": false
   },
   "outputs": [
    {
     "data": {
      "text/html": [
       "<div>\n",
       "<table border=\"1\" class=\"dataframe\">\n",
       "  <thead>\n",
       "    <tr style=\"text-align: right;\">\n",
       "      <th></th>\n",
       "      <th>Training Size</th>\n",
       "      <th>Train Time</th>\n",
       "      <th>Training F1</th>\n",
       "      <th>Train Pred Time</th>\n",
       "      <th>Test Pred Time</th>\n",
       "      <th>Test F1</th>\n",
       "    </tr>\n",
       "  </thead>\n",
       "  <tbody>\n",
       "    <tr>\n",
       "      <th>DecisionTreeClassifier_100</th>\n",
       "      <td>100</td>\n",
       "      <td>0.001</td>\n",
       "      <td>0.938776</td>\n",
       "      <td>0.000</td>\n",
       "      <td>0.000</td>\n",
       "      <td>0.817518</td>\n",
       "    </tr>\n",
       "    <tr>\n",
       "      <th>DecisionTreeClassifier_200</th>\n",
       "      <td>200</td>\n",
       "      <td>0.001</td>\n",
       "      <td>0.922559</td>\n",
       "      <td>0.001</td>\n",
       "      <td>0.000</td>\n",
       "      <td>0.788732</td>\n",
       "    </tr>\n",
       "    <tr>\n",
       "      <th>DecisionTreeClassifier_300</th>\n",
       "      <td>300</td>\n",
       "      <td>0.002</td>\n",
       "      <td>0.871194</td>\n",
       "      <td>0.000</td>\n",
       "      <td>0.000</td>\n",
       "      <td>0.746269</td>\n",
       "    </tr>\n",
       "  </tbody>\n",
       "</table>\n",
       "</div>"
      ],
      "text/plain": [
       "                           Training Size Train Time Training F1  \\\n",
       "DecisionTreeClassifier_100           100      0.001    0.938776   \n",
       "DecisionTreeClassifier_200           200      0.001    0.922559   \n",
       "DecisionTreeClassifier_300           300      0.002    0.871194   \n",
       "\n",
       "                           Train Pred Time Test Pred Time   Test F1  \n",
       "DecisionTreeClassifier_100           0.000          0.000  0.817518  \n",
       "DecisionTreeClassifier_200           0.001          0.000  0.788732  \n",
       "DecisionTreeClassifier_300           0.000          0.000  0.746269  "
      ]
     },
     "execution_count": 10,
     "metadata": {},
     "output_type": "execute_result"
    }
   ],
   "source": [
    "from sklearn import tree\n",
    "\n",
    "resultTable = {}\n",
    "sizes = [100,200,300]\n",
    "\n",
    "# Train and predict using different training set sizes\n",
    "def train_predict(clf, x_train, y_train, x_test, y_test):\n",
    "    mdl = clf.__class__.__name__ + '_' +  str(len(x_train))\n",
    "    if mdl not in resultTable:\n",
    "        resultTable[mdl] = {}\n",
    "    resultTable[mdl]['Training Size'] = len(x_train)\n",
    "    resultTable[mdl]['Train Time'] = train_classifier(clf, x_train, y_train)[1]\n",
    "    pred = predict_labels(clf, x_train, y_train)\n",
    "    resultTable[mdl]['Training F1'] = pred[0]\n",
    "    resultTable[mdl]['Train Pred Time'] = pred[1]\n",
    "    test = predict_labels(clf, x_test, y_test)\n",
    "    resultTable[mdl]['Test F1'] = test[0]\n",
    "    resultTable[mdl]['Test Pred Time'] = test[1]\n",
    "\n",
    "clf = tree.DecisionTreeClassifier(max_depth=5)\n",
    "\n",
    "for s in sizes:\n",
    "    tX, tY = makeSamples(s)\n",
    "    train_predict(clf, tX, tY, x_test, y_test)\n",
    "\n",
    "pd.DataFrame.from_dict(resultTable).T[['Training Size','Train Time','Training F1','Train Pred Time','Test Pred Time','Test F1']]"
   ]
  },
  {
   "cell_type": "markdown",
   "metadata": {},
   "source": [
    "### 4. b -  K Nearest Neighbors \n",
    "- What is the theoretical O(n) time & space complexity in terms of input size?\n",
    "\n",
    "From our lecture, k Nearest Neighbors tends to have a very low training cost of O(1) in terms of time since it simple loads the data to the model. The memory cost is linear with the size of the training sample or O(n). The trade-off is that the query time is higher since the model needs to find the appropriate point and identify the appropriate points with an O(log(n) + k) although the memory remains constant.\n",
    "\n",
    "- What are the general applications of this model? What are its strengths and weaknesses?\n",
    "\n",
    "The model is different than Decision Trees since it is instance based and doesn't try and produce a model of the data (instead just polling k training data points that are nearest the queried point to see which class they fit into). Since there is no underlying model, this means that KNN can better represent iregular decision boundaries (since there is no need for a very complex equation to have been modeled) but this is a two edged sword since outliers can skew the boundary or create an area of false positives behing the primary boundary.\n",
    "\n",
    "- Given what you know about the data so far, why did you choose this model to apply?\n",
    "\n",
    "Scikit's documentation indicates that KNN has been applied in a large number of situations succesfully where other models may have difficulty approximating a function to model the data.\n",
    "\n",
    "- Fit this model to the training data, try to predict labels (for both training and test sets), and measure the F<sub>1</sub> score. Repeat this process with different training set sizes (100, 200, 300), keeping test set constant.\n",
    "\n"
   ]
  },
  {
   "cell_type": "code",
   "execution_count": 11,
   "metadata": {
    "collapsed": false
   },
   "outputs": [
    {
     "data": {
      "text/html": [
       "<div>\n",
       "<table border=\"1\" class=\"dataframe\">\n",
       "  <thead>\n",
       "    <tr style=\"text-align: right;\">\n",
       "      <th></th>\n",
       "      <th>Training Size</th>\n",
       "      <th>Train Time</th>\n",
       "      <th>Training F1</th>\n",
       "      <th>Train Pred Time</th>\n",
       "      <th>Test Pred Time</th>\n",
       "      <th>Test F1</th>\n",
       "    </tr>\n",
       "  </thead>\n",
       "  <tbody>\n",
       "    <tr>\n",
       "      <th>KNeighborsClassifier_100</th>\n",
       "      <td>100</td>\n",
       "      <td>0.016</td>\n",
       "      <td>0.839506</td>\n",
       "      <td>0.000</td>\n",
       "      <td>0.000</td>\n",
       "      <td>0.75</td>\n",
       "    </tr>\n",
       "    <tr>\n",
       "      <th>KNeighborsClassifier_200</th>\n",
       "      <td>200</td>\n",
       "      <td>0.000</td>\n",
       "      <td>0.843137</td>\n",
       "      <td>0.000</td>\n",
       "      <td>0.000</td>\n",
       "      <td>0.751773</td>\n",
       "    </tr>\n",
       "    <tr>\n",
       "      <th>KNeighborsClassifier_300</th>\n",
       "      <td>300</td>\n",
       "      <td>0.000</td>\n",
       "      <td>0.824561</td>\n",
       "      <td>0.000</td>\n",
       "      <td>0.016</td>\n",
       "      <td>0.731343</td>\n",
       "    </tr>\n",
       "  </tbody>\n",
       "</table>\n",
       "</div>"
      ],
      "text/plain": [
       "                         Training Size Train Time Training F1 Train Pred Time  \\\n",
       "KNeighborsClassifier_100           100      0.016    0.839506           0.000   \n",
       "KNeighborsClassifier_200           200      0.000    0.843137           0.000   \n",
       "KNeighborsClassifier_300           300      0.000    0.824561           0.000   \n",
       "\n",
       "                         Test Pred Time   Test F1  \n",
       "KNeighborsClassifier_100          0.000      0.75  \n",
       "KNeighborsClassifier_200          0.000  0.751773  \n",
       "KNeighborsClassifier_300          0.016  0.731343  "
      ]
     },
     "execution_count": 11,
     "metadata": {},
     "output_type": "execute_result"
    }
   ],
   "source": [
    "# Add another model, let's use a KNN\n",
    "from sklearn import neighbors \n",
    "\n",
    "resultTable2 = {}\n",
    "\n",
    "# Train and predict using different training set sizes\n",
    "def train_predict(clf, x_train, y_train, x_test, y_test):\n",
    "    mdl = clf.__class__.__name__ + '_' +  str(len(x_train))\n",
    "    if mdl not in resultTable2:\n",
    "        resultTable2[mdl] = {}\n",
    "    resultTable2[mdl]['Training Size'] = len(x_train)\n",
    "    resultTable2[mdl]['Train Time'] = train_classifier(clf, x_train, y_train)[1]\n",
    "    pred = predict_labels(clf, x_train, y_train)\n",
    "    resultTable2[mdl]['Training F1'] = pred[0]\n",
    "    resultTable2[mdl]['Train Pred Time'] = pred[1]\n",
    "    test = predict_labels(clf, x_test, y_test)\n",
    "    resultTable2[mdl]['Test F1'] = test[0]\n",
    "    resultTable2[mdl]['Test Pred Time'] = test[1]\n",
    "\n",
    "clf = neighbors.KNeighborsClassifier()\n",
    "#params = {'KNeighborsClassifier':{'n_neighbors':5,'algorithm':'brute'}}\n",
    "\n",
    "for s in sizes:\n",
    "    tX, tY = makeSamples(s)\n",
    "    train_predict(clf, tX, tY, x_test, y_test)\n",
    "\n",
    "pd.DataFrame.from_dict(resultTable2).T[['Training Size','Train Time','Training F1','Train Pred Time','Test Pred Time','Test F1']]"
   ]
  },
  {
   "cell_type": "markdown",
   "metadata": {},
   "source": [
    "### 4. c -  Linear SVC\n",
    "- What is the theoretical O(n) time & space complexity in terms of input size?\n",
    "\n",
    "According to scikit-learns documentation, the computational complexity of their implementation is between O(f x n²) and O(f x n³) depending on the dataset. The choice of kernel could also influence the computational cost of creating the hyperplane. The query cost should be constant since the query is simply being checked against the hyperplane.  \n",
    "\n",
    "- What are the general applications of this model? What are its strengths and weaknesses?\n",
    "\n",
    "Since the model creates a hyperplane that optimizes the seperation space between the labeled groups, the groups need to be seperable in a feature plane (although it doesn't need to be linear depending on the kernel.) \n",
    "\n",
    "The model is sensitive to scaled features and so it's important when optimizing to pre-scale them where there is a lot of variation (if one feature is price of a home while another is the square footage, the price would likely have a disproportionate effect since it's on a larger scale. \n",
    "\n",
    "- Given what you know about the data so far, why did you choose this model to apply?\n",
    "\n",
    "The model works by finding the best dividing plane between the classes and since we are trying to find a dividing plane between the features to predict which students are in danger of failing, its worth exploring the model.\n",
    "\n",
    "- Fit this model to the training data, try to predict labels (for both training and test sets), and measure the F<sub>1</sub> score. Repeat this process with different training set sizes (100, 200, 300), keeping test set constant.\n"
   ]
  },
  {
   "cell_type": "code",
   "execution_count": 12,
   "metadata": {
    "collapsed": false
   },
   "outputs": [
    {
     "data": {
      "text/html": [
       "<div>\n",
       "<table border=\"1\" class=\"dataframe\">\n",
       "  <thead>\n",
       "    <tr style=\"text-align: right;\">\n",
       "      <th></th>\n",
       "      <th>Training Size</th>\n",
       "      <th>Train Time</th>\n",
       "      <th>Training F1</th>\n",
       "      <th>Train Pred Time</th>\n",
       "      <th>Test Pred Time</th>\n",
       "      <th>Test F1</th>\n",
       "    </tr>\n",
       "  </thead>\n",
       "  <tbody>\n",
       "    <tr>\n",
       "      <th>SVC_100</th>\n",
       "      <td>100</td>\n",
       "      <td>0.000</td>\n",
       "      <td>0.837209</td>\n",
       "      <td>0.000</td>\n",
       "      <td>0.000</td>\n",
       "      <td>0.774194</td>\n",
       "    </tr>\n",
       "    <tr>\n",
       "      <th>SVC_200</th>\n",
       "      <td>200</td>\n",
       "      <td>0.000</td>\n",
       "      <td>0.820059</td>\n",
       "      <td>0.000</td>\n",
       "      <td>0.000</td>\n",
       "      <td>0.774194</td>\n",
       "    </tr>\n",
       "    <tr>\n",
       "      <th>SVC_300</th>\n",
       "      <td>300</td>\n",
       "      <td>0.016</td>\n",
       "      <td>0.811881</td>\n",
       "      <td>0.000</td>\n",
       "      <td>0.000</td>\n",
       "      <td>0.774194</td>\n",
       "    </tr>\n",
       "  </tbody>\n",
       "</table>\n",
       "</div>"
      ],
      "text/plain": [
       "        Training Size Train Time Training F1 Train Pred Time Test Pred Time  \\\n",
       "SVC_100           100      0.000    0.837209           0.000          0.000   \n",
       "SVC_200           200      0.000    0.820059           0.000          0.000   \n",
       "SVC_300           300      0.016    0.811881           0.000          0.000   \n",
       "\n",
       "          Test F1  \n",
       "SVC_100  0.774194  \n",
       "SVC_200  0.774194  \n",
       "SVC_300  0.774194  "
      ]
     },
     "execution_count": 12,
     "metadata": {},
     "output_type": "execute_result"
    }
   ],
   "source": [
    "# Add another model, let's use a KNN\n",
    "from sklearn import svm \n",
    "\n",
    "resultTable3 = {}\n",
    "\n",
    "# Train and predict using different training set sizes\n",
    "def train_predict(clf, x_train, y_train, x_test, y_test):\n",
    "    mdl = clf.__class__.__name__ + '_' +  str(len(x_train))\n",
    "    if mdl not in resultTable3:\n",
    "        resultTable3[mdl] = {}\n",
    "    resultTable3[mdl]['Training Size'] = len(x_train)\n",
    "    resultTable3[mdl]['Train Time'] = train_classifier(clf, x_train, y_train)[1]\n",
    "    pred = predict_labels(clf, x_train, y_train)\n",
    "    resultTable3[mdl]['Training F1'] = pred[0]\n",
    "    resultTable3[mdl]['Train Pred Time'] = pred[1]\n",
    "    test = predict_labels(clf, x_test, y_test)\n",
    "    resultTable3[mdl]['Test F1'] = test[0]\n",
    "    resultTable3[mdl]['Test Pred Time'] = test[1]\n",
    "\n",
    "clf = svm.SVC()\n",
    "for s in sizes:\n",
    "    tX, tY = makeSamples(s)\n",
    "    train_predict(clf, tX, tY, x_test, y_test)\n",
    "\n",
    "pd.DataFrame.from_dict(resultTable3).T[['Training Size','Train Time','Training F1','Train Pred Time','Test Pred Time','Test F1']]"
   ]
  },
  {
   "cell_type": "markdown",
   "metadata": {},
   "source": [
    "## 5. Choosing the Best Model\n",
    "\n",
    "- Based on the experiments you performed earlier, in 1-2 paragraphs explain to the board of supervisors what single model you chose as the best model. Which model is generally the most appropriate based on the available data, limited resources, cost, and performance?\n",
    "- In 1-2 paragraphs explain to the board of supervisors in layman's terms how the final model chosen is supposed to work (for example if you chose a Decision Tree or Support Vector Machine, how does it make a prediction).\n",
    "- Fine-tune the model. Use Gridsearch with at least one important parameter tuned and with at least 3 settings. Use the entire training set for this.\n",
    "- What is the model's final F<sub>1</sub> score?"
   ]
  },
  {
   "cell_type": "code",
   "execution_count": 13,
   "metadata": {
    "collapsed": false
   },
   "outputs": [
    {
     "data": {
      "text/html": [
       "<div>\n",
       "<table border=\"1\" class=\"dataframe\">\n",
       "  <thead>\n",
       "    <tr style=\"text-align: right;\">\n",
       "      <th></th>\n",
       "      <th>Training Size</th>\n",
       "      <th>Train Time</th>\n",
       "      <th>Training F1</th>\n",
       "      <th>Train Pred Time</th>\n",
       "      <th>Test Pred Time</th>\n",
       "      <th>Test F1</th>\n",
       "    </tr>\n",
       "  </thead>\n",
       "  <tbody>\n",
       "    <tr>\n",
       "      <th>DecisionTreeClassifier_100</th>\n",
       "      <td>100</td>\n",
       "      <td>0.001</td>\n",
       "      <td>0.938776</td>\n",
       "      <td>0.000</td>\n",
       "      <td>0.000</td>\n",
       "      <td>0.817518</td>\n",
       "    </tr>\n",
       "    <tr>\n",
       "      <th>DecisionTreeClassifier_200</th>\n",
       "      <td>200</td>\n",
       "      <td>0.001</td>\n",
       "      <td>0.922559</td>\n",
       "      <td>0.001</td>\n",
       "      <td>0.000</td>\n",
       "      <td>0.788732</td>\n",
       "    </tr>\n",
       "    <tr>\n",
       "      <th>DecisionTreeClassifier_300</th>\n",
       "      <td>300</td>\n",
       "      <td>0.002</td>\n",
       "      <td>0.871194</td>\n",
       "      <td>0.000</td>\n",
       "      <td>0.000</td>\n",
       "      <td>0.746269</td>\n",
       "    </tr>\n",
       "    <tr>\n",
       "      <th>KNeighborsClassifier_100</th>\n",
       "      <td>100</td>\n",
       "      <td>0.016</td>\n",
       "      <td>0.839506</td>\n",
       "      <td>0.000</td>\n",
       "      <td>0.000</td>\n",
       "      <td>0.75</td>\n",
       "    </tr>\n",
       "    <tr>\n",
       "      <th>KNeighborsClassifier_200</th>\n",
       "      <td>200</td>\n",
       "      <td>0.000</td>\n",
       "      <td>0.843137</td>\n",
       "      <td>0.000</td>\n",
       "      <td>0.000</td>\n",
       "      <td>0.751773</td>\n",
       "    </tr>\n",
       "    <tr>\n",
       "      <th>KNeighborsClassifier_300</th>\n",
       "      <td>300</td>\n",
       "      <td>0.000</td>\n",
       "      <td>0.824561</td>\n",
       "      <td>0.000</td>\n",
       "      <td>0.016</td>\n",
       "      <td>0.731343</td>\n",
       "    </tr>\n",
       "    <tr>\n",
       "      <th>SVC_100</th>\n",
       "      <td>100</td>\n",
       "      <td>0.000</td>\n",
       "      <td>0.837209</td>\n",
       "      <td>0.000</td>\n",
       "      <td>0.000</td>\n",
       "      <td>0.774194</td>\n",
       "    </tr>\n",
       "    <tr>\n",
       "      <th>SVC_200</th>\n",
       "      <td>200</td>\n",
       "      <td>0.000</td>\n",
       "      <td>0.820059</td>\n",
       "      <td>0.000</td>\n",
       "      <td>0.000</td>\n",
       "      <td>0.774194</td>\n",
       "    </tr>\n",
       "    <tr>\n",
       "      <th>SVC_300</th>\n",
       "      <td>300</td>\n",
       "      <td>0.016</td>\n",
       "      <td>0.811881</td>\n",
       "      <td>0.000</td>\n",
       "      <td>0.000</td>\n",
       "      <td>0.774194</td>\n",
       "    </tr>\n",
       "  </tbody>\n",
       "</table>\n",
       "</div>"
      ],
      "text/plain": [
       "                           Training Size Train Time Training F1  \\\n",
       "DecisionTreeClassifier_100           100      0.001    0.938776   \n",
       "DecisionTreeClassifier_200           200      0.001    0.922559   \n",
       "DecisionTreeClassifier_300           300      0.002    0.871194   \n",
       "KNeighborsClassifier_100             100      0.016    0.839506   \n",
       "KNeighborsClassifier_200             200      0.000    0.843137   \n",
       "KNeighborsClassifier_300             300      0.000    0.824561   \n",
       "SVC_100                              100      0.000    0.837209   \n",
       "SVC_200                              200      0.000    0.820059   \n",
       "SVC_300                              300      0.016    0.811881   \n",
       "\n",
       "                           Train Pred Time Test Pred Time   Test F1  \n",
       "DecisionTreeClassifier_100           0.000          0.000  0.817518  \n",
       "DecisionTreeClassifier_200           0.001          0.000  0.788732  \n",
       "DecisionTreeClassifier_300           0.000          0.000  0.746269  \n",
       "KNeighborsClassifier_100             0.000          0.000      0.75  \n",
       "KNeighborsClassifier_200             0.000          0.000  0.751773  \n",
       "KNeighborsClassifier_300             0.000          0.016  0.731343  \n",
       "SVC_100                              0.000          0.000  0.774194  \n",
       "SVC_200                              0.000          0.000  0.774194  \n",
       "SVC_300                              0.000          0.000  0.774194  "
      ]
     },
     "execution_count": 13,
     "metadata": {},
     "output_type": "execute_result"
    }
   ],
   "source": [
    "pd.concat([pd.DataFrame.from_dict(resultTable).T, pd.DataFrame.from_dict(resultTable2).T, pd.DataFrame.from_dict(resultTable3).T])[['Training Size','Train Time','Training F1','Train Pred Time','Test Pred Time','Test F1']]"
   ]
  },
  {
   "cell_type": "markdown",
   "metadata": {},
   "source": [
    "### Board Report\n",
    "\n",
    "The final model selected was a Decision Tree. It had the optimum F1 score in testing (beating both the KNN and SVM models at all training size levels). The decision tree was average in training time but then the fastest in terms of predictions and creates a small model in memory terms. All models had overall excellent prediction performance on even consumer level hardware with none approaching a 1 second run time but the Decision Tree was slightly faster.\n",
    "\n",
    "A Decision Tree works by splitting the dataset based on the feature with the highest ability to differentiate between students who are at risk vs. not and splitting the data on that criteria. It then repeats the exercise until it has created a tree of sufficient complexity to differentiate the sample population with an acceptable level of accuracy. As an example, the first split of our tree (illustrated below) is based on if the student's normalized fail rate is above 50%. The students above this mark are then processed seperatly from those who were below.\n",
    "\n",
    "As these treatment rules are built, the tree eventually reaches a point where additional splits lead to too small of samples to continue to be accurately generalized to other students. The last node is considered final with the majority of the output labels in it being used as its class (if there are 20 At Risk students and 1 Not at Risk, any student who matches their profile will be considered At Risk.) Once the tree has grown to this point the model is complete and can be used to predict the outcome of newly analyzed students. It does this by applying the same rules it has modeled to the new data points and predicts the final class of the last node.\n",
    "\n",
    "Through the use of both feature selection and parameter tuning, I increased the F1 score from 74.6% on a training sample of 300 to 84.1% which represents a very accurate model even when taking into account both false positive and negative predictions."
   ]
  },
  {
   "cell_type": "code",
   "execution_count": 14,
   "metadata": {
    "collapsed": false
   },
   "outputs": [
    {
     "name": "stdout",
     "output_type": "stream",
     "text": [
      "Final Score: 0.840579710145\n"
     ]
    }
   ],
   "source": [
    "# Import libraries\n",
    "from sklearn.feature_selection import SelectKBest\n",
    "from sklearn.feature_selection import f_classif\n",
    "from sklearn.grid_search import GridSearchCV\n",
    "from sklearn import metrics\n",
    "\n",
    "# Feature selection to avoid overfitting \n",
    "# 6 was chosen through iterative testing accross a broad range\n",
    "fs = SelectKBest(score_func=f_classif, k=6)\n",
    "q = fs.fit_transform(x_train, y_train)\n",
    "\n",
    "# Extract retained feature names for later\n",
    "n = 0\n",
    "fNames = []\n",
    "for f in fs.get_support():\n",
    "    if f:\n",
    "        fNames.append(x_train.columns[n])\n",
    "    n+=1\n",
    "\n",
    "# Grid search parameters\n",
    "params = {'min_samples_split':[4,6,8,10,12],\n",
    "          'splitter':['best','random'],\n",
    "         'max_depth':[3,4,5,6],\n",
    "          'criterion':['gini','entropy']}\n",
    "\n",
    "# Initialize a decision tree and perform the grid search\n",
    "clf = tree.DecisionTreeClassifier(random_state=42)\n",
    "gs = GridSearchCV(clf, params, n_jobs=-1, scoring='f1')\n",
    "gs.fit(q, y_train)\n",
    "\n",
    "# Get the best parameters and set the decision tree to use them\n",
    "clf.set_params(**gs.best_params_)\n",
    "clf.fit(q, y_train)\n",
    "\n",
    "# Verification of score:\n",
    "\n",
    "print('Final Score:', metrics.f1_score(clf.predict(fs.transform(x_test)), y_test))"
   ]
  },
  {
   "cell_type": "code",
   "execution_count": 15,
   "metadata": {
    "collapsed": false,
    "scrolled": false
   },
   "outputs": [
    {
     "name": "stdout",
     "output_type": "stream",
     "text": [
      "Visual Representation of the Risk Identifier Model\n"
     ]
    },
    {
     "data": {
      "image/svg+xml": [
       "<?xml version=\"1.0\" encoding=\"UTF-8\" standalone=\"no\"?>\r\n",
       "<!DOCTYPE svg PUBLIC \"-//W3C//DTD SVG 1.1//EN\"\r\n",
       " \"http://www.w3.org/Graphics/SVG/1.1/DTD/svg11.dtd\">\r\n",
       "<!-- Generated by graphviz version 2.38.0 (20140413.2041)\r\n",
       " -->\r\n",
       "<!-- Title: Tree Pages: 1 -->\r\n",
       "<svg width=\"844pt\" height=\"433pt\"\r\n",
       " viewBox=\"0.00 0.00 844.00 433.00\" xmlns=\"http://www.w3.org/2000/svg\" xmlns:xlink=\"http://www.w3.org/1999/xlink\">\r\n",
       "<g id=\"graph0\" class=\"graph\" transform=\"scale(1 1) rotate(0) translate(4 429)\">\r\n",
       "<title>Tree</title>\r\n",
       "<polygon fill=\"white\" stroke=\"none\" points=\"-4,4 -4,-429 840,-429 840,4 -4,4\"/>\r\n",
       "<!-- 0 -->\r\n",
       "<g id=\"node1\" class=\"node\"><title>0</title>\r\n",
       "<path fill=\"#399de5\" fill-opacity=\"0.537255\" stroke=\"black\" d=\"M502,-425C502,-425 392,-425 392,-425 386,-425 380,-419 380,-413 380,-413 380,-354 380,-354 380,-348 386,-342 392,-342 392,-342 502,-342 502,-342 508,-342 514,-348 514,-354 514,-354 514,-413 514,-413 514,-419 508,-425 502,-425\"/>\r\n",
       "<text text-anchor=\"start\" x=\"406\" y=\"-409.8\" font-family=\"Helvetica,sans-Serif\" font-size=\"14.00\">failures ≤ 0.5</text>\r\n",
       "<text text-anchor=\"start\" x=\"405.5\" y=\"-394.8\" font-family=\"Helvetica,sans-Serif\" font-size=\"14.00\">gini = 0.4328</text>\r\n",
       "<text text-anchor=\"start\" x=\"399.5\" y=\"-379.8\" font-family=\"Helvetica,sans-Serif\" font-size=\"14.00\">samples = 300</text>\r\n",
       "<text text-anchor=\"start\" x=\"394\" y=\"-364.8\" font-family=\"Helvetica,sans-Serif\" font-size=\"14.00\">value = [95, 205]</text>\r\n",
       "<text text-anchor=\"start\" x=\"388\" y=\"-349.8\" font-family=\"Helvetica,sans-Serif\" font-size=\"14.00\">class = Not at Risk</text>\r\n",
       "</g>\r\n",
       "<!-- 1 -->\r\n",
       "<g id=\"node2\" class=\"node\"><title>1</title>\r\n",
       "<path fill=\"#399de5\" fill-opacity=\"0.615686\" stroke=\"black\" d=\"M426,-306C426,-306 316,-306 316,-306 310,-306 304,-300 304,-294 304,-294 304,-235 304,-235 304,-229 310,-223 316,-223 316,-223 426,-223 426,-223 432,-223 438,-229 438,-235 438,-235 438,-294 438,-294 438,-300 432,-306 426,-306\"/>\r\n",
       "<text text-anchor=\"start\" x=\"328.5\" y=\"-290.8\" font-family=\"Helvetica,sans-Serif\" font-size=\"14.00\">age ≤ 0.2143</text>\r\n",
       "<text text-anchor=\"start\" x=\"329.5\" y=\"-275.8\" font-family=\"Helvetica,sans-Serif\" font-size=\"14.00\">gini = 0.4014</text>\r\n",
       "<text text-anchor=\"start\" x=\"323.5\" y=\"-260.8\" font-family=\"Helvetica,sans-Serif\" font-size=\"14.00\">samples = 277</text>\r\n",
       "<text text-anchor=\"start\" x=\"318\" y=\"-245.8\" font-family=\"Helvetica,sans-Serif\" font-size=\"14.00\">value = [77, 200]</text>\r\n",
       "<text text-anchor=\"start\" x=\"312\" y=\"-230.8\" font-family=\"Helvetica,sans-Serif\" font-size=\"14.00\">class = Not at Risk</text>\r\n",
       "</g>\r\n",
       "<!-- 0&#45;&gt;1 -->\r\n",
       "<g id=\"edge1\" class=\"edge\"><title>0&#45;&gt;1</title>\r\n",
       "<path fill=\"none\" stroke=\"black\" d=\"M420.632,-341.907C414.914,-333.105 408.807,-323.703 402.902,-314.612\"/>\r\n",
       "<polygon fill=\"black\" stroke=\"black\" points=\"405.704,-312.5 397.321,-306.021 399.833,-316.313 405.704,-312.5\"/>\r\n",
       "<text text-anchor=\"middle\" x=\"392.126\" y=\"-326.775\" font-family=\"Helvetica,sans-Serif\" font-size=\"14.00\">True</text>\r\n",
       "</g>\r\n",
       "<!-- 8 -->\r\n",
       "<g id=\"node9\" class=\"node\"><title>8</title>\r\n",
       "<path fill=\"#e58139\" fill-opacity=\"0.721569\" stroke=\"black\" d=\"M566,-306C566,-306 480,-306 480,-306 474,-306 468,-300 468,-294 468,-294 468,-235 468,-235 468,-229 474,-223 480,-223 480,-223 566,-223 566,-223 572,-223 578,-229 578,-235 578,-235 578,-294 578,-294 578,-300 572,-306 566,-306\"/>\r\n",
       "<text text-anchor=\"start\" x=\"479\" y=\"-290.8\" font-family=\"Helvetica,sans-Serif\" font-size=\"14.00\">goout ≤ 0.125</text>\r\n",
       "<text text-anchor=\"start\" x=\"481.5\" y=\"-275.8\" font-family=\"Helvetica,sans-Serif\" font-size=\"14.00\">gini = 0.3403</text>\r\n",
       "<text text-anchor=\"start\" x=\"479.5\" y=\"-260.8\" font-family=\"Helvetica,sans-Serif\" font-size=\"14.00\">samples = 23</text>\r\n",
       "<text text-anchor=\"start\" x=\"478.5\" y=\"-245.8\" font-family=\"Helvetica,sans-Serif\" font-size=\"14.00\">value = [18, 5]</text>\r\n",
       "<text text-anchor=\"start\" x=\"476\" y=\"-230.8\" font-family=\"Helvetica,sans-Serif\" font-size=\"14.00\">class = At Risk</text>\r\n",
       "</g>\r\n",
       "<!-- 0&#45;&gt;8 -->\r\n",
       "<g id=\"edge8\" class=\"edge\"><title>0&#45;&gt;8</title>\r\n",
       "<path fill=\"none\" stroke=\"black\" d=\"M473.368,-341.907C479.086,-333.105 485.193,-323.703 491.098,-314.612\"/>\r\n",
       "<polygon fill=\"black\" stroke=\"black\" points=\"494.167,-316.313 496.679,-306.021 488.296,-312.5 494.167,-316.313\"/>\r\n",
       "<text text-anchor=\"middle\" x=\"501.874\" y=\"-326.775\" font-family=\"Helvetica,sans-Serif\" font-size=\"14.00\">False</text>\r\n",
       "</g>\r\n",
       "<!-- 2 -->\r\n",
       "<g id=\"node3\" class=\"node\"><title>2</title>\r\n",
       "<path fill=\"#399de5\" fill-opacity=\"0.760784\" stroke=\"black\" d=\"M274,-187C274,-187 164,-187 164,-187 158,-187 152,-181 152,-175 152,-175 152,-116 152,-116 152,-110 158,-104 164,-104 164,-104 274,-104 274,-104 280,-104 286,-110 286,-116 286,-116 286,-175 286,-175 286,-181 280,-187 274,-187\"/>\r\n",
       "<text text-anchor=\"start\" x=\"175\" y=\"-171.8\" font-family=\"Helvetica,sans-Serif\" font-size=\"14.00\">goout ≤ 0.375</text>\r\n",
       "<text text-anchor=\"start\" x=\"177.5\" y=\"-156.8\" font-family=\"Helvetica,sans-Serif\" font-size=\"14.00\">gini = 0.3125</text>\r\n",
       "<text text-anchor=\"start\" x=\"171.5\" y=\"-141.8\" font-family=\"Helvetica,sans-Serif\" font-size=\"14.00\">samples = 129</text>\r\n",
       "<text text-anchor=\"start\" x=\"166\" y=\"-126.8\" font-family=\"Helvetica,sans-Serif\" font-size=\"14.00\">value = [25, 104]</text>\r\n",
       "<text text-anchor=\"start\" x=\"160\" y=\"-111.8\" font-family=\"Helvetica,sans-Serif\" font-size=\"14.00\">class = Not at Risk</text>\r\n",
       "</g>\r\n",
       "<!-- 1&#45;&gt;2 -->\r\n",
       "<g id=\"edge2\" class=\"edge\"><title>1&#45;&gt;2</title>\r\n",
       "<path fill=\"none\" stroke=\"black\" d=\"M318.264,-222.907C305.885,-213.379 292.594,-203.148 279.89,-193.37\"/>\r\n",
       "<polygon fill=\"black\" stroke=\"black\" points=\"281.702,-190.347 271.642,-187.021 277.432,-195.894 281.702,-190.347\"/>\r\n",
       "</g>\r\n",
       "<!-- 5 -->\r\n",
       "<g id=\"node6\" class=\"node\"><title>5</title>\r\n",
       "<path fill=\"#399de5\" fill-opacity=\"0.458824\" stroke=\"black\" d=\"M426,-187C426,-187 316,-187 316,-187 310,-187 304,-181 304,-175 304,-175 304,-116 304,-116 304,-110 310,-104 316,-104 316,-104 426,-104 426,-104 432,-104 438,-110 438,-116 438,-116 438,-175 438,-175 438,-181 432,-187 426,-187\"/>\r\n",
       "<text text-anchor=\"start\" x=\"318\" y=\"-171.8\" font-family=\"Helvetica,sans-Serif\" font-size=\"14.00\">failures ≤ 0.1667</text>\r\n",
       "<text text-anchor=\"start\" x=\"329.5\" y=\"-156.8\" font-family=\"Helvetica,sans-Serif\" font-size=\"14.00\">gini = 0.4558</text>\r\n",
       "<text text-anchor=\"start\" x=\"323.5\" y=\"-141.8\" font-family=\"Helvetica,sans-Serif\" font-size=\"14.00\">samples = 148</text>\r\n",
       "<text text-anchor=\"start\" x=\"322.5\" y=\"-126.8\" font-family=\"Helvetica,sans-Serif\" font-size=\"14.00\">value = [52, 96]</text>\r\n",
       "<text text-anchor=\"start\" x=\"312\" y=\"-111.8\" font-family=\"Helvetica,sans-Serif\" font-size=\"14.00\">class = Not at Risk</text>\r\n",
       "</g>\r\n",
       "<!-- 1&#45;&gt;5 -->\r\n",
       "<g id=\"edge5\" class=\"edge\"><title>1&#45;&gt;5</title>\r\n",
       "<path fill=\"none\" stroke=\"black\" d=\"M371,-222.907C371,-214.649 371,-205.864 371,-197.302\"/>\r\n",
       "<polygon fill=\"black\" stroke=\"black\" points=\"374.5,-197.021 371,-187.021 367.5,-197.021 374.5,-197.021\"/>\r\n",
       "</g>\r\n",
       "<!-- 3 -->\r\n",
       "<g id=\"node4\" class=\"node\"><title>3</title>\r\n",
       "<path fill=\"#399de5\" fill-opacity=\"0.870588\" stroke=\"black\" d=\"M122,-68C122,-68 12,-68 12,-68 6,-68 0,-62 0,-56 0,-56 0,-12 0,-12 0,-6 6,-0 12,-0 12,-0 122,-0 122,-0 128,-0 134,-6 134,-12 134,-12 134,-56 134,-56 134,-62 128,-68 122,-68\"/>\r\n",
       "<text text-anchor=\"start\" x=\"25.5\" y=\"-52.8\" font-family=\"Helvetica,sans-Serif\" font-size=\"14.00\">gini = 0.2014</text>\r\n",
       "<text text-anchor=\"start\" x=\"23.5\" y=\"-37.8\" font-family=\"Helvetica,sans-Serif\" font-size=\"14.00\">samples = 44</text>\r\n",
       "<text text-anchor=\"start\" x=\"22.5\" y=\"-22.8\" font-family=\"Helvetica,sans-Serif\" font-size=\"14.00\">value = [5, 39]</text>\r\n",
       "<text text-anchor=\"start\" x=\"8\" y=\"-7.8\" font-family=\"Helvetica,sans-Serif\" font-size=\"14.00\">class = Not at Risk</text>\r\n",
       "</g>\r\n",
       "<!-- 2&#45;&gt;3 -->\r\n",
       "<g id=\"edge3\" class=\"edge\"><title>2&#45;&gt;3</title>\r\n",
       "<path fill=\"none\" stroke=\"black\" d=\"M162.401,-103.726C148.98,-94.0582 134.695,-83.767 121.376,-74.172\"/>\r\n",
       "<polygon fill=\"black\" stroke=\"black\" points=\"123.384,-71.305 113.224,-68.2996 119.292,-76.9846 123.384,-71.305\"/>\r\n",
       "</g>\r\n",
       "<!-- 4 -->\r\n",
       "<g id=\"node5\" class=\"node\"><title>4</title>\r\n",
       "<path fill=\"#399de5\" fill-opacity=\"0.694118\" stroke=\"black\" d=\"M274,-68C274,-68 164,-68 164,-68 158,-68 152,-62 152,-56 152,-56 152,-12 152,-12 152,-6 158,-0 164,-0 164,-0 274,-0 274,-0 280,-0 286,-6 286,-12 286,-12 286,-56 286,-56 286,-62 280,-68 274,-68\"/>\r\n",
       "<text text-anchor=\"start\" x=\"177.5\" y=\"-52.8\" font-family=\"Helvetica,sans-Serif\" font-size=\"14.00\">gini = 0.3599</text>\r\n",
       "<text text-anchor=\"start\" x=\"175.5\" y=\"-37.8\" font-family=\"Helvetica,sans-Serif\" font-size=\"14.00\">samples = 85</text>\r\n",
       "<text text-anchor=\"start\" x=\"170.5\" y=\"-22.8\" font-family=\"Helvetica,sans-Serif\" font-size=\"14.00\">value = [20, 65]</text>\r\n",
       "<text text-anchor=\"start\" x=\"160\" y=\"-7.8\" font-family=\"Helvetica,sans-Serif\" font-size=\"14.00\">class = Not at Risk</text>\r\n",
       "</g>\r\n",
       "<!-- 2&#45;&gt;4 -->\r\n",
       "<g id=\"edge4\" class=\"edge\"><title>2&#45;&gt;4</title>\r\n",
       "<path fill=\"none\" stroke=\"black\" d=\"M219,-103.726C219,-95.5175 219,-86.8595 219,-78.56\"/>\r\n",
       "<polygon fill=\"black\" stroke=\"black\" points=\"222.5,-78.2996 219,-68.2996 215.5,-78.2996 222.5,-78.2996\"/>\r\n",
       "</g>\r\n",
       "<!-- 6 -->\r\n",
       "<g id=\"node7\" class=\"node\"><title>6</title>\r\n",
       "<path fill=\"#399de5\" fill-opacity=\"0.564706\" stroke=\"black\" d=\"M426,-68C426,-68 316,-68 316,-68 310,-68 304,-62 304,-56 304,-56 304,-12 304,-12 304,-6 310,-0 316,-0 316,-0 426,-0 426,-0 432,-0 438,-6 438,-12 438,-12 438,-56 438,-56 438,-62 432,-68 426,-68\"/>\r\n",
       "<text text-anchor=\"start\" x=\"333.5\" y=\"-52.8\" font-family=\"Helvetica,sans-Serif\" font-size=\"14.00\">gini = 0.422</text>\r\n",
       "<text text-anchor=\"start\" x=\"323.5\" y=\"-37.8\" font-family=\"Helvetica,sans-Serif\" font-size=\"14.00\">samples = 119</text>\r\n",
       "<text text-anchor=\"start\" x=\"322.5\" y=\"-22.8\" font-family=\"Helvetica,sans-Serif\" font-size=\"14.00\">value = [36, 83]</text>\r\n",
       "<text text-anchor=\"start\" x=\"312\" y=\"-7.8\" font-family=\"Helvetica,sans-Serif\" font-size=\"14.00\">class = Not at Risk</text>\r\n",
       "</g>\r\n",
       "<!-- 5&#45;&gt;6 -->\r\n",
       "<g id=\"edge6\" class=\"edge\"><title>5&#45;&gt;6</title>\r\n",
       "<path fill=\"none\" stroke=\"black\" d=\"M371,-103.726C371,-95.5175 371,-86.8595 371,-78.56\"/>\r\n",
       "<polygon fill=\"black\" stroke=\"black\" points=\"374.5,-78.2996 371,-68.2996 367.5,-78.2996 374.5,-78.2996\"/>\r\n",
       "</g>\r\n",
       "<!-- 7 -->\r\n",
       "<g id=\"node8\" class=\"node\"><title>7</title>\r\n",
       "<path fill=\"#e58139\" fill-opacity=\"0.188235\" stroke=\"black\" d=\"M557.5,-68C557.5,-68 468.5,-68 468.5,-68 462.5,-68 456.5,-62 456.5,-56 456.5,-56 456.5,-12 456.5,-12 456.5,-6 462.5,-0 468.5,-0 468.5,-0 557.5,-0 557.5,-0 563.5,-0 569.5,-6 569.5,-12 569.5,-12 569.5,-56 569.5,-56 569.5,-62 563.5,-68 557.5,-68\"/>\r\n",
       "<text text-anchor=\"start\" x=\"471.5\" y=\"-52.8\" font-family=\"Helvetica,sans-Serif\" font-size=\"14.00\">gini = 0.4946</text>\r\n",
       "<text text-anchor=\"start\" x=\"469.5\" y=\"-37.8\" font-family=\"Helvetica,sans-Serif\" font-size=\"14.00\">samples = 29</text>\r\n",
       "<text text-anchor=\"start\" x=\"464.5\" y=\"-22.8\" font-family=\"Helvetica,sans-Serif\" font-size=\"14.00\">value = [16, 13]</text>\r\n",
       "<text text-anchor=\"start\" x=\"466\" y=\"-7.8\" font-family=\"Helvetica,sans-Serif\" font-size=\"14.00\">class = At Risk</text>\r\n",
       "</g>\r\n",
       "<!-- 5&#45;&gt;7 -->\r\n",
       "<g id=\"edge7\" class=\"edge\"><title>5&#45;&gt;7</title>\r\n",
       "<path fill=\"none\" stroke=\"black\" d=\"M423.876,-103.726C436.295,-94.1494 449.507,-83.9611 461.849,-74.4438\"/>\r\n",
       "<polygon fill=\"black\" stroke=\"black\" points=\"464.035,-77.1778 469.817,-68.2996 459.761,-71.6345 464.035,-77.1778\"/>\r\n",
       "</g>\r\n",
       "<!-- 9 -->\r\n",
       "<g id=\"node10\" class=\"node\"><title>9</title>\r\n",
       "<path fill=\"#399de5\" stroke=\"black\" d=\"M578,-179.5C578,-179.5 468,-179.5 468,-179.5 462,-179.5 456,-173.5 456,-167.5 456,-167.5 456,-123.5 456,-123.5 456,-117.5 462,-111.5 468,-111.5 468,-111.5 578,-111.5 578,-111.5 584,-111.5 590,-117.5 590,-123.5 590,-123.5 590,-167.5 590,-167.5 590,-173.5 584,-179.5 578,-179.5\"/>\r\n",
       "<text text-anchor=\"start\" x=\"494\" y=\"-164.3\" font-family=\"Helvetica,sans-Serif\" font-size=\"14.00\">gini = 0.0</text>\r\n",
       "<text text-anchor=\"start\" x=\"483.5\" y=\"-149.3\" font-family=\"Helvetica,sans-Serif\" font-size=\"14.00\">samples = 1</text>\r\n",
       "<text text-anchor=\"start\" x=\"482.5\" y=\"-134.3\" font-family=\"Helvetica,sans-Serif\" font-size=\"14.00\">value = [0, 1]</text>\r\n",
       "<text text-anchor=\"start\" x=\"464\" y=\"-119.3\" font-family=\"Helvetica,sans-Serif\" font-size=\"14.00\">class = Not at Risk</text>\r\n",
       "</g>\r\n",
       "<!-- 8&#45;&gt;9 -->\r\n",
       "<g id=\"edge9\" class=\"edge\"><title>8&#45;&gt;9</title>\r\n",
       "<path fill=\"none\" stroke=\"black\" d=\"M523,-222.907C523,-212.204 523,-200.615 523,-189.776\"/>\r\n",
       "<polygon fill=\"black\" stroke=\"black\" points=\"526.5,-189.667 523,-179.667 519.5,-189.667 526.5,-189.667\"/>\r\n",
       "</g>\r\n",
       "<!-- 10 -->\r\n",
       "<g id=\"node11\" class=\"node\"><title>10</title>\r\n",
       "<path fill=\"#e58139\" fill-opacity=\"0.776471\" stroke=\"black\" d=\"M706,-187C706,-187 620,-187 620,-187 614,-187 608,-181 608,-175 608,-175 608,-116 608,-116 608,-110 614,-104 620,-104 620,-104 706,-104 706,-104 712,-104 718,-110 718,-116 718,-116 718,-175 718,-175 718,-181 712,-187 706,-187\"/>\r\n",
       "<text text-anchor=\"start\" x=\"625.5\" y=\"-171.8\" font-family=\"Helvetica,sans-Serif\" font-size=\"14.00\">higher ≤ 0.5</text>\r\n",
       "<text text-anchor=\"start\" x=\"621.5\" y=\"-156.8\" font-family=\"Helvetica,sans-Serif\" font-size=\"14.00\">gini = 0.2975</text>\r\n",
       "<text text-anchor=\"start\" x=\"619.5\" y=\"-141.8\" font-family=\"Helvetica,sans-Serif\" font-size=\"14.00\">samples = 22</text>\r\n",
       "<text text-anchor=\"start\" x=\"618.5\" y=\"-126.8\" font-family=\"Helvetica,sans-Serif\" font-size=\"14.00\">value = [18, 4]</text>\r\n",
       "<text text-anchor=\"start\" x=\"616\" y=\"-111.8\" font-family=\"Helvetica,sans-Serif\" font-size=\"14.00\">class = At Risk</text>\r\n",
       "</g>\r\n",
       "<!-- 8&#45;&gt;10 -->\r\n",
       "<g id=\"edge10\" class=\"edge\"><title>8&#45;&gt;10</title>\r\n",
       "<path fill=\"none\" stroke=\"black\" d=\"M571.572,-222.907C582.866,-213.469 594.983,-203.343 606.582,-193.649\"/>\r\n",
       "<polygon fill=\"black\" stroke=\"black\" points=\"609.085,-196.119 614.514,-187.021 604.596,-190.748 609.085,-196.119\"/>\r\n",
       "</g>\r\n",
       "<!-- 11 -->\r\n",
       "<g id=\"node12\" class=\"node\"><title>11</title>\r\n",
       "<path fill=\"#e58139\" stroke=\"black\" d=\"M696,-68C696,-68 610,-68 610,-68 604,-68 598,-62 598,-56 598,-56 598,-12 598,-12 598,-6 604,-0 610,-0 610,-0 696,-0 696,-0 702,-0 708,-6 708,-12 708,-12 708,-56 708,-56 708,-62 702,-68 696,-68\"/>\r\n",
       "<text text-anchor=\"start\" x=\"624\" y=\"-52.8\" font-family=\"Helvetica,sans-Serif\" font-size=\"14.00\">gini = 0.0</text>\r\n",
       "<text text-anchor=\"start\" x=\"613.5\" y=\"-37.8\" font-family=\"Helvetica,sans-Serif\" font-size=\"14.00\">samples = 6</text>\r\n",
       "<text text-anchor=\"start\" x=\"612.5\" y=\"-22.8\" font-family=\"Helvetica,sans-Serif\" font-size=\"14.00\">value = [6, 0]</text>\r\n",
       "<text text-anchor=\"start\" x=\"606\" y=\"-7.8\" font-family=\"Helvetica,sans-Serif\" font-size=\"14.00\">class = At Risk</text>\r\n",
       "</g>\r\n",
       "<!-- 10&#45;&gt;11 -->\r\n",
       "<g id=\"edge11\" class=\"edge\"><title>10&#45;&gt;11</title>\r\n",
       "<path fill=\"none\" stroke=\"black\" d=\"M659.276,-103.726C658.518,-95.4263 657.718,-86.6671 656.953,-78.2834\"/>\r\n",
       "<polygon fill=\"black\" stroke=\"black\" points=\"660.436,-77.9398 656.041,-68.2996 653.465,-78.5765 660.436,-77.9398\"/>\r\n",
       "</g>\r\n",
       "<!-- 12 -->\r\n",
       "<g id=\"node13\" class=\"node\"><title>12</title>\r\n",
       "<path fill=\"#e58139\" fill-opacity=\"0.666667\" stroke=\"black\" d=\"M824,-68C824,-68 738,-68 738,-68 732,-68 726,-62 726,-56 726,-56 726,-12 726,-12 726,-6 732,-0 738,-0 738,-0 824,-0 824,-0 830,-0 836,-6 836,-12 836,-12 836,-56 836,-56 836,-62 830,-68 824,-68\"/>\r\n",
       "<text text-anchor=\"start\" x=\"743.5\" y=\"-52.8\" font-family=\"Helvetica,sans-Serif\" font-size=\"14.00\">gini = 0.375</text>\r\n",
       "<text text-anchor=\"start\" x=\"737.5\" y=\"-37.8\" font-family=\"Helvetica,sans-Serif\" font-size=\"14.00\">samples = 16</text>\r\n",
       "<text text-anchor=\"start\" x=\"736.5\" y=\"-22.8\" font-family=\"Helvetica,sans-Serif\" font-size=\"14.00\">value = [12, 4]</text>\r\n",
       "<text text-anchor=\"start\" x=\"734\" y=\"-7.8\" font-family=\"Helvetica,sans-Serif\" font-size=\"14.00\">class = At Risk</text>\r\n",
       "</g>\r\n",
       "<!-- 10&#45;&gt;12 -->\r\n",
       "<g id=\"edge12\" class=\"edge\"><title>10&#45;&gt;12</title>\r\n",
       "<path fill=\"none\" stroke=\"black\" d=\"M706.939,-103.726C716.964,-94.423 727.611,-84.5428 737.614,-75.2612\"/>\r\n",
       "<polygon fill=\"black\" stroke=\"black\" points=\"740.166,-77.6673 745.116,-68.2996 735.405,-72.5362 740.166,-77.6673\"/>\r\n",
       "</g>\r\n",
       "</g>\r\n",
       "</svg>\r\n"
      ],
      "text/plain": [
       "<graphviz.files.Source at 0x223e914d160>"
      ]
     },
     "execution_count": 15,
     "metadata": {},
     "output_type": "execute_result"
    }
   ],
   "source": [
    "# Plot out the tree\n",
    "from IPython.display import Image\n",
    "from sklearn.externals.six import StringIO\n",
    "from graphviz import Source\n",
    "\n",
    "resNames = ['At Risk','Not at Risk']\n",
    "dot_data = StringIO()\n",
    "\n",
    "tree.export_graphviz(clf, out_file=dot_data,  \n",
    "                         feature_names=fNames,\n",
    "                         class_names=resNames,\n",
    "                         filled=True, rounded=True,  \n",
    "                         special_characters=True)  \n",
    "src = Source(dot_data.getvalue())\n",
    "print(\"Visual Representation of the Risk Identifier Model\")\n",
    "src"
   ]
  },
  {
   "cell_type": "markdown",
   "metadata": {},
   "source": [
    "### References\n",
    "For this project I made extensive use of the scikit-learn documentation and the course materials."
   ]
  }
 ],
 "metadata": {
  "kernelspec": {
   "display_name": "Python 3",
   "language": "python",
   "name": "python3"
  },
  "language_info": {
   "codemirror_mode": {
    "name": "ipython",
    "version": 3
   },
   "file_extension": ".py",
   "mimetype": "text/x-python",
   "name": "python",
   "nbconvert_exporter": "python",
   "pygments_lexer": "ipython3",
   "version": "3.5.1"
  }
 },
 "nbformat": 4,
 "nbformat_minor": 0
}
