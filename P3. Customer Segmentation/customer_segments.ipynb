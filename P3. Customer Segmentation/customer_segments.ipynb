{
 "cells": [
  {
   "cell_type": "markdown",
   "metadata": {},
   "source": [
    "# Creating Customer Segments"
   ]
  },
  {
   "cell_type": "markdown",
   "metadata": {},
   "source": [
    "In this project you, will analyze a dataset containing annual spending amounts for internal structure, to understand the variation in the different types of customers that a wholesale distributor interacts with.\n",
    "\n",
    "Instructions:\n",
    "\n",
    "- Run each code block below by pressing **Shift+Enter**, making sure to implement any steps marked with a TODO.\n",
    "- Answer each question in the space provided by editing the blocks labeled \"Answer:\".\n",
    "- When you are done, submit the completed notebook (.ipynb) with all code blocks executed, as well as a .pdf version (File > Download as)."
   ]
  },
  {
   "cell_type": "code",
   "execution_count": 60,
   "metadata": {
    "collapsed": false
   },
   "outputs": [
    {
     "name": "stdout",
     "output_type": "stream",
     "text": [
      "Dataset has 440 rows, 6 columns\n",
      "   Fresh  Milk  Grocery  Frozen  Detergents_Paper  Delicatessen\n",
      "0  12669  9656     7561     214              2674          1338\n",
      "1   7057  9810     9568    1762              3293          1776\n",
      "2   6353  8808     7684    2405              3516          7844\n",
      "3  13265  1196     4221    6404               507          1788\n",
      "4  22615  5410     7198    3915              1777          5185\n"
     ]
    }
   ],
   "source": [
    "# Import libraries: NumPy, pandas, matplotlib\n",
    "import numpy as np\n",
    "import pandas as pd\n",
    "import matplotlib.pyplot as plt\n",
    "from mpl_toolkits.mplot3d import Axes3D\n",
    "import pylab\n",
    "\n",
    "# Tell iPython to include plots inline in the notebook\n",
    "%matplotlib inline\n",
    "\n",
    "# Read dataset\n",
    "data = pd.read_csv(\"wholesale-customers.csv\")\n",
    "print(\"Dataset has {} rows, {} columns\".format(*data.shape))\n",
    "print(data.head())  # print the first 5 rows"
   ]
  },
  {
   "cell_type": "markdown",
   "metadata": {},
   "source": [
    "## Feature Transformation"
   ]
  },
  {
   "cell_type": "markdown",
   "metadata": {},
   "source": [
    "**1)** In this section you will be using PCA and ICA to start to understand the structure of the data. Before doing any computations, what do you think will show up in your computations? List one or two ideas for what might show up as the first PCA dimensions, or what type of vectors will show up as ICA dimensions."
   ]
  },
  {
   "cell_type": "markdown",
   "metadata": {},
   "source": [
    "Answer: Since PCA is going to look to create features that maximize variance, we should see it identify common patterns for different purchaser profiles (corner stores might order a lot of Deli and Dairy but little Detergents etc.)  "
   ]
  },
  {
   "cell_type": "markdown",
   "metadata": {},
   "source": [
    "### PCA"
   ]
  },
  {
   "cell_type": "code",
   "execution_count": 81,
   "metadata": {
    "collapsed": false
   },
   "outputs": [
    {
     "data": {
      "text/html": [
       "<div>\n",
       "<table border=\"1\" class=\"dataframe\">\n",
       "  <thead>\n",
       "    <tr style=\"text-align: right;\">\n",
       "      <th></th>\n",
       "      <th>1</th>\n",
       "      <th>2</th>\n",
       "      <th>3</th>\n",
       "      <th>4</th>\n",
       "      <th>5</th>\n",
       "      <th>6</th>\n",
       "    </tr>\n",
       "  </thead>\n",
       "  <tbody>\n",
       "    <tr>\n",
       "      <th>index</th>\n",
       "      <td>0.000000</td>\n",
       "      <td>1.000000</td>\n",
       "      <td>2.000000</td>\n",
       "      <td>3.000000</td>\n",
       "      <td>4.000000</td>\n",
       "      <td>5.000000</td>\n",
       "    </tr>\n",
       "    <tr>\n",
       "      <th>Fresh</th>\n",
       "      <td>-0.720606</td>\n",
       "      <td>0.325226</td>\n",
       "      <td>-0.066263</td>\n",
       "      <td>0.253652</td>\n",
       "      <td>-0.545133</td>\n",
       "      <td>-0.095159</td>\n",
       "    </tr>\n",
       "    <tr>\n",
       "      <th>Milk</th>\n",
       "      <td>0.344109</td>\n",
       "      <td>-0.057227</td>\n",
       "      <td>-0.853474</td>\n",
       "      <td>0.043070</td>\n",
       "      <td>-0.330984</td>\n",
       "      <td>-0.196193</td>\n",
       "    </tr>\n",
       "    <tr>\n",
       "      <th>Grocery</th>\n",
       "      <td>0.537571</td>\n",
       "      <td>0.220449</td>\n",
       "      <td>0.405897</td>\n",
       "      <td>0.589184</td>\n",
       "      <td>-0.314658</td>\n",
       "      <td>-0.226980</td>\n",
       "    </tr>\n",
       "    <tr>\n",
       "      <th>Frozen</th>\n",
       "      <td>-0.106800</td>\n",
       "      <td>-0.898543</td>\n",
       "      <td>0.183398</td>\n",
       "      <td>0.077656</td>\n",
       "      <td>-0.365427</td>\n",
       "      <td>-0.089507</td>\n",
       "    </tr>\n",
       "    <tr>\n",
       "      <th>Detergents_Paper</th>\n",
       "      <td>0.247658</td>\n",
       "      <td>0.167915</td>\n",
       "      <td>0.206943</td>\n",
       "      <td>-0.611852</td>\n",
       "      <td>-0.600605</td>\n",
       "      <td>0.364081</td>\n",
       "    </tr>\n",
       "    <tr>\n",
       "      <th>Delicatessen</th>\n",
       "      <td>0.024347</td>\n",
       "      <td>-0.082343</td>\n",
       "      <td>-0.161182</td>\n",
       "      <td>0.454174</td>\n",
       "      <td>-0.002605</td>\n",
       "      <td>0.871990</td>\n",
       "    </tr>\n",
       "    <tr>\n",
       "      <th>Expl_Variance</th>\n",
       "      <td>0.681885</td>\n",
       "      <td>0.146152</td>\n",
       "      <td>0.096222</td>\n",
       "      <td>0.033272</td>\n",
       "      <td>0.021943</td>\n",
       "      <td>0.020526</td>\n",
       "    </tr>\n",
       "    <tr>\n",
       "      <th>Cum_Variance</th>\n",
       "      <td>0.681885</td>\n",
       "      <td>0.828037</td>\n",
       "      <td>0.924259</td>\n",
       "      <td>0.957531</td>\n",
       "      <td>0.979474</td>\n",
       "      <td>1.000000</td>\n",
       "    </tr>\n",
       "  </tbody>\n",
       "</table>\n",
       "</div>"
      ],
      "text/plain": [
       "                         1         2         3         4         5         6\n",
       "index             0.000000  1.000000  2.000000  3.000000  4.000000  5.000000\n",
       "Fresh            -0.720606  0.325226 -0.066263  0.253652 -0.545133 -0.095159\n",
       "Milk              0.344109 -0.057227 -0.853474  0.043070 -0.330984 -0.196193\n",
       "Grocery           0.537571  0.220449  0.405897  0.589184 -0.314658 -0.226980\n",
       "Frozen           -0.106800 -0.898543  0.183398  0.077656 -0.365427 -0.089507\n",
       "Detergents_Paper  0.247658  0.167915  0.206943 -0.611852 -0.600605  0.364081\n",
       "Delicatessen      0.024347 -0.082343 -0.161182  0.454174 -0.002605  0.871990\n",
       "Expl_Variance     0.681885  0.146152  0.096222  0.033272  0.021943  0.020526\n",
       "Cum_Variance      0.681885  0.828037  0.924259  0.957531  0.979474  1.000000"
      ]
     },
     "execution_count": 81,
     "metadata": {},
     "output_type": "execute_result"
    }
   ],
   "source": [
    "# TODO: Apply PCA with the same number of dimensions as variables in the dataset\n",
    "from sklearn.decomposition import PCA\n",
    "from sklearn.preprocessing import scale\n",
    "\n",
    "# Scale the data:\n",
    "#scaled = scale(data)\n",
    "scaled = preprocessing.normalize(data)\n",
    "\n",
    "# Build and run the PCA analysis with the number of components set to the original number \n",
    "# of features as requested. \n",
    "pca = PCA(n_components=data.shape[1])\n",
    "pca.fit_transform(scaled)\n",
    "\n",
    "# Print the components and the amount of variance in the data contained in each dimension\n",
    "dispDF = pd.DataFrame(pca.components_)\n",
    "dispDF.columns = data.columns\n",
    "dispDF = dispDF.reset_index()\n",
    "dispDF['Expl_Variance'] = pca.explained_variance_ratio_\n",
    "dispDF['Cum_Variance'] = dispDF['Expl_Variance'].cumsum()\n",
    "\n",
    "dispDF = dispDF.T\n",
    "dispDF.columns = [range(1,7,1)]\n",
    "dispDF"
   ]
  },
  {
   "cell_type": "markdown",
   "metadata": {},
   "source": [
    "**2)** How quickly does the variance drop off by dimension? If you were to use PCA on this dataset, how many dimensions would you choose for your analysis? Why?"
   ]
  },
  {
   "cell_type": "markdown",
   "metadata": {
    "collapsed": true
   },
   "source": [
    "Answer: \n",
    "By the third principal component, we have almost 85% of the variance explained and by the fourth, 94%. I'd probably stop at the fourth to reduce the chances of overfitting in an eventual model and to keep it simpler unless there were other factors needed."
   ]
  },
  {
   "cell_type": "markdown",
   "metadata": {},
   "source": [
    "**3)** What do the dimensions seem to represent? How can you use this information?\n"
   ]
  },
  {
   "cell_type": "markdown",
   "metadata": {
    "collapsed": true
   },
   "source": [
    "Answer: The dimensions appear to show relationships between what is frequently purchased together. This information could be used in clustering order types potentially.\n",
    "\n",
    "The first component has a strong negative correlation between Groceries, Milk, Detergents & Paper and somewhat less with Deli products which would imply these are not frequently purchased in quantity by the same clients in relation to this component. Since all of the components are negatively related this could represent focused orders for Milk, Groceries or Detergents & Paper as being the primary component implying that there are few stores that carry large volumes of all product lines.\n",
    "\n",
    "The second correlates with an increase in Detergents and Paper and then with Frozen products and is negtively related with the other categories to various levels. \n",
    "\n",
    "The third component is strongly related to the Deli products and then the Frozen and Milk and strongly negatively with Fresh produce purchases. This could point to orders from convinience stores and gas stations where the majority of the product is non-perishable or delicatessen in nature."
   ]
  },
  {
   "cell_type": "code",
   "execution_count": 82,
   "metadata": {
    "collapsed": false
   },
   "outputs": [
    {
     "data": {
      "image/png": "[encoded data removed]",
      "text/plain": [
       "<matplotlib.figure.Figure at 0x7f3345109e90>"
      ]
     },
     "metadata": {},
     "output_type": "display_data"
    }
   ],
   "source": [
    "def randrange(n, vmin, vmax):\n",
    "    return (vmax - vmin)*np.random.rand(n) + vmin\n",
    "\n",
    "pylab.rcParams['figure.figsize'] = (16.0, 16.0)\n",
    "\n",
    "x, y, z = 'Fresh','Grocery','Milk'\n",
    "\n",
    "\n",
    "sc = pd.DataFrame(scaled)\n",
    "sc.columns = data.columns\n",
    "\n",
    "fig = plt.figure()\n",
    "ax = fig.add_subplot(111)\n",
    "n = 100\n",
    "for r, v in data.T.iteritems():\n",
    "    ax.scatter(v[x],v[y])\n",
    "\n",
    "ax.set_xlabel(x)\n",
    "ax.set_ylabel(y)\n",
    "#ax.set_xlabel(z)\n",
    "\n",
    "plt.show()"
   ]
  },
  {
   "cell_type": "markdown",
   "metadata": {},
   "source": [
    "### ICA"
   ]
  },
  {
   "cell_type": "code",
   "execution_count": 83,
   "metadata": {
    "collapsed": false
   },
   "outputs": [
    {
     "data": {
      "text/html": [
       "<div>\n",
       "<table border=\"1\" class=\"dataframe\">\n",
       "  <thead>\n",
       "    <tr style=\"text-align: right;\">\n",
       "      <th></th>\n",
       "      <th>0</th>\n",
       "      <th>1</th>\n",
       "      <th>2</th>\n",
       "      <th>3</th>\n",
       "      <th>4</th>\n",
       "      <th>5</th>\n",
       "    </tr>\n",
       "  </thead>\n",
       "  <tbody>\n",
       "    <tr>\n",
       "      <th>Fresh</th>\n",
       "      <td>-0.053767</td>\n",
       "      <td>-0.084746</td>\n",
       "      <td>0.142851</td>\n",
       "      <td>0.032646</td>\n",
       "      <td>-0.057999</td>\n",
       "      <td>-0.309245</td>\n",
       "    </tr>\n",
       "    <tr>\n",
       "      <th>Milk</th>\n",
       "      <td>0.030098</td>\n",
       "      <td>0.201745</td>\n",
       "      <td>0.096722</td>\n",
       "      <td>0.022713</td>\n",
       "      <td>-0.068367</td>\n",
       "      <td>-0.231838</td>\n",
       "    </tr>\n",
       "    <tr>\n",
       "      <th>Grocery</th>\n",
       "      <td>0.078045</td>\n",
       "      <td>-0.179441</td>\n",
       "      <td>0.082948</td>\n",
       "      <td>-0.194210</td>\n",
       "      <td>-0.063612</td>\n",
       "      <td>-0.249253</td>\n",
       "    </tr>\n",
       "    <tr>\n",
       "      <th>Frozen</th>\n",
       "      <td>0.015280</td>\n",
       "      <td>-0.040825</td>\n",
       "      <td>-0.162070</td>\n",
       "      <td>0.042017</td>\n",
       "      <td>-0.053056</td>\n",
       "      <td>-0.247241</td>\n",
       "    </tr>\n",
       "    <tr>\n",
       "      <th>Detergents_Paper</th>\n",
       "      <td>0.058812</td>\n",
       "      <td>-0.106361</td>\n",
       "      <td>0.043698</td>\n",
       "      <td>0.480253</td>\n",
       "      <td>-0.000566</td>\n",
       "      <td>-0.116642</td>\n",
       "    </tr>\n",
       "    <tr>\n",
       "      <th>Delicatessen</th>\n",
       "      <td>-0.000663</td>\n",
       "      <td>-0.108887</td>\n",
       "      <td>0.034400</td>\n",
       "      <td>0.070005</td>\n",
       "      <td>0.553785</td>\n",
       "      <td>-0.035789</td>\n",
       "    </tr>\n",
       "  </tbody>\n",
       "</table>\n",
       "</div>"
      ],
      "text/plain": [
       "                         0         1         2         3         4         5\n",
       "Fresh            -0.053767 -0.084746  0.142851  0.032646 -0.057999 -0.309245\n",
       "Milk              0.030098  0.201745  0.096722  0.022713 -0.068367 -0.231838\n",
       "Grocery           0.078045 -0.179441  0.082948 -0.194210 -0.063612 -0.249253\n",
       "Frozen            0.015280 -0.040825 -0.162070  0.042017 -0.053056 -0.247241\n",
       "Detergents_Paper  0.058812 -0.106361  0.043698  0.480253 -0.000566 -0.116642\n",
       "Delicatessen     -0.000663 -0.108887  0.034400  0.070005  0.553785 -0.035789"
      ]
     },
     "execution_count": 83,
     "metadata": {},
     "output_type": "execute_result"
    }
   ],
   "source": [
    "# TODO: Fit an ICA model to the data\n",
    "# Note: Adjust the data to have center at the origin first!\n",
    "from sklearn.decomposition import FastICA\n",
    "ica = FastICA(n_components=data.shape[1])\n",
    "ica.fit_transform(scaled)\n",
    "# Print the independent components\n",
    "icaDf = pd.DataFrame(ica.components_)\n",
    "icaDf.columns = data.columns\n",
    "icaDf.T"
   ]
  },
  {
   "cell_type": "markdown",
   "metadata": {},
   "source": [
    "**4)** For each vector in the ICA decomposition, write a sentence or two explaining what sort of object or property it corresponds to. What could these components be used for?"
   ]
  },
  {
   "cell_type": "markdown",
   "metadata": {
    "collapsed": true
   },
   "source": [
    "Answer: The independant components could represent the type of store represented by each order group:\n",
    "\n",
    "1. Seems to focus on detergents and dairy \n",
    "2. "
   ]
  },
  {
   "cell_type": "markdown",
   "metadata": {},
   "source": [
    "## Clustering\n",
    "\n",
    "In this section you will choose either K Means clustering or Gaussian Mixed Models clustering, which implements expectation-maximization. Then you will sample elements from the clusters to understand their significance."
   ]
  },
  {
   "cell_type": "markdown",
   "metadata": {},
   "source": [
    "### Choose a Cluster Type\n",
    "\n",
    "**5)** What are the advantages of using K Means clustering or Gaussian Mixture Models?"
   ]
  },
  {
   "cell_type": "markdown",
   "metadata": {},
   "source": [
    "Answer: "
   ]
  },
  {
   "cell_type": "markdown",
   "metadata": {},
   "source": [
    "**6)** Below is some starter code to help you visualize some cluster data. The visualization is based on [this demo](http://scikit-learn.org/stable/auto_examples/cluster/plot_kmeans_digits.html) from the sklearn documentation."
   ]
  },
  {
   "cell_type": "code",
   "execution_count": 84,
   "metadata": {
    "collapsed": true
   },
   "outputs": [],
   "source": [
    "# Import clustering modules\n",
    "from sklearn.cluster import KMeans\n",
    "from sklearn.mixture import GMM"
   ]
  },
  {
   "cell_type": "code",
   "execution_count": 85,
   "metadata": {
    "collapsed": false
   },
   "outputs": [
    {
     "name": "stdout",
     "output_type": "stream",
     "text": [
      "[[ 0.0747855   0.85626054]\n",
      " [ 0.77133585  0.22136883]\n",
      " [ 0.67096448 -0.26364005]\n",
      " [-0.84300783 -0.76783623]\n",
      " [-0.70000196  0.36529224]\n",
      " [ 0.08205991  0.56880451]\n",
      " [-0.26404871  1.15456387]\n",
      " [ 0.5268229   0.49428428]\n",
      " [ 0.36407001  0.89197463]\n",
      " [ 1.24993937  0.51819534]]\n"
     ]
    }
   ],
   "source": [
    "# TODO: First we reduce the data to two dimensions using PCA to capture variation\n",
    "\n",
    "pcaR = PCA(n_components=2, whiten=True)\n",
    "reduced_data = pcaR.fit_transform(scaled)\n",
    "print reduced_data[:10]  # print upto 10 elements"
   ]
  },
  {
   "cell_type": "code",
   "execution_count": 86,
   "metadata": {
    "collapsed": false
   },
   "outputs": [
    {
     "name": "stdout",
     "output_type": "stream",
     "text": [
      "GMM(covariance_type='diag', init_params='wmc', min_covar=0.001,\n",
      "  n_components=2, n_init=1, n_iter=100, params='wmc', random_state=None,\n",
      "  thresh=None, tol=0.001, verbose=0)\n"
     ]
    }
   ],
   "source": [
    "# TODO: Implement your clustering algorithm here, and fit it to the reduced data for visualization\n",
    "# The visualizer below assumes your clustering object is named 'clusters'\n",
    "mod = GMM(n_components=2)\n",
    "mod.fit(reduced_data)\n",
    "clusters = mod\n",
    "print(clusters)"
   ]
  },
  {
   "cell_type": "code",
   "execution_count": 87,
   "metadata": {
    "collapsed": false
   },
   "outputs": [],
   "source": [
    "# Plot the decision boundary by building a mesh grid to populate a graph.\n",
    "x_min, x_max = reduced_data[:, 0].min() - 1, reduced_data[:, 0].max() + 1\n",
    "y_min, y_max = reduced_data[:, 1].min() - 1, reduced_data[:, 1].max() + 1\n",
    "hx = (x_max-x_min)/1000.\n",
    "hy = (y_max-y_min)/1000.\n",
    "xx, yy = np.meshgrid(np.arange(x_min, x_max, hx), np.arange(y_min, y_max, hy))\n",
    "\n",
    "# Obtain labels for each point in mesh. Use last trained model.\n",
    "Z = clusters.predict(np.c_[xx.ravel(), yy.ravel()])"
   ]
  },
  {
   "cell_type": "code",
   "execution_count": 88,
   "metadata": {
    "collapsed": false
   },
   "outputs": [
    {
     "name": "stdout",
     "output_type": "stream",
     "text": [
      "[[ 1.28653247  0.25925434]\n",
      " [-0.53380746 -0.10756969]]\n"
     ]
    }
   ],
   "source": [
    "# TODO: Find the centroids for KMeans or the cluster means for GMM \n",
    "\n",
    "centroids = mod.means_\n",
    "\n",
    "print centroids"
   ]
  },
  {
   "cell_type": "code",
   "execution_count": 89,
   "metadata": {
    "collapsed": false
   },
   "outputs": [
    {
     "data": {
      "image/png": "[encoded data removed]",
      "text/plain": [
       "<matplotlib.figure.Figure at 0x7f33451f20d0>"
      ]
     },
     "metadata": {},
     "output_type": "display_data"
    }
   ],
   "source": [
    "# Put the result into a color plot\n",
    "Z = Z.reshape(xx.shape)\n",
    "plt.figure(1)\n",
    "plt.clf()\n",
    "plt.imshow(Z, interpolation='nearest',\n",
    "           extent=(xx.min(), xx.max(), yy.min(), yy.max()),\n",
    "           cmap=plt.cm.Paired,\n",
    "           aspect='auto', origin='lower')\n",
    "\n",
    "plt.plot(reduced_data[:, 0], reduced_data[:, 1], 'k.', markersize=2)\n",
    "plt.scatter(centroids[:, 0], centroids[:, 1],\n",
    "            marker='x', s=169, linewidths=3,\n",
    "            color='w', zorder=10)\n",
    "plt.title('Clustering on the wholesale grocery dataset (PCA-reduced data)\\n'\n",
    "          'Centroids are marked with white cross')\n",
    "plt.xlim(x_min, x_max)\n",
    "plt.ylim(y_min, y_max)\n",
    "plt.xticks(())\n",
    "plt.yticks(())\n",
    "plt.show()"
   ]
  },
  {
   "cell_type": "markdown",
   "metadata": {},
   "source": [
    "**7)** What are the central objects in each cluster? Describe them as customers."
   ]
  },
  {
   "cell_type": "markdown",
   "metadata": {
    "collapsed": true
   },
   "source": [
    "Answer: "
   ]
  },
  {
   "cell_type": "markdown",
   "metadata": {},
   "source": [
    "### Conclusions\n",
    "\n",
    "** 8)** Which of these techniques did you feel gave you the most insight into the data?"
   ]
  },
  {
   "cell_type": "markdown",
   "metadata": {
    "collapsed": true
   },
   "source": [
    "Answer: "
   ]
  },
  {
   "cell_type": "markdown",
   "metadata": {
    "collapsed": true
   },
   "source": [
    "**9)** How would you use that technique to help the company design new experiments?"
   ]
  },
  {
   "cell_type": "markdown",
   "metadata": {},
   "source": [
    "Answer: I'd try to engineer the tests to ensure both samples draw evenly from each cluster of customers to ensure they are appropriatly balanced."
   ]
  },
  {
   "cell_type": "markdown",
   "metadata": {},
   "source": [
    "**10)** How would you use that data to help you predict future customer needs?"
   ]
  },
  {
   "cell_type": "markdown",
   "metadata": {},
   "source": [
    "Answer: "
   ]
  }
 ],
 "metadata": {
  "kernelspec": {
   "display_name": "Python 2",
   "language": "python",
   "name": "python2"
  },
  "language_info": {
   "codemirror_mode": {
    "name": "ipython",
    "version": 2
   },
   "file_extension": ".py",
   "mimetype": "text/x-python",
   "name": "python",
   "nbconvert_exporter": "python",
   "pygments_lexer": "ipython2",
   "version": "2.7.11"
  }
 },
 "nbformat": 4,
 "nbformat_minor": 0
}
