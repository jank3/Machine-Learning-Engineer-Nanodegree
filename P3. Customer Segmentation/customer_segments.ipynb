{
 "cells": [
  {
   "cell_type": "markdown",
   "metadata": {},
   "source": [
    "# Creating Customer Segments"
   ]
  },
  {
   "cell_type": "markdown",
   "metadata": {},
   "source": [
    "In this project you, will analyze a dataset containing annual spending amounts for internal structure, to understand the variation in the different types of customers that a wholesale distributor interacts with.\n",
    "\n",
    "Instructions:\n",
    "\n",
    "- Run each code block below by pressing **Shift+Enter**, making sure to implement any steps marked with a TODO.\n",
    "- Answer each question in the space provided by editing the blocks labeled \"Answer:\".\n",
    "- When you are done, submit the completed notebook (.ipynb) with all code blocks executed, as well as a .pdf version (File > Download as)."
   ]
  },
  {
   "cell_type": "code",
   "execution_count": 19,
   "metadata": {
    "collapsed": false
   },
   "outputs": [
    {
     "name": "stdout",
     "output_type": "stream",
     "text": [
      "Dataset has 440 rows, 6 columns\n",
      "   Fresh  Milk  Grocery  Frozen  Detergents_Paper  Delicatessen\n",
      "0  12669  9656     7561     214              2674          1338\n",
      "1   7057  9810     9568    1762              3293          1776\n",
      "2   6353  8808     7684    2405              3516          7844\n",
      "3  13265  1196     4221    6404               507          1788\n",
      "4  22615  5410     7198    3915              1777          5185\n"
     ]
    }
   ],
   "source": [
    "# Import libraries: NumPy, pandas, matplotlib\n",
    "import numpy as np\n",
    "import pandas as pd\n",
    "from IPython.core.display import HTML\n",
    "import matplotlib.pyplot as plt\n",
    "\n",
    "from mpl_toolkits.mplot3d import Axes3D\n",
    "import pylab\n",
    "\n",
    "# Tell iPython to include plots inline in the notebook\n",
    "%matplotlib inline\n",
    "\n",
    "# Read dataset\n",
    "data = pd.read_csv(\"wholesale-customers.csv\")\n",
    "print(\"Dataset has {} rows, {} columns\".format(*data.shape))\n",
    "print(data.head())  # print the first 5 rows"
   ]
  },
  {
   "cell_type": "markdown",
   "metadata": {},
   "source": [
    "## Feature Transformation"
   ]
  },
  {
   "cell_type": "markdown",
   "metadata": {},
   "source": [
    "**1)** In this section you will be using PCA and ICA to start to understand the structure of the data. Before doing any computations, what do you think will show up in your computations? List one or two ideas for what might show up as the first PCA dimensions, or what type of vectors will show up as ICA dimensions."
   ]
  },
  {
   "cell_type": "markdown",
   "metadata": {},
   "source": [
    "Answer: Since PCA is going to look to create features that maximize variance, we should see it identify common patterns for different purchaser profiles. ICA on the other hand is looking for statistically unrelated sources and so will likely identify something like the underlying store type (corner store vs. full grocery vs. deli)."
   ]
  },
  {
   "cell_type": "markdown",
   "metadata": {},
   "source": [
    "### PCA"
   ]
  },
  {
   "cell_type": "code",
   "execution_count": 2,
   "metadata": {
    "collapsed": false
   },
   "outputs": [
    {
     "data": {
      "text/html": [
       "<div>\n",
       "<table border=\"1\" class=\"dataframe\">\n",
       "  <thead>\n",
       "    <tr style=\"text-align: right;\">\n",
       "      <th></th>\n",
       "      <th>P.C. 1</th>\n",
       "      <th>P.C. 2</th>\n",
       "      <th>P.C. 3</th>\n",
       "      <th>P.C. 4</th>\n",
       "      <th>P.C. 5</th>\n",
       "      <th>P.C. 6</th>\n",
       "    </tr>\n",
       "  </thead>\n",
       "  <tbody>\n",
       "    <tr>\n",
       "      <th>Fresh</th>\n",
       "      <td>-0.720606</td>\n",
       "      <td>0.325226</td>\n",
       "      <td>-0.066263</td>\n",
       "      <td>0.253652</td>\n",
       "      <td>-0.545133</td>\n",
       "      <td>-0.095159</td>\n",
       "    </tr>\n",
       "    <tr>\n",
       "      <th>Milk</th>\n",
       "      <td>0.344109</td>\n",
       "      <td>-0.057227</td>\n",
       "      <td>-0.853474</td>\n",
       "      <td>0.043070</td>\n",
       "      <td>-0.330984</td>\n",
       "      <td>-0.196193</td>\n",
       "    </tr>\n",
       "    <tr>\n",
       "      <th>Grocery</th>\n",
       "      <td>0.537571</td>\n",
       "      <td>0.220449</td>\n",
       "      <td>0.405897</td>\n",
       "      <td>0.589184</td>\n",
       "      <td>-0.314658</td>\n",
       "      <td>-0.226980</td>\n",
       "    </tr>\n",
       "    <tr>\n",
       "      <th>Frozen</th>\n",
       "      <td>-0.106800</td>\n",
       "      <td>-0.898543</td>\n",
       "      <td>0.183398</td>\n",
       "      <td>0.077656</td>\n",
       "      <td>-0.365427</td>\n",
       "      <td>-0.089507</td>\n",
       "    </tr>\n",
       "    <tr>\n",
       "      <th>Detergents_Paper</th>\n",
       "      <td>0.247658</td>\n",
       "      <td>0.167915</td>\n",
       "      <td>0.206943</td>\n",
       "      <td>-0.611852</td>\n",
       "      <td>-0.600605</td>\n",
       "      <td>0.364081</td>\n",
       "    </tr>\n",
       "    <tr>\n",
       "      <th>Delicatessen</th>\n",
       "      <td>0.024347</td>\n",
       "      <td>-0.082343</td>\n",
       "      <td>-0.161182</td>\n",
       "      <td>0.454174</td>\n",
       "      <td>-0.002605</td>\n",
       "      <td>0.871990</td>\n",
       "    </tr>\n",
       "    <tr>\n",
       "      <th>Expl_Variance</th>\n",
       "      <td>0.681885</td>\n",
       "      <td>0.146152</td>\n",
       "      <td>0.096222</td>\n",
       "      <td>0.033272</td>\n",
       "      <td>0.021943</td>\n",
       "      <td>0.020526</td>\n",
       "    </tr>\n",
       "    <tr>\n",
       "      <th>Cum_Variance</th>\n",
       "      <td>0.681885</td>\n",
       "      <td>0.828037</td>\n",
       "      <td>0.924259</td>\n",
       "      <td>0.957531</td>\n",
       "      <td>0.979474</td>\n",
       "      <td>1.000000</td>\n",
       "    </tr>\n",
       "  </tbody>\n",
       "</table>\n",
       "</div>"
      ],
      "text/plain": [
       "                    P.C. 1    P.C. 2    P.C. 3    P.C. 4    P.C. 5    P.C. 6\n",
       "Fresh            -0.720606  0.325226 -0.066263  0.253652 -0.545133 -0.095159\n",
       "Milk              0.344109 -0.057227 -0.853474  0.043070 -0.330984 -0.196193\n",
       "Grocery           0.537571  0.220449  0.405897  0.589184 -0.314658 -0.226980\n",
       "Frozen           -0.106800 -0.898543  0.183398  0.077656 -0.365427 -0.089507\n",
       "Detergents_Paper  0.247658  0.167915  0.206943 -0.611852 -0.600605  0.364081\n",
       "Delicatessen      0.024347 -0.082343 -0.161182  0.454174 -0.002605  0.871990\n",
       "Expl_Variance     0.681885  0.146152  0.096222  0.033272  0.021943  0.020526\n",
       "Cum_Variance      0.681885  0.828037  0.924259  0.957531  0.979474  1.000000"
      ]
     },
     "execution_count": 2,
     "metadata": {},
     "output_type": "execute_result"
    }
   ],
   "source": [
    "# TODO: Apply PCA with the same number of dimensions as variables in the dataset\n",
    "from sklearn.decomposition import PCA\n",
    "from sklearn.preprocessing import normalize\n",
    "\n",
    "# Scale the data using Normalization\n",
    "scaled = normalize(data, axis=1)\n",
    "\n",
    "# Build and run the PCA analysis with the number of components set to the original number \n",
    "# of features as requested. \n",
    "pca = PCA(n_components=data.shape[1])\n",
    "pca.fit_transform(scaled)\n",
    "\n",
    "# Print the components and the amount of variance in the data contained in each dimension\n",
    "dispDF = pd.DataFrame(pca.components_)\n",
    "dispDF.columns = data.columns\n",
    "dispDF = dispDF.reset_index()\n",
    "dispDF['Expl_Variance'] = pca.explained_variance_ratio_\n",
    "dispDF['Cum_Variance'] = dispDF['Expl_Variance'].cumsum()\n",
    "\n",
    "dispDF = dispDF.T\n",
    "dispDF.columns = [\"P.C. {}\".format(r) for r in range(1,7,1)]\n",
    "dispDF.drop(['index'], axis=0, inplace=True)\n",
    "dispDF"
   ]
  },
  {
   "cell_type": "markdown",
   "metadata": {},
   "source": [
    "**2)** How quickly does the variance drop off by dimension? If you were to use PCA on this dataset, how many dimensions would you choose for your analysis? Why?"
   ]
  },
  {
   "cell_type": "markdown",
   "metadata": {
    "collapsed": true
   },
   "source": [
    "Answer: \n",
    "By the third principal component, we have almost 93% of the variance explained and by the fourth, 96%. I'd probably stop at the fourth to reduce the chances of overfitting in an eventual model and to keep it simpler unless there were other factors needed."
   ]
  },
  {
   "cell_type": "markdown",
   "metadata": {},
   "source": [
    "**3)** What do the dimensions seem to represent? How can you use this information?\n"
   ]
  },
  {
   "cell_type": "markdown",
   "metadata": {
    "collapsed": true
   },
   "source": [
    "Answer: The dimensions appear to show relationships between what is frequently purchased together. This information could be used in clustering order types potentially.\n",
    "\n",
    "The first component has a correlation between Groceries, Milk amd Detergents & Paper with a strong negative relationship with Fresh Produce. This could be showing the overall demand for less-perishable foods. \n",
    "\n",
    "The second correlates with an increase in Detergents and Paper and then with Frozen products and is negtively related with the other categories to various levels. This might represent bulk purchases for end-customers since frozen items and sundries tend to be sold in bulk.\n",
    "\n",
    "The third component is strongly related to the Deli products and then the Frozen and Milk and strongly negatively with Fresh produce purchases. This could point to orders from convinience stores and gas stations where the majority of the product is non-perishable or delicatessen in nature."
   ]
  },
  {
   "cell_type": "markdown",
   "metadata": {},
   "source": [
    "### ICA"
   ]
  },
  {
   "cell_type": "code",
   "execution_count": 21,
   "metadata": {
    "collapsed": false
   },
   "outputs": [
    {
     "data": {
      "text/html": [
       "<div>\n",
       "<table border=\"1\" class=\"dataframe\">\n",
       "  <thead>\n",
       "    <tr style=\"text-align: right;\">\n",
       "      <th></th>\n",
       "      <th>I.C. 1</th>\n",
       "      <th>I.C. 2</th>\n",
       "      <th>I.C. 3</th>\n",
       "      <th>I.C. 4</th>\n",
       "      <th>I.C. 5</th>\n",
       "      <th>I.C. 6</th>\n",
       "    </tr>\n",
       "  </thead>\n",
       "  <tbody>\n",
       "    <tr>\n",
       "      <th>Fresh</th>\n",
       "      <td>0.029074</td>\n",
       "      <td>0.018005</td>\n",
       "      <td>0.011175</td>\n",
       "      <td>-0.019674</td>\n",
       "      <td>0.104880</td>\n",
       "      <td>0.048382</td>\n",
       "    </tr>\n",
       "    <tr>\n",
       "      <th>Milk</th>\n",
       "      <td>-0.043561</td>\n",
       "      <td>-0.006573</td>\n",
       "      <td>0.005563</td>\n",
       "      <td>-0.014983</td>\n",
       "      <td>0.050258</td>\n",
       "      <td>0.020934</td>\n",
       "    </tr>\n",
       "    <tr>\n",
       "      <th>Grocery</th>\n",
       "      <td>0.047442</td>\n",
       "      <td>-0.020833</td>\n",
       "      <td>-0.052257</td>\n",
       "      <td>-0.016915</td>\n",
       "      <td>0.066594</td>\n",
       "      <td>0.022251</td>\n",
       "    </tr>\n",
       "    <tr>\n",
       "      <th>Frozen</th>\n",
       "      <td>0.008355</td>\n",
       "      <td>-0.003183</td>\n",
       "      <td>0.008353</td>\n",
       "      <td>-0.010641</td>\n",
       "      <td>0.049515</td>\n",
       "      <td>-0.032534</td>\n",
       "    </tr>\n",
       "    <tr>\n",
       "      <th>Detergents_Paper</th>\n",
       "      <td>0.016666</td>\n",
       "      <td>-0.009050</td>\n",
       "      <td>0.071434</td>\n",
       "      <td>0.000045</td>\n",
       "      <td>0.017213</td>\n",
       "      <td>0.006323</td>\n",
       "    </tr>\n",
       "    <tr>\n",
       "      <th>Delicatessen</th>\n",
       "      <td>0.009656</td>\n",
       "      <td>0.000088</td>\n",
       "      <td>0.006117</td>\n",
       "      <td>0.049597</td>\n",
       "      <td>0.003223</td>\n",
       "      <td>0.003054</td>\n",
       "    </tr>\n",
       "  </tbody>\n",
       "</table>\n",
       "</div>"
      ],
      "text/plain": [
       "                    I.C. 1    I.C. 2    I.C. 3    I.C. 4    I.C. 5    I.C. 6\n",
       "Fresh             0.029074  0.018005  0.011175 -0.019674  0.104880  0.048382\n",
       "Milk             -0.043561 -0.006573  0.005563 -0.014983  0.050258  0.020934\n",
       "Grocery           0.047442 -0.020833 -0.052257 -0.016915  0.066594  0.022251\n",
       "Frozen            0.008355 -0.003183  0.008353 -0.010641  0.049515 -0.032534\n",
       "Detergents_Paper  0.016666 -0.009050  0.071434  0.000045  0.017213  0.006323\n",
       "Delicatessen      0.009656  0.000088  0.006117  0.049597  0.003223  0.003054"
      ]
     },
     "execution_count": 21,
     "metadata": {},
     "output_type": "execute_result"
    }
   ],
   "source": [
    "# TODO: Fit an ICA model to the data\n",
    "# Note: Adjust the data to have center at the origin first!\n",
    "from sklearn.decomposition import FastICA\n",
    "scaled = preprocessing.scale(scaled)\n",
    "ica = FastICA(n_components=data.shape[1])\n",
    "ica.fit_transform(scaled)\n",
    "\n",
    "# Print the independent components\n",
    "icaDf = pd.DataFrame(ica.components_)\n",
    "icaDf.columns = data.columns\n",
    "icaDf = icaDf.T\n",
    "icaDf.columns = dispDF.columns = [\"I.C. {}\".format(r) for r in range(1,7,1)]\n",
    "icaDf"
   ]
  },
  {
   "cell_type": "markdown",
   "metadata": {},
   "source": [
    "**4)** For each vector in the ICA decomposition, write a sentence or two explaining what sort of object or property it corresponds to. What could these components be used for?"
   ]
  },
  {
   "cell_type": "markdown",
   "metadata": {
    "collapsed": true
   },
   "source": [
    "Answer: The independant components could represent the type of store represented by each order group:\n",
    "\n",
    "1. IC 1 is focused on Groceries, Fresh and Detergents and Paper products. \n",
    "\n",
    "2. IC 2 is focused on Groceries and Fresh food.\n",
    "\n",
    "3. IC 3 is focused on Sundries and Groceries.\n",
    "\n",
    "4. IC 4 is focused on Deli products and then equally weighted between Fresh, Milk and Grocery.\n",
    "\n",
    "5. IC 5 is a mix of focuses with a strong relationship with Fresh products and then Grocery, Milk and Frozen products.\n",
    "\n",
    "6. IC 6 is centered on Fresh, Frozen, Milk and Grocery."
   ]
  },
  {
   "cell_type": "markdown",
   "metadata": {},
   "source": [
    "## Clustering\n",
    "\n",
    "In this section you will choose either K Means clustering or Gaussian Mixed Models clustering, which implements expectation-maximization. Then you will sample elements from the clusters to understand their significance."
   ]
  },
  {
   "cell_type": "markdown",
   "metadata": {},
   "source": [
    "### Choose a Cluster Type\n",
    "\n",
    "**5)** What are the advantages of using K Means clustering or Gaussian Mixture Models?"
   ]
  },
  {
   "cell_type": "markdown",
   "metadata": {},
   "source": [
    "Answer: K-Means uses hard assignment of points to a cluster (each point completely belongs to the nearest cluster). GMM works with a soft assignment where each point has a probability of being in each cluster computed (no point has 100% membership in any cluster) but the cluster with the highest probability is considered the cluster for that point.\n",
    "\n",
    "K-Means is a bit less intense since it only involves a simple distance metric vs. the two phase expectation/maximization steps but GMM should give us a cleaner decision boundary since it takes the probability of edge cases into account. Since the expectation/maximization phases are somewhat more involved this adds a time/computation penalty to choosing GMM but since the dataset is small, the calculation cost is negligable.  "
   ]
  },
  {
   "cell_type": "markdown",
   "metadata": {},
   "source": [
    "**6)** Below is some starter code to help you visualize some cluster data. The visualization is based on [this demo](http://scikit-learn.org/stable/auto_examples/cluster/plot_kmeans_digits.html) from the sklearn documentation."
   ]
  },
  {
   "cell_type": "code",
   "execution_count": 3,
   "metadata": {
    "collapsed": true
   },
   "outputs": [],
   "source": [
    "# Import clustering modules\n",
    "from sklearn.cluster import KMeans\n",
    "from sklearn.mixture import GMM"
   ]
  },
  {
   "cell_type": "code",
   "execution_count": 41,
   "metadata": {
    "collapsed": false
   },
   "outputs": [
    {
     "name": "stdout",
     "output_type": "stream",
     "text": [
      "[[ 0.0747855   0.85626056]\n",
      " [ 0.77133586  0.22136883]\n",
      " [ 0.67096448 -0.26364006]\n",
      " [-0.84300783 -0.76783622]\n",
      " [-0.70000196  0.36529226]\n",
      " [ 0.08205991  0.56880451]\n",
      " [-0.26404871  1.1545639 ]\n",
      " [ 0.5268229   0.4942843 ]\n",
      " [ 0.36407001  0.89197461]\n",
      " [ 1.24993939  0.51819535]]\n"
     ]
    }
   ],
   "source": [
    "# TODO: First we reduce the data to two dimensions using PCA to capture variation\n",
    "scaled = normalize(data, axis=1)\n",
    "pcaR = PCA(n_components=2, whiten=True)\n",
    "reduced_data = pcaR.fit_transform(scaled)\n",
    "print reduced_data[:10]  # print upto 10 elements"
   ]
  },
  {
   "cell_type": "code",
   "execution_count": 48,
   "metadata": {
    "collapsed": false,
    "scrolled": false
   },
   "outputs": [
    {
     "name": "stdout",
     "output_type": "stream",
     "text": [
      "Vidualizing with 2 customer clusters:\n"
     ]
    },
    {
     "data": {
      "image/png": "[encoded data removed]",
      "text/plain": [
       "<matplotlib.figure.Figure at 0x7fdcd75218d0>"
      ]
     },
     "metadata": {},
     "output_type": "display_data"
    },
    {
     "name": "stdout",
     "output_type": "stream",
     "text": [
      "Cluster Mean Descriptions:\n"
     ]
    },
    {
     "data": {
      "text/html": [
       "<div>\n",
       "<table border=\"1\" class=\"dataframe\">\n",
       "  <thead>\n",
       "    <tr style=\"text-align: right;\">\n",
       "      <th></th>\n",
       "      <th>Cluster</th>\n",
       "      <th>Fresh</th>\n",
       "      <th>Milk</th>\n",
       "      <th>Grocery</th>\n",
       "      <th>Frozen</th>\n",
       "      <th>Detergents_Paper</th>\n",
       "      <th>Delicatessen</th>\n",
       "    </tr>\n",
       "  </thead>\n",
       "  <tbody>\n",
       "    <tr>\n",
       "      <th>0</th>\n",
       "      <td>0</td>\n",
       "      <td>4074</td>\n",
       "      <td>10566</td>\n",
       "      <td>15998</td>\n",
       "      <td>1214</td>\n",
       "      <td>7125</td>\n",
       "      <td>1369</td>\n",
       "    </tr>\n",
       "    <tr>\n",
       "      <th>1</th>\n",
       "      <td>1</td>\n",
       "      <td>15324</td>\n",
       "      <td>3796</td>\n",
       "      <td>4577</td>\n",
       "      <td>3851</td>\n",
       "      <td>1102</td>\n",
       "      <td>1590</td>\n",
       "    </tr>\n",
       "  </tbody>\n",
       "</table>\n",
       "</div>"
      ],
      "text/plain": [
       "   Cluster  Fresh   Milk  Grocery  Frozen  Detergents_Paper  Delicatessen\n",
       "0        0   4074  10566    15998    1214              7125          1369\n",
       "1        1  15324   3796     4577    3851              1102          1590"
      ]
     },
     "metadata": {},
     "output_type": "display_data"
    },
    {
     "name": "stdout",
     "output_type": "stream",
     "text": [
      "\n",
      "Vidualizing with 3 customer clusters:\n"
     ]
    },
    {
     "data": {
      "image/png": "[encoded data removed]",
      "text/plain": [
       "<matplotlib.figure.Figure at 0x7fdcd5ce5b50>"
      ]
     },
     "metadata": {},
     "output_type": "display_data"
    },
    {
     "name": "stdout",
     "output_type": "stream",
     "text": [
      "Cluster Mean Descriptions:\n"
     ]
    },
    {
     "data": {
      "text/html": [
       "<div>\n",
       "<table border=\"1\" class=\"dataframe\">\n",
       "  <thead>\n",
       "    <tr style=\"text-align: right;\">\n",
       "      <th></th>\n",
       "      <th>Cluster</th>\n",
       "      <th>Fresh</th>\n",
       "      <th>Milk</th>\n",
       "      <th>Grocery</th>\n",
       "      <th>Frozen</th>\n",
       "      <th>Detergents_Paper</th>\n",
       "      <th>Delicatessen</th>\n",
       "    </tr>\n",
       "  </thead>\n",
       "  <tbody>\n",
       "    <tr>\n",
       "      <th>0</th>\n",
       "      <td>0</td>\n",
       "      <td>21004</td>\n",
       "      <td>2496</td>\n",
       "      <td>3134</td>\n",
       "      <td>2388</td>\n",
       "      <td>584</td>\n",
       "      <td>1224</td>\n",
       "    </tr>\n",
       "    <tr>\n",
       "      <th>1</th>\n",
       "      <td>1</td>\n",
       "      <td>3996</td>\n",
       "      <td>10927</td>\n",
       "      <td>16798</td>\n",
       "      <td>1182</td>\n",
       "      <td>7611</td>\n",
       "      <td>1370</td>\n",
       "    </tr>\n",
       "    <tr>\n",
       "      <th>2</th>\n",
       "      <td>2</td>\n",
       "      <td>10495</td>\n",
       "      <td>4954</td>\n",
       "      <td>5861</td>\n",
       "      <td>4771</td>\n",
       "      <td>1560</td>\n",
       "      <td>1844</td>\n",
       "    </tr>\n",
       "  </tbody>\n",
       "</table>\n",
       "</div>"
      ],
      "text/plain": [
       "   Cluster  Fresh   Milk  Grocery  Frozen  Detergents_Paper  Delicatessen\n",
       "0        0  21004   2496     3134    2388               584          1224\n",
       "1        1   3996  10927    16798    1182              7611          1370\n",
       "2        2  10495   4954     5861    4771              1560          1844"
      ]
     },
     "metadata": {},
     "output_type": "display_data"
    },
    {
     "name": "stdout",
     "output_type": "stream",
     "text": [
      "\n",
      "Vidualizing with 4 customer clusters:\n"
     ]
    },
    {
     "data": {
      "image/png": "[encoded data removed]",
      "text/plain": [
       "<matplotlib.figure.Figure at 0x7fdcd578e350>"
      ]
     },
     "metadata": {},
     "output_type": "display_data"
    },
    {
     "name": "stdout",
     "output_type": "stream",
     "text": [
      "Cluster Mean Descriptions:\n"
     ]
    },
    {
     "data": {
      "text/html": [
       "<div>\n",
       "<table border=\"1\" class=\"dataframe\">\n",
       "  <thead>\n",
       "    <tr style=\"text-align: right;\">\n",
       "      <th></th>\n",
       "      <th>Cluster</th>\n",
       "      <th>Fresh</th>\n",
       "      <th>Milk</th>\n",
       "      <th>Grocery</th>\n",
       "      <th>Frozen</th>\n",
       "      <th>Detergents_Paper</th>\n",
       "      <th>Delicatessen</th>\n",
       "    </tr>\n",
       "  </thead>\n",
       "  <tbody>\n",
       "    <tr>\n",
       "      <th>0</th>\n",
       "      <td>0</td>\n",
       "      <td>15991</td>\n",
       "      <td>2408</td>\n",
       "      <td>2622</td>\n",
       "      <td>6052</td>\n",
       "      <td>442</td>\n",
       "      <td>1144</td>\n",
       "    </tr>\n",
       "    <tr>\n",
       "      <th>1</th>\n",
       "      <td>1</td>\n",
       "      <td>4477</td>\n",
       "      <td>10322</td>\n",
       "      <td>15605</td>\n",
       "      <td>1225</td>\n",
       "      <td>6918</td>\n",
       "      <td>1453</td>\n",
       "    </tr>\n",
       "    <tr>\n",
       "      <th>2</th>\n",
       "      <td>2</td>\n",
       "      <td>20113</td>\n",
       "      <td>3470</td>\n",
       "      <td>4806</td>\n",
       "      <td>1815</td>\n",
       "      <td>1155</td>\n",
       "      <td>1359</td>\n",
       "    </tr>\n",
       "    <tr>\n",
       "      <th>3</th>\n",
       "      <td>3</td>\n",
       "      <td>6708</td>\n",
       "      <td>5076</td>\n",
       "      <td>4975</td>\n",
       "      <td>6154</td>\n",
       "      <td>1145</td>\n",
       "      <td>2247</td>\n",
       "    </tr>\n",
       "  </tbody>\n",
       "</table>\n",
       "</div>"
      ],
      "text/plain": [
       "   Cluster  Fresh   Milk  Grocery  Frozen  Detergents_Paper  Delicatessen\n",
       "0        0  15991   2408     2622    6052               442          1144\n",
       "1        1   4477  10322    15605    1225              6918          1453\n",
       "2        2  20113   3470     4806    1815              1155          1359\n",
       "3        3   6708   5076     4975    6154              1145          2247"
      ]
     },
     "metadata": {},
     "output_type": "display_data"
    },
    {
     "name": "stdout",
     "output_type": "stream",
     "text": [
      "\n",
      "Vidualizing with 5 customer clusters:\n"
     ]
    },
    {
     "data": {
      "image/png": "[encoded data removed]",
      "text/plain": [
       "<matplotlib.figure.Figure at 0x7fdcd578e1d0>"
      ]
     },
     "metadata": {},
     "output_type": "display_data"
    },
    {
     "name": "stdout",
     "output_type": "stream",
     "text": [
      "Cluster Mean Descriptions:\n"
     ]
    },
    {
     "data": {
      "text/html": [
       "<div>\n",
       "<table border=\"1\" class=\"dataframe\">\n",
       "  <thead>\n",
       "    <tr style=\"text-align: right;\">\n",
       "      <th></th>\n",
       "      <th>Cluster</th>\n",
       "      <th>Fresh</th>\n",
       "      <th>Milk</th>\n",
       "      <th>Grocery</th>\n",
       "      <th>Frozen</th>\n",
       "      <th>Detergents_Paper</th>\n",
       "      <th>Delicatessen</th>\n",
       "    </tr>\n",
       "  </thead>\n",
       "  <tbody>\n",
       "    <tr>\n",
       "      <th>0</th>\n",
       "      <td>0</td>\n",
       "      <td>5857</td>\n",
       "      <td>5424</td>\n",
       "      <td>4803</td>\n",
       "      <td>6132</td>\n",
       "      <td>906</td>\n",
       "      <td>2489</td>\n",
       "    </tr>\n",
       "    <tr>\n",
       "      <th>1</th>\n",
       "      <td>1</td>\n",
       "      <td>22890</td>\n",
       "      <td>2266</td>\n",
       "      <td>2959</td>\n",
       "      <td>2646</td>\n",
       "      <td>507</td>\n",
       "      <td>1193</td>\n",
       "    </tr>\n",
       "    <tr>\n",
       "      <th>2</th>\n",
       "      <td>2</td>\n",
       "      <td>3372</td>\n",
       "      <td>10317</td>\n",
       "      <td>16095</td>\n",
       "      <td>1107</td>\n",
       "      <td>7304</td>\n",
       "      <td>1320</td>\n",
       "    </tr>\n",
       "    <tr>\n",
       "      <th>3</th>\n",
       "      <td>3</td>\n",
       "      <td>14191</td>\n",
       "      <td>2795</td>\n",
       "      <td>2748</td>\n",
       "      <td>6938</td>\n",
       "      <td>484</td>\n",
       "      <td>1187</td>\n",
       "    </tr>\n",
       "    <tr>\n",
       "      <th>4</th>\n",
       "      <td>4</td>\n",
       "      <td>13814</td>\n",
       "      <td>6358</td>\n",
       "      <td>9282</td>\n",
       "      <td>1225</td>\n",
       "      <td>3148</td>\n",
       "      <td>1577</td>\n",
       "    </tr>\n",
       "  </tbody>\n",
       "</table>\n",
       "</div>"
      ],
      "text/plain": [
       "   Cluster  Fresh   Milk  Grocery  Frozen  Detergents_Paper  Delicatessen\n",
       "0        0   5857   5424     4803    6132               906          2489\n",
       "1        1  22890   2266     2959    2646               507          1193\n",
       "2        2   3372  10317    16095    1107              7304          1320\n",
       "3        3  14191   2795     2748    6938               484          1187\n",
       "4        4  13814   6358     9282    1225              3148          1577"
      ]
     },
     "metadata": {},
     "output_type": "display_data"
    },
    {
     "name": "stdout",
     "output_type": "stream",
     "text": [
      "\n"
     ]
    }
   ],
   "source": [
    "# TODO: Implement your clustering algorithm here, and fit it to the reduced data for visualization\n",
    "# The visualizer below assumes your clustering object is named 'clusters'\n",
    "\n",
    "def plotClusters(n):\n",
    "    print('Vidualizing with {0:0} customer clusters:'.format(n))\n",
    "    \n",
    "    mod = GMM(n_components=n)\n",
    "    mod.fit(reduced_data)\n",
    "    clusters = mod\n",
    "    \n",
    "    rdCopy = data\n",
    "    rdCopy['Cluster'] = clusters.predict(reduced_data)\n",
    "    \n",
    "    # Plot the decision boundary by building a mesh grid to populate a graph.\n",
    "    x_min, x_max = reduced_data[:, 0].min() - 1, reduced_data[:, 0].max() + 1\n",
    "    y_min, y_max = reduced_data[:, 1].min() - 1, reduced_data[:, 1].max() + 1\n",
    "    hx = (x_max-x_min)/2000.\n",
    "    hy = (y_max-y_min)/2000.\n",
    "    xx, yy = np.meshgrid(np.arange(x_min, x_max, hx), np.arange(y_min, y_max, hy))\n",
    "\n",
    "    # Obtain labels for each point in mesh. Use last trained model.\n",
    "    Z = clusters.predict(np.c_[xx.ravel(), yy.ravel()])\n",
    "\n",
    "    # Find the centroids for KMeans or the cluster means for GMM \n",
    "    centroids = mod.means_\n",
    "\n",
    "    # Put the result into a color plot\n",
    "    Z = Z.reshape(xx.shape)\n",
    "    plt.figure(1, figsize=(10, 8))\n",
    "    plt.clf()\n",
    "    plt.imshow(Z, interpolation='nearest',\n",
    "               extent=(xx.min(), xx.max(), yy.min(), yy.max()),\n",
    "               cmap=plt.cm.Paired,\n",
    "               aspect='auto', origin='lower')\n",
    "\n",
    "    plt.plot(reduced_data[:, 0], reduced_data[:, 1], 'k.', markersize=2)\n",
    "    plt.scatter(centroids[:, 0], centroids[:, 1],\n",
    "                marker='x', s=169, linewidths=3,\n",
    "                color='w', zorder=10)\n",
    "    plt.title('Clustering on the wholesale grocery dataset (PCA-reduced data)\\n'\n",
    "              'Centroids are marked with white cross')\n",
    "    plt.xlim(x_min, x_max)\n",
    "    plt.ylim(y_min, y_max)\n",
    "    for i, (pc1, pc2) in enumerate(zip(pca.components_[0], pca.components_[1])):\n",
    "        plt.arrow(0, 0, pc1, pc2, width=0.001, fc='orange', ec='orange')\n",
    "        plt.annotate(data.columns[i], (pc1, pc2), size=12)\n",
    "    plt.xticks(())\n",
    "    plt.yticks(())\n",
    "    plt.show()\n",
    "    print('Cluster Mean Descriptions:')\n",
    "    display(np.round(rdCopy.groupby(['Cluster']).mean().reset_index()))\n",
    "    print \n",
    "    \n",
    "for n in range(2,6):\n",
    "    plotClusters(n)"
   ]
  },
  {
   "cell_type": "markdown",
   "metadata": {},
   "source": [
    "**7)** What are the central objects in each cluster? Describe them as customers."
   ]
  },
  {
   "cell_type": "markdown",
   "metadata": {
    "collapsed": true
   },
   "source": [
    "Answer: Plotting the raw data provides for very clustered data so I elected to use normalize which provides a more distributed visualization and more interpretable clusters. When choosing the optimum number of clusters, I am choosing to use the 4 cluster option since it captures both the high and low range of our two principal components and higher numbers of clusters tend to become overly specific for our use.\n",
    "\n",
    "Looking at both the overlaid PCA vector lines and the means for the samples in each category we can describe our cluster groups. The first cluster is heavily centered on Fresh produce with some Frozen and much less of the rest. This to me can be interpreted as a medium sized fresh-grocers.\n",
    "\n",
    "The second cluster is a more frequent purchaser of Groceries, Dairy and Detergent products and moderate fresh produce. This group may represent big-box format stores which sell a lot of less perishable goods in quantity with loss leading dairy (Costco or WalMart etc.) with less emphasis on fresh produce since it is typically very perishable and fewer end consumers would purchase in quantity.\n",
    "\n",
    "The third group purchases mostly fresh produce with limited amounts of Grocery and Milk and very little of the other groups. This to me would be market vendors and other groups that sell large volumes of produce with very little movement in other categories.\n",
    "\n",
    "Our last group visually acts as a bit of a catch-all for the rest with a more even distribution between Fresh, Milk, Grocery and Frozen products. While the mean sales are smaller they are also the leading cluster for Deli products as well. These might represent small corner stores or other places that sell limited amounts of foods with an emphasis on immediate consumption and convenience.\n"
   ]
  },
  {
   "cell_type": "markdown",
   "metadata": {},
   "source": [
    "### Conclusions\n",
    "\n",
    "** 8)** Which of these techniques did you feel gave you the most insight into the data?"
   ]
  },
  {
   "cell_type": "markdown",
   "metadata": {
    "collapsed": true
   },
   "source": [
    "Answer: I felt that PCA provided a more useful resulting feature set in the context of trying to identify buying patterns (especially when comparing a plot of PCA based clusters with a biplot of the PCA components.) Depending on the end goal of the segmentation project, ICA or other methods could have been more useful."
   ]
  },
  {
   "cell_type": "markdown",
   "metadata": {
    "collapsed": true
   },
   "source": [
    "**9)** How would you use that technique to help the company design new experiments?"
   ]
  },
  {
   "cell_type": "markdown",
   "metadata": {},
   "source": [
    "Answer: I'd try to engineer the tests to ensure both samples draw evenly from each cluster of customers to ensure they are appropriately balanced. By keeping both test and control groups from both clusters we can make sure we measure what effect the experiment change has on both clusters of customers. If only one shows a positive change, we can make sure to limit production deployments to that group.\n",
    "\n",
    "The first experiment I would propose would be to see if offering more frequent, slightly smaller produce deliveries to a sample of customers in Clusters 1 and 4 increases their produce demand overall while reducing wastage since there would in theory be a faster turnover of produce with less spoilage. If we saw an overall increase in purchasing compared to a control group with the regular delivery schedules, that would be indicative of a successful strategy change."
   ]
  },
  {
   "cell_type": "markdown",
   "metadata": {},
   "source": [
    "**10)** How would you use that data to help you predict future customer needs?"
   ]
  },
  {
   "cell_type": "markdown",
   "metadata": {},
   "source": [
    "Answer: By understanding the buying motives and needs of our customers, we can tailor the selling and relationship management processes to the most appropriate model for that type of customer. This makes for a better customer relationship since we can work to anticipate their needs and possibly stock new products that would appeal to them or run promotions that would compliment their businesses. Some immediate thoughts about the clusters:\n",
    "\n",
    "**a)** Clusters 1 and 4 tend to have very large volumes of produce and may be willing to order more frequently or pay a delivery premium for more frequent shipping to ensure peak produce condition\n",
    "\n",
    "**b)** The fourth cluster stands out in it's increased purchases of Deli products and could be targeted with new convenience foods.\n",
    "\n"
   ]
  }
 ],
 "metadata": {
  "kernelspec": {
   "display_name": "Python 2",
   "language": "python",
   "name": "python2"
  },
  "language_info": {
   "codemirror_mode": {
    "name": "ipython",
    "version": 2
   },
   "file_extension": ".py",
   "mimetype": "text/x-python",
   "name": "python",
   "nbconvert_exporter": "python",
   "pygments_lexer": "ipython2",
   "version": "2.7.11"
  }
 },
 "nbformat": 4,
 "nbformat_minor": 0
}
