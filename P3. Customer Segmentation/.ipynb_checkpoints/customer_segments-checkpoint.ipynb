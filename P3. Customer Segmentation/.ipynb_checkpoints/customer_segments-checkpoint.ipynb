{
 "cells": [
  {
   "cell_type": "markdown",
   "metadata": {},
   "source": [
    "# Creating Customer Segments"
   ]
  },
  {
   "cell_type": "markdown",
   "metadata": {},
   "source": [
    "In this project you, will analyze a dataset containing annual spending amounts for internal structure, to understand the variation in the different types of customers that a wholesale distributor interacts with.\n",
    "\n",
    "Instructions:\n",
    "\n",
    "- Run each code block below by pressing **Shift+Enter**, making sure to implement any steps marked with a TODO.\n",
    "- Answer each question in the space provided by editing the blocks labeled \"Answer:\".\n",
    "- When you are done, submit the completed notebook (.ipynb) with all code blocks executed, as well as a .pdf version (File > Download as)."
   ]
  },
  {
   "cell_type": "code",
   "execution_count": 1,
   "metadata": {
    "collapsed": false
   },
   "outputs": [
    {
     "name": "stdout",
     "output_type": "stream",
     "text": [
      "Dataset has 440 rows, 6 columns\n",
      "   Fresh  Milk  Grocery  Frozen  Detergents_Paper  Delicatessen\n",
      "0  12669  9656     7561     214              2674          1338\n",
      "1   7057  9810     9568    1762              3293          1776\n",
      "2   6353  8808     7684    2405              3516          7844\n",
      "3  13265  1196     4221    6404               507          1788\n",
      "4  22615  5410     7198    3915              1777          5185\n"
     ]
    }
   ],
   "source": [
    "# Import libraries: NumPy, pandas, matplotlib\n",
    "import numpy as np\n",
    "import pandas as pd\n",
    "import matplotlib.pyplot as plt\n",
    "from mpl_toolkits.mplot3d import Axes3D\n",
    "import pylab\n",
    "\n",
    "# Tell iPython to include plots inline in the notebook\n",
    "%matplotlib inline\n",
    "\n",
    "# Read dataset\n",
    "data = pd.read_csv(\"wholesale-customers.csv\")\n",
    "print(\"Dataset has {} rows, {} columns\".format(*data.shape))\n",
    "print(data.head())  # print the first 5 rows"
   ]
  },
  {
   "cell_type": "markdown",
   "metadata": {},
   "source": [
    "## Feature Transformation"
   ]
  },
  {
   "cell_type": "markdown",
   "metadata": {},
   "source": [
    "**1)** In this section you will be using PCA and ICA to start to understand the structure of the data. Before doing any computations, what do you think will show up in your computations? List one or two ideas for what might show up as the first PCA dimensions, or what type of vectors will show up as ICA dimensions."
   ]
  },
  {
   "cell_type": "markdown",
   "metadata": {},
   "source": [
    "Answer: Since PCA is going to look to create features that maximize variance, we should see it identify common patterns for different purchaser profiles. ICA on the other hand is looking for statistically unrelated sources and so will likely identify something like the underlying store type (corner store vs. full grocery vs. deli)."
   ]
  },
  {
   "cell_type": "markdown",
   "metadata": {},
   "source": [
    "### PCA"
   ]
  },
  {
   "cell_type": "code",
   "execution_count": 2,
   "metadata": {
    "collapsed": false
   },
   "outputs": [
    {
     "data": {
      "text/html": [
       "<div>\n",
       "<table border=\"1\" class=\"dataframe\">\n",
       "  <thead>\n",
       "    <tr style=\"text-align: right;\">\n",
       "      <th></th>\n",
       "      <th>P.C. 1</th>\n",
       "      <th>P.C. 2</th>\n",
       "      <th>P.C. 3</th>\n",
       "      <th>P.C. 4</th>\n",
       "      <th>P.C. 5</th>\n",
       "      <th>P.C. 6</th>\n",
       "    </tr>\n",
       "  </thead>\n",
       "  <tbody>\n",
       "    <tr>\n",
       "      <th>Fresh</th>\n",
       "      <td>-0.720606</td>\n",
       "      <td>0.325226</td>\n",
       "      <td>-0.066263</td>\n",
       "      <td>0.253652</td>\n",
       "      <td>-0.545133</td>\n",
       "      <td>-0.095159</td>\n",
       "    </tr>\n",
       "    <tr>\n",
       "      <th>Milk</th>\n",
       "      <td>0.344109</td>\n",
       "      <td>-0.057227</td>\n",
       "      <td>-0.853474</td>\n",
       "      <td>0.043070</td>\n",
       "      <td>-0.330984</td>\n",
       "      <td>-0.196193</td>\n",
       "    </tr>\n",
       "    <tr>\n",
       "      <th>Grocery</th>\n",
       "      <td>0.537571</td>\n",
       "      <td>0.220449</td>\n",
       "      <td>0.405897</td>\n",
       "      <td>0.589184</td>\n",
       "      <td>-0.314658</td>\n",
       "      <td>-0.226980</td>\n",
       "    </tr>\n",
       "    <tr>\n",
       "      <th>Frozen</th>\n",
       "      <td>-0.106800</td>\n",
       "      <td>-0.898543</td>\n",
       "      <td>0.183398</td>\n",
       "      <td>0.077656</td>\n",
       "      <td>-0.365427</td>\n",
       "      <td>-0.089507</td>\n",
       "    </tr>\n",
       "    <tr>\n",
       "      <th>Detergents_Paper</th>\n",
       "      <td>0.247658</td>\n",
       "      <td>0.167915</td>\n",
       "      <td>0.206943</td>\n",
       "      <td>-0.611852</td>\n",
       "      <td>-0.600605</td>\n",
       "      <td>0.364081</td>\n",
       "    </tr>\n",
       "    <tr>\n",
       "      <th>Delicatessen</th>\n",
       "      <td>0.024347</td>\n",
       "      <td>-0.082343</td>\n",
       "      <td>-0.161182</td>\n",
       "      <td>0.454174</td>\n",
       "      <td>-0.002605</td>\n",
       "      <td>0.871990</td>\n",
       "    </tr>\n",
       "    <tr>\n",
       "      <th>Expl_Variance</th>\n",
       "      <td>0.681885</td>\n",
       "      <td>0.146152</td>\n",
       "      <td>0.096222</td>\n",
       "      <td>0.033272</td>\n",
       "      <td>0.021943</td>\n",
       "      <td>0.020526</td>\n",
       "    </tr>\n",
       "    <tr>\n",
       "      <th>Cum_Variance</th>\n",
       "      <td>0.681885</td>\n",
       "      <td>0.828037</td>\n",
       "      <td>0.924259</td>\n",
       "      <td>0.957531</td>\n",
       "      <td>0.979474</td>\n",
       "      <td>1.000000</td>\n",
       "    </tr>\n",
       "  </tbody>\n",
       "</table>\n",
       "</div>"
      ],
      "text/plain": [
       "                    P.C. 1    P.C. 2    P.C. 3    P.C. 4    P.C. 5    P.C. 6\n",
       "Fresh            -0.720606  0.325226 -0.066263  0.253652 -0.545133 -0.095159\n",
       "Milk              0.344109 -0.057227 -0.853474  0.043070 -0.330984 -0.196193\n",
       "Grocery           0.537571  0.220449  0.405897  0.589184 -0.314658 -0.226980\n",
       "Frozen           -0.106800 -0.898543  0.183398  0.077656 -0.365427 -0.089507\n",
       "Detergents_Paper  0.247658  0.167915  0.206943 -0.611852 -0.600605  0.364081\n",
       "Delicatessen      0.024347 -0.082343 -0.161182  0.454174 -0.002605  0.871990\n",
       "Expl_Variance     0.681885  0.146152  0.096222  0.033272  0.021943  0.020526\n",
       "Cum_Variance      0.681885  0.828037  0.924259  0.957531  0.979474  1.000000"
      ]
     },
     "execution_count": 2,
     "metadata": {},
     "output_type": "execute_result"
    }
   ],
   "source": [
    "# TODO: Apply PCA with the same number of dimensions as variables in the dataset\n",
    "from sklearn.decomposition import PCA\n",
    "from sklearn.preprocessing import normalize\n",
    "\n",
    "# Scale the data using Normalization\n",
    "scaled = normalize(data)\n",
    "\n",
    "# Build and run the PCA analysis with the number of components set to the original number \n",
    "# of features as requested. \n",
    "pca = PCA(n_components=data.shape[1])\n",
    "pca.fit_transform(scaled)\n",
    "\n",
    "# Print the components and the amount of variance in the data contained in each dimension\n",
    "dispDF = pd.DataFrame(pca.components_)\n",
    "dispDF.columns = data.columns\n",
    "dispDF = dispDF.reset_index()\n",
    "dispDF['Expl_Variance'] = pca.explained_variance_ratio_\n",
    "dispDF['Cum_Variance'] = dispDF['Expl_Variance'].cumsum()\n",
    "\n",
    "dispDF = dispDF.T\n",
    "dispDF.columns = [\"P.C. {}\".format(r) for r in range(1,7,1)]\n",
    "dispDF.drop(['index'], axis=0, inplace=True)\n",
    "dispDF"
   ]
  },
  {
   "cell_type": "markdown",
   "metadata": {},
   "source": [
    "**2)** How quickly does the variance drop off by dimension? If you were to use PCA on this dataset, how many dimensions would you choose for your analysis? Why?"
   ]
  },
  {
   "cell_type": "markdown",
   "metadata": {
    "collapsed": true
   },
   "source": [
    "Answer: \n",
    "By the third principal component, we have almost 93% of the variance explained and by the fourth, 96%. I'd probably stop at the fourth to reduce the chances of overfitting in an eventual model and to keep it simpler unless there were other factors needed."
   ]
  },
  {
   "cell_type": "markdown",
   "metadata": {},
   "source": [
    "**3)** What do the dimensions seem to represent? How can you use this information?\n"
   ]
  },
  {
   "cell_type": "markdown",
   "metadata": {
    "collapsed": true
   },
   "source": [
    "Answer: The dimensions appear to show relationships between what is frequently purchased together. This information could be used in clustering order types potentially.\n",
    "\n",
    "The first component has a correlation between Groceries, Milk amd Detergents & Paper with a strong negative relationship with Fresh Produce. This could be showing the overall demand for less-perishable foods. \n",
    "\n",
    "The second correlates with an increase in Detergents and Paper and then with Frozen products and is negtively related with the other categories to various levels. This might represent bulk purchases for end-customers since frozen items and sundries tend to be sold in bulk.\n",
    "\n",
    "The third component is strongly related to the Deli products and then the Frozen and Milk and strongly negatively with Fresh produce purchases. This could point to orders from convinience stores and gas stations where the majority of the product is non-perishable or delicatessen in nature."
   ]
  },
  {
   "cell_type": "markdown",
   "metadata": {},
   "source": [
    "### ICA"
   ]
  },
  {
   "cell_type": "code",
   "execution_count": 3,
   "metadata": {
    "collapsed": false
   },
   "outputs": [
    {
     "data": {
      "text/html": [
       "<div>\n",
       "<table border=\"1\" class=\"dataframe\">\n",
       "  <thead>\n",
       "    <tr style=\"text-align: right;\">\n",
       "      <th></th>\n",
       "      <th>I.C. 1</th>\n",
       "      <th>I.C. 2</th>\n",
       "      <th>I.C. 3</th>\n",
       "      <th>I.C. 4</th>\n",
       "      <th>I.C. 5</th>\n",
       "      <th>I.C. 6</th>\n",
       "    </tr>\n",
       "  </thead>\n",
       "  <tbody>\n",
       "    <tr>\n",
       "      <th>Fresh</th>\n",
       "      <td>-0.045896</td>\n",
       "      <td>0.061116</td>\n",
       "      <td>0.086054</td>\n",
       "      <td>0.197863</td>\n",
       "      <td>-0.100477</td>\n",
       "      <td>0.260862</td>\n",
       "    </tr>\n",
       "    <tr>\n",
       "      <th>Milk</th>\n",
       "      <td>-0.052372</td>\n",
       "      <td>0.066254</td>\n",
       "      <td>0.051739</td>\n",
       "      <td>-0.110402</td>\n",
       "      <td>-0.134412</td>\n",
       "      <td>0.264266</td>\n",
       "    </tr>\n",
       "    <tr>\n",
       "      <th>Grocery</th>\n",
       "      <td>-0.217305</td>\n",
       "      <td>0.065475</td>\n",
       "      <td>0.029898</td>\n",
       "      <td>0.236447</td>\n",
       "      <td>-0.194120</td>\n",
       "      <td>0.055404</td>\n",
       "    </tr>\n",
       "    <tr>\n",
       "      <th>Frozen</th>\n",
       "      <td>-0.001521</td>\n",
       "      <td>0.052420</td>\n",
       "      <td>-0.204524</td>\n",
       "      <td>0.107799</td>\n",
       "      <td>-0.100932</td>\n",
       "      <td>0.165793</td>\n",
       "    </tr>\n",
       "    <tr>\n",
       "      <th>Detergents_Paper</th>\n",
       "      <td>0.449357</td>\n",
       "      <td>-0.000173</td>\n",
       "      <td>0.026754</td>\n",
       "      <td>0.134148</td>\n",
       "      <td>-0.095248</td>\n",
       "      <td>0.176702</td>\n",
       "    </tr>\n",
       "    <tr>\n",
       "      <th>Delicatessen</th>\n",
       "      <td>0.065380</td>\n",
       "      <td>-0.552304</td>\n",
       "      <td>0.031832</td>\n",
       "      <td>0.123463</td>\n",
       "      <td>-0.009267</td>\n",
       "      <td>0.015594</td>\n",
       "    </tr>\n",
       "  </tbody>\n",
       "</table>\n",
       "</div>"
      ],
      "text/plain": [
       "                    I.C. 1    I.C. 2    I.C. 3    I.C. 4    I.C. 5    I.C. 6\n",
       "Fresh            -0.045896  0.061116  0.086054  0.197863 -0.100477  0.260862\n",
       "Milk             -0.052372  0.066254  0.051739 -0.110402 -0.134412  0.264266\n",
       "Grocery          -0.217305  0.065475  0.029898  0.236447 -0.194120  0.055404\n",
       "Frozen           -0.001521  0.052420 -0.204524  0.107799 -0.100932  0.165793\n",
       "Detergents_Paper  0.449357 -0.000173  0.026754  0.134148 -0.095248  0.176702\n",
       "Delicatessen      0.065380 -0.552304  0.031832  0.123463 -0.009267  0.015594"
      ]
     },
     "execution_count": 3,
     "metadata": {},
     "output_type": "execute_result"
    }
   ],
   "source": [
    "# TODO: Fit an ICA model to the data\n",
    "# Note: Adjust the data to have center at the origin first!\n",
    "from sklearn.decomposition import FastICA\n",
    "ica = FastICA(n_components=data.shape[1])\n",
    "ica.fit_transform(scaled)\n",
    "\n",
    "# Print the independent components\n",
    "icaDf = pd.DataFrame(ica.components_)\n",
    "icaDf.columns = data.columns\n",
    "icaDf = icaDf.T\n",
    "icaDf.columns = dispDF.columns = [\"I.C. {}\".format(r) for r in range(1,7,1)]\n",
    "icaDf"
   ]
  },
  {
   "cell_type": "markdown",
   "metadata": {},
   "source": [
    "**4)** For each vector in the ICA decomposition, write a sentence or two explaining what sort of object or property it corresponds to. What could these components be used for?"
   ]
  },
  {
   "cell_type": "markdown",
   "metadata": {
    "collapsed": true
   },
   "source": [
    "Answer: The independant components could represent the type of store represented by each order group:\n",
    "\n",
    "1. IC 1 is focused on detergents and paper products and to a lesser extent, Deli and Frozen. This could represent corner stores and other types of businesses that primarily sell convinience products.\n",
    "\n",
    "2. IC 2 is focused on the first four categories, not related to sundries and very negatively focused on delicatessen. This would likely be aimed at grocers who do not have in store hot deli or ready heated products.\n",
    "\n",
    "3. IC 3 is focused on Fresh and Dairy, with a weaker association to Groceries, Sundries and Deli. This could represent smaller urban grociers who hvae an emphasis on their produce.\n",
    "\n",
    "4. IC 4 is focused Grocery and Fresh with some emphasis on Frozen, Sundries and Deli with a negative relationship to Dairy products. \n",
    "\n",
    "5. IC 5 is universally negative.\n",
    "\n",
    "6. IC 6 is centered on Fresh and Milk with moderate relationships in Frozen and Sundries and weaker relationships with Grocery and Deli."
   ]
  },
  {
   "cell_type": "markdown",
   "metadata": {},
   "source": [
    "## Clustering\n",
    "\n",
    "In this section you will choose either K Means clustering or Gaussian Mixed Models clustering, which implements expectation-maximization. Then you will sample elements from the clusters to understand their significance."
   ]
  },
  {
   "cell_type": "markdown",
   "metadata": {},
   "source": [
    "### Choose a Cluster Type\n",
    "\n",
    "**5)** What are the advantages of using K Means clustering or Gaussian Mixture Models?"
   ]
  },
  {
   "cell_type": "markdown",
   "metadata": {},
   "source": [
    "Answer: By using Gaussian mixtures, we can easily describe simple clusters in the dataset. This can help to illustrate clusters that can be found accross multiple dimensions/features."
   ]
  },
  {
   "cell_type": "markdown",
   "metadata": {},
   "source": [
    "**6)** Below is some starter code to help you visualize some cluster data. The visualization is based on [this demo](http://scikit-learn.org/stable/auto_examples/cluster/plot_kmeans_digits.html) from the sklearn documentation."
   ]
  },
  {
   "cell_type": "code",
   "execution_count": 4,
   "metadata": {
    "collapsed": true
   },
   "outputs": [],
   "source": [
    "# Import clustering modules\n",
    "from sklearn.cluster import KMeans\n",
    "from sklearn.mixture import GMM"
   ]
  },
  {
   "cell_type": "code",
   "execution_count": 5,
   "metadata": {
    "collapsed": false
   },
   "outputs": [
    {
     "name": "stdout",
     "output_type": "stream",
     "text": [
      "[[ 0.0747855   0.85626054]\n",
      " [ 0.77133585  0.22136883]\n",
      " [ 0.67096448 -0.26364005]\n",
      " [-0.84300783 -0.76783623]\n",
      " [-0.70000196  0.36529224]\n",
      " [ 0.08205991  0.56880451]\n",
      " [-0.26404871  1.15456387]\n",
      " [ 0.5268229   0.49428428]\n",
      " [ 0.36407001  0.89197463]\n",
      " [ 1.24993937  0.51819534]]\n"
     ]
    }
   ],
   "source": [
    "# TODO: First we reduce the data to two dimensions using PCA to capture variation\n",
    "\n",
    "pcaR = PCA(n_components=2, whiten=True)\n",
    "reduced_data = pcaR.fit_transform(scaled)\n",
    "print reduced_data[:10]  # print upto 10 elements"
   ]
  },
  {
   "cell_type": "code",
   "execution_count": 6,
   "metadata": {
    "collapsed": false
   },
   "outputs": [
    {
     "name": "stdout",
     "output_type": "stream",
     "text": [
      "GMM(covariance_type='diag', init_params='wmc', min_covar=0.001,\n",
      "  n_components=2, n_init=1, n_iter=100, params='wmc', random_state=None,\n",
      "  thresh=None, tol=0.001, verbose=0)\n"
     ]
    }
   ],
   "source": [
    "# TODO: Implement your clustering algorithm here, and fit it to the reduced data for visualization\n",
    "# The visualizer below assumes your clustering object is named 'clusters'\n",
    "mod = GMM(n_components=2)\n",
    "mod.fit(reduced_data)\n",
    "clusters = mod\n",
    "print(clusters)"
   ]
  },
  {
   "cell_type": "code",
   "execution_count": 7,
   "metadata": {
    "collapsed": false
   },
   "outputs": [],
   "source": [
    "# Plot the decision boundary by building a mesh grid to populate a graph.\n",
    "x_min, x_max = reduced_data[:, 0].min() - 1, reduced_data[:, 0].max() + 1\n",
    "y_min, y_max = reduced_data[:, 1].min() - 1, reduced_data[:, 1].max() + 1\n",
    "hx = (x_max-x_min)/1000.\n",
    "hy = (y_max-y_min)/1000.\n",
    "xx, yy = np.meshgrid(np.arange(x_min, x_max, hx), np.arange(y_min, y_max, hy))\n",
    "\n",
    "# Obtain labels for each point in mesh. Use last trained model.\n",
    "Z = clusters.predict(np.c_[xx.ravel(), yy.ravel()])"
   ]
  },
  {
   "cell_type": "code",
   "execution_count": 8,
   "metadata": {
    "collapsed": false
   },
   "outputs": [
    {
     "name": "stdout",
     "output_type": "stream",
     "text": [
      "[[-0.53239852 -0.10721975]\n",
      " [ 1.28809176  0.25940882]]\n"
     ]
    }
   ],
   "source": [
    "# TODO: Find the centroids for KMeans or the cluster means for GMM \n",
    "\n",
    "centroids = mod.means_\n",
    "\n",
    "print centroids"
   ]
  },
  {
   "cell_type": "code",
   "execution_count": 9,
   "metadata": {
    "collapsed": false
   },
   "outputs": [
    {
     "data": {
      "image/png": "[encoded data removed]",
      "text/plain": [
       "<matplotlib.figure.Figure at 0x7f493693ca90>"
      ]
     },
     "metadata": {},
     "output_type": "display_data"
    }
   ],
   "source": [
    "# Put the result into a color plot\n",
    "Z = Z.reshape(xx.shape)\n",
    "plt.figure(1)\n",
    "plt.clf()\n",
    "plt.imshow(Z, interpolation='nearest',\n",
    "           extent=(xx.min(), xx.max(), yy.min(), yy.max()),\n",
    "           cmap=plt.cm.Paired,\n",
    "           aspect='auto', origin='lower')\n",
    "\n",
    "plt.plot(reduced_data[:, 0], reduced_data[:, 1], 'k.', markersize=2)\n",
    "plt.scatter(centroids[:, 0], centroids[:, 1],\n",
    "            marker='x', s=169, linewidths=3,\n",
    "            color='w', zorder=10)\n",
    "plt.title('Clustering on the wholesale grocery dataset (PCA-reduced data)\\n'\n",
    "          'Centroids are marked with white cross')\n",
    "plt.xlim(x_min, x_max)\n",
    "plt.ylim(y_min, y_max)\n",
    "plt.xticks(())\n",
    "plt.yticks(())\n",
    "plt.show()"
   ]
  },
  {
   "cell_type": "markdown",
   "metadata": {},
   "source": [
    "**7)** What are the central objects in each cluster? Describe them as customers."
   ]
  },
  {
   "cell_type": "markdown",
   "metadata": {
    "collapsed": true
   },
   "source": [
    "Answer: The main difference between the clusters is in the first principal component so would represent customers purchasing larger amounts of less-perishable foods. The second component seems to focus on items frequently sold in bulk. Our first cluster would be stores purchasing more non-perishable and bulk items than the other."
   ]
  },
  {
   "cell_type": "markdown",
   "metadata": {},
   "source": [
    "### Conclusions\n",
    "\n",
    "** 8)** Which of these techniques did you feel gave you the most insight into the data?"
   ]
  },
  {
   "cell_type": "markdown",
   "metadata": {
    "collapsed": true
   },
   "source": [
    "Answer: I felt that PCA provided a more useful resulting feature set in the context of trying to identify buying patterns. Depending on the end goal of the segmentation project, ICA or other methods could have been more useful."
   ]
  },
  {
   "cell_type": "markdown",
   "metadata": {
    "collapsed": true
   },
   "source": [
    "**9)** How would you use that technique to help the company design new experiments?"
   ]
  },
  {
   "cell_type": "markdown",
   "metadata": {},
   "source": [
    "Answer: I'd try to engineer the tests to ensure both samples draw evenly from each cluster of customers to ensure they are appropriatly balanced."
   ]
  },
  {
   "cell_type": "markdown",
   "metadata": {},
   "source": [
    "**10)** How would you use that data to help you predict future customer needs?"
   ]
  },
  {
   "cell_type": "markdown",
   "metadata": {},
   "source": [
    "Answer: By understanding the buying motives and needs of our customers, we can tailor the selling and relationship management processes to the most appropriate model for that type of customer. This makes for a better customer relationship since we can work to anticipate their needs and possibly stock new products that would appeal to them or run promotions that would compliment their businesses. "
   ]
  }
 ],
 "metadata": {
  "kernelspec": {
   "display_name": "Python 2",
   "language": "python",
   "name": "python2"
  },
  "language_info": {
   "codemirror_mode": {
    "name": "ipython",
    "version": 2
   },
   "file_extension": ".py",
   "mimetype": "text/x-python",
   "name": "python",
   "nbconvert_exporter": "python",
   "pygments_lexer": "ipython2",
   "version": "2.7.11"
  }
 },
 "nbformat": 4,
 "nbformat_minor": 0
}
