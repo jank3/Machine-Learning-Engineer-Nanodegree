{
 "cells": [
  {
   "cell_type": "markdown",
   "metadata": {
    "colab_type": "text",
    "id": "kR-4eNdK6lYS"
   },
   "source": [
    "Deep Learning\n",
    "=============\n",
    "\n",
    "Assignment 3\n",
    "------------\n",
    "\n",
    "Previously in `2_fullyconnected.ipynb`, you trained a logistic regression and a neural network model.\n",
    "\n",
    "The goal of this assignment is to explore regularization techniques."
   ]
  },
  {
   "cell_type": "code",
   "execution_count": 1,
   "metadata": {
    "cellView": "both",
    "colab": {
     "autoexec": {
      "startup": false,
      "wait_interval": 0
     }
    },
    "colab_type": "code",
    "collapsed": true,
    "id": "JLpLa8Jt7Vu4"
   },
   "outputs": [],
   "source": [
    "# These are all the modules we'll be using later. Make sure you can import them\n",
    "# before proceeding further.\n",
    "from __future__ import print_function\n",
    "import numpy as np\n",
    "import tensorflow as tf\n",
    "from six.moves import cPickle as pickle"
   ]
  },
  {
   "cell_type": "markdown",
   "metadata": {
    "colab_type": "text",
    "id": "1HrCK6e17WzV"
   },
   "source": [
    "First reload the data we generated in _notmist.ipynb_."
   ]
  },
  {
   "cell_type": "code",
   "execution_count": 2,
   "metadata": {
    "cellView": "both",
    "colab": {
     "autoexec": {
      "startup": false,
      "wait_interval": 0
     },
     "output_extras": [
      {
       "item_id": 1
      }
     ]
    },
    "colab_type": "code",
    "collapsed": false,
    "executionInfo": {
     "elapsed": 11777,
     "status": "ok",
     "timestamp": 1449849322348,
     "user": {
      "color": "",
      "displayName": "",
      "isAnonymous": false,
      "isMe": true,
      "permissionId": "",
      "photoUrl": "",
      "sessionId": "0",
      "userId": ""
     },
     "user_tz": 480
    },
    "id": "y3-cj1bpmuxc",
    "outputId": "e03576f1-ebbe-4838-c388-f1777bcc9873"
   },
   "outputs": [
    {
     "name": "stdout",
     "output_type": "stream",
     "text": [
      "Training set (200000, 28, 28) (200000,)\n",
      "Validation set (10000, 28, 28) (10000,)\n",
      "Test set (10000, 28, 28) (10000,)\n"
     ]
    }
   ],
   "source": [
    "pickle_file = 'notMNIST.pickle'\n",
    "\n",
    "with open(pickle_file, 'rb') as f:\n",
    "    save = pickle.load(f)\n",
    "    train_dataset = save['train_dataset']\n",
    "    train_labels = save['train_labels']\n",
    "    valid_dataset = save['valid_dataset']\n",
    "    valid_labels = save['valid_labels']\n",
    "    test_dataset = save['test_dataset']\n",
    "    test_labels = save['test_labels']\n",
    "    del save  # hint to help gc free up memory\n",
    "    print('Training set', train_dataset.shape, train_labels.shape)\n",
    "    print('Validation set', valid_dataset.shape, valid_labels.shape)\n",
    "    print('Test set', test_dataset.shape, test_labels.shape)"
   ]
  },
  {
   "cell_type": "markdown",
   "metadata": {
    "colab_type": "text",
    "id": "L7aHrm6nGDMB"
   },
   "source": [
    "Reformat into a shape that's more adapted to the models we're going to train:\n",
    "- data as a flat matrix,\n",
    "- labels as float 1-hot encodings."
   ]
  },
  {
   "cell_type": "code",
   "execution_count": 3,
   "metadata": {
    "cellView": "both",
    "colab": {
     "autoexec": {
      "startup": false,
      "wait_interval": 0
     },
     "output_extras": [
      {
       "item_id": 1
      }
     ]
    },
    "colab_type": "code",
    "collapsed": false,
    "executionInfo": {
     "elapsed": 11728,
     "status": "ok",
     "timestamp": 1449849322356,
     "user": {
      "color": "",
      "displayName": "",
      "isAnonymous": false,
      "isMe": true,
      "permissionId": "",
      "photoUrl": "",
      "sessionId": "0",
      "userId": ""
     },
     "user_tz": 480
    },
    "id": "IRSyYiIIGIzS",
    "outputId": "3f8996ee-3574-4f44-c953-5c8a04636582"
   },
   "outputs": [
    {
     "name": "stdout",
     "output_type": "stream",
     "text": [
      "Training set (200000, 784) (200000, 10)\n",
      "Validation set (10000, 784) (10000, 10)\n",
      "Test set (10000, 784) (10000, 10)\n"
     ]
    }
   ],
   "source": [
    "image_size = 28\n",
    "num_labels = 10\n",
    "\n",
    "def reformat(dataset, labels):\n",
    "    dataset = dataset.reshape((-1, image_size * image_size)).astype(np.float32)\n",
    "    # Map 2 to [0.0, 1.0, 0.0 ...], 3 to [0.0, 0.0, 1.0 ...]\n",
    "    labels = (np.arange(num_labels) == labels[:,None]).astype(np.float32)\n",
    "    return dataset, labels\n",
    "\n",
    "train_dataset, train_labels = reformat(train_dataset, train_labels)\n",
    "valid_dataset, valid_labels = reformat(valid_dataset, valid_labels)\n",
    "test_dataset, test_labels = reformat(test_dataset, test_labels)\n",
    "print('Training set', train_dataset.shape, train_labels.shape)\n",
    "print('Validation set', valid_dataset.shape, valid_labels.shape)\n",
    "print('Test set', test_dataset.shape, test_labels.shape)"
   ]
  },
  {
   "cell_type": "code",
   "execution_count": 4,
   "metadata": {
    "cellView": "both",
    "colab": {
     "autoexec": {
      "startup": false,
      "wait_interval": 0
     }
    },
    "colab_type": "code",
    "collapsed": true,
    "id": "RajPLaL_ZW6w"
   },
   "outputs": [],
   "source": [
    "def accuracy(predictions, labels):\n",
    "    return (100.0 * np.sum(np.argmax(predictions, 1) == np.argmax(labels, 1))\n",
    "          / predictions.shape[0])"
   ]
  },
  {
   "cell_type": "markdown",
   "metadata": {
    "colab_type": "text",
    "id": "sgLbUAQ1CW-1"
   },
   "source": [
    "---\n",
    "Problem 1\n",
    "---------\n",
    "\n",
    "Introduce and tune L2 regularization for both logistic and neural network models. Remember that L2 amounts to adding a penalty on the norm of the weights to the loss. In TensorFlow, you can compute the L2 loss for a tensor `t` using `nn.l2_loss(t)`. The right amount of regularization should improve your validation / test accuracy.\n",
    "\n",
    "---"
   ]
  },
  {
   "cell_type": "code",
   "execution_count": 49,
   "metadata": {
    "collapsed": false
   },
   "outputs": [
    {
     "name": "stdout",
     "output_type": "stream",
     "text": [
      "Initialized\n",
      "Loss at step 0: 33.023075\n",
      "Training accuracy: 9.3%\n",
      "Validation accuracy: 12.6%\n",
      "Test accuracy: 12.7%\n",
      "Loss at step 100: 10.524026\n",
      "Training accuracy: 73.4%\n",
      "Validation accuracy: 71.2%\n",
      "Test accuracy: 78.6%\n",
      "Loss at step 200: 6.227783\n",
      "Training accuracy: 77.4%\n",
      "Validation accuracy: 74.6%\n",
      "Test accuracy: 82.0%\n",
      "Loss at step 300: 3.817248\n",
      "Training accuracy: 80.0%\n",
      "Validation accuracy: 76.6%\n",
      "Test accuracy: 83.6%\n",
      "Loss at step 400: 2.446922\n",
      "Training accuracy: 82.0%\n",
      "Validation accuracy: 78.4%\n",
      "Test accuracy: 85.3%\n",
      "Loss at step 500: 1.667974\n",
      "Training accuracy: 83.2%\n",
      "Validation accuracy: 79.7%\n",
      "Test accuracy: 86.6%\n",
      "Loss at step 600: 1.224073\n",
      "Training accuracy: 84.2%\n",
      "Validation accuracy: 80.7%\n",
      "Test accuracy: 87.5%\n",
      "Loss at step 700: 0.969800\n",
      "Training accuracy: 84.8%\n",
      "Validation accuracy: 81.2%\n",
      "Test accuracy: 88.0%\n",
      "Loss at step 800: 0.823316\n",
      "Training accuracy: 85.1%\n",
      "Validation accuracy: 81.7%\n",
      "Test accuracy: 88.4%\n"
     ]
    }
   ],
   "source": [
    "# Logistic\n",
    "num_labels = 10\n",
    "pixelCount = 28 * 28\n",
    "train_subset = 10000\n",
    "num_steps = 801\n",
    "# t paramater for our L2 Loss\n",
    "t = 0.25\n",
    "\n",
    "graph = tf.Graph()\n",
    "with graph.as_default():\n",
    "    # Configure Constants\n",
    "    tf_TrainSet = tf.constant(train_dataset[:train_subset, :])\n",
    "    tf_TrainLabels = tf.constant(train_labels[:train_subset, :])\n",
    "    tf_TestSet = tf.constant(test_dataset)\n",
    "    tf_ValidSet = tf.constant(valid_dataset)\n",
    "    \n",
    "    # Setup the logistic regression variables\n",
    "    weights = tf.Variable(\n",
    "        tf.truncated_normal([pixelCount, num_labels]))\n",
    "    biases = tf.Variable(tf.zeros([num_labels]))\n",
    "    log = tf.matmul(tf_TrainSet, weights) + biases\n",
    "    loss = tf.reduce_mean(\n",
    "        tf.nn.softmax_cross_entropy_with_logits(log, tf_TrainLabels))\n",
    "    # L2 regularization for the fully connected parameters.\n",
    "    regularizers = (tf.nn.l2_loss(weights) + tf.nn.l2_loss(biases))\n",
    "    # Add the regularization term to the loss.\n",
    "    #c = 5e-4\n",
    "    c = 0.005\n",
    "    loss += c * regularizers\n",
    "    \n",
    "    optimizer = tf.train.GradientDescentOptimizer(0.5).minimize(loss)\n",
    "    train_prediction = tf.nn.softmax(log)\n",
    "    valid_prediction = tf.nn.softmax(\n",
    "        tf.matmul(tf_ValidSet, weights) + biases)\n",
    "    test_prediction = tf.nn.softmax(\n",
    "        tf.matmul(tf_TestSet, weights) + biases)\n",
    "    \n",
    "with tf.Session(graph=graph) as session:\n",
    "    # This is a one-time operation which ensures the parameters get initialized as\n",
    "    # we described in the graph: random weights for the matrix, zeros for the\n",
    "    # biases. \n",
    "    tf.initialize_all_variables().run()\n",
    "    print('Initialized')\n",
    "    for step in range(num_steps):\n",
    "        # Run the computations. We tell .run() that we want to run the optimizer,\n",
    "        # and get the loss value and the training predictions returned as numpy\n",
    "        # arrays.\n",
    "        _, l, predictions = session.run([optimizer, loss, train_prediction])\n",
    "        if (step % 100 == 0):\n",
    "            print('Loss at step %d: %f' % (step, l))\n",
    "            print('Training accuracy: %.1f%%' % accuracy(predictions, train_labels[:train_subset, :]))\n",
    "            print('Validation accuracy: %.1f%%' % accuracy(\n",
    "                valid_prediction.eval(), valid_labels))\n",
    "            print('Test accuracy: %.1f%%' % accuracy(test_prediction.eval(), test_labels))"
   ]
  },
  {
   "cell_type": "code",
   "execution_count": 60,
   "metadata": {
    "collapsed": false
   },
   "outputs": [
    {
     "name": "stdout",
     "output_type": "stream",
     "text": [
      "Initialized\n",
      "Loss at step 0: 443.445190\n",
      "Training accuracy: 8.6%\n",
      "Validation accuracy: 40.7%\n",
      "Test accuracy: 44.1%\n",
      "Loss at step 100: 151.718140\n",
      "Training accuracy: 92.0%\n",
      "Validation accuracy: 79.1%\n",
      "Test accuracy: 86.7%\n",
      "Loss at step 200: 141.414841\n",
      "Training accuracy: 99.5%\n",
      "Validation accuracy: 79.1%\n",
      "Test accuracy: 86.4%\n",
      "Loss at step 300: 134.497650\n",
      "Training accuracy: 99.7%\n",
      "Validation accuracy: 79.2%\n",
      "Test accuracy: 86.8%\n",
      "Loss at step 400: 127.926186\n",
      "Training accuracy: 99.8%\n",
      "Validation accuracy: 79.2%\n",
      "Test accuracy: 86.9%\n",
      "Loss at step 500: 121.682175\n",
      "Training accuracy: 99.9%\n",
      "Validation accuracy: 79.2%\n",
      "Test accuracy: 86.9%\n",
      "Loss at step 600: 115.733208\n",
      "Training accuracy: 99.8%\n",
      "Validation accuracy: 78.1%\n",
      "Test accuracy: 85.3%\n",
      "Loss at step 700: 110.094391\n",
      "Training accuracy: 99.9%\n",
      "Validation accuracy: 79.2%\n",
      "Test accuracy: 87.0%\n",
      "Loss at step 800: 104.716179\n",
      "Training accuracy: 99.9%\n",
      "Validation accuracy: 79.2%\n",
      "Test accuracy: 86.9%\n"
     ]
    }
   ],
   "source": [
    "# Logistic\n",
    "num_labels = 10\n",
    "pixelCount = 28 * 28\n",
    "train_subset = 10000\n",
    "num_steps = 801\n",
    "hNodes = 1024\n",
    "# t paramater for our L2 Loss\n",
    "t = 0.25\n",
    "\n",
    "graph = tf.Graph()\n",
    "with graph.as_default():\n",
    "    # Configure Constants\n",
    "    tf_TrainSet = tf.constant(train_dataset[:train_subset, :])\n",
    "    tf_TrainLabels = tf.constant(train_labels[:train_subset, :])\n",
    "    tf_TestSet = tf.constant(test_dataset)\n",
    "    tf_ValidSet = tf.constant(valid_dataset)\n",
    "    \n",
    "    # Setup the logistic regression variables\n",
    "    weights1 = tf.Variable(\n",
    "        tf.truncated_normal([pixelCount, hNodes]))\n",
    "    biases1 = tf.Variable(tf.zeros([hNodes]))\n",
    "    weights2 = tf.Variable(\n",
    "        tf.truncated_normal([hNodes, num_labels]))\n",
    "    biases2 = tf.Variable(tf.zeros([num_labels]))\n",
    "    \n",
    "    relu = tf.nn.relu(tf.matmul(tf_TrainSet, weights1) + biases1)\n",
    "    logit = tf.matmul(relu, weights2) + biases2\n",
    "    loss = tf.reduce_mean(tf.nn.softmax_cross_entropy_with_logits(logit, tf_TrainLabels))\n",
    "    # L2 regularization for the fully connected parameters.\n",
    "    regularizers = (tf.nn.l2_loss(weights1) + tf.nn.l2_loss(biases1)\n",
    "                   + tf.nn.l2_loss(weights2) + tf.nn.l2_loss(biases2))\n",
    "    # Add the regularization term to the loss.\n",
    "    c = 5e-4\n",
    "    #c = 0.005\n",
    "    loss += c * regularizers\n",
    "    \n",
    "    optimizer = tf.train.GradientDescentOptimizer(0.5).minimize(loss)\n",
    "    \n",
    "    # Predictions for the training, validation, and test data.\n",
    "    train_prediction = tf.nn.softmax(logit)\n",
    "    valid_prediction = tf.nn.softmax(\n",
    "        tf.matmul(\n",
    "            tf.nn.relu(\n",
    "                tf.matmul(tf_ValidSet, weights1) + biases1)\n",
    "            , weights2) + biases2)\n",
    "    \n",
    "    test_prediction = tf.nn.softmax(\n",
    "        tf.matmul(\n",
    "            tf.nn.relu(\n",
    "                tf.matmul(tf_TestSet, weights1) + biases1)\n",
    "            , weights2) + biases2)\n",
    "\n",
    "    \n",
    "with tf.Session(graph=graph) as session:\n",
    "    # This is a one-time operation which ensures the parameters get initialized as\n",
    "    # we described in the graph: random weights for the matrix, zeros for the\n",
    "    # biases. \n",
    "    tf.initialize_all_variables().run()\n",
    "    print('Initialized')\n",
    "    for step in range(num_steps):\n",
    "        # Run the computations. We tell .run() that we want to run the optimizer,\n",
    "        # and get the loss value and the training predictions returned as numpy\n",
    "        # arrays.\n",
    "        _, l, predictions = session.run([optimizer, loss, train_prediction])\n",
    "        if (step % 100 == 0):\n",
    "            print('Loss at step %d: %f' % (step, l))\n",
    "            print('Training accuracy: %.1f%%' % accuracy(predictions, train_labels[:train_subset, :]))\n",
    "            print('Validation accuracy: %.1f%%' % accuracy(\n",
    "                valid_prediction.eval(), valid_labels))\n",
    "            print('Test accuracy: %.1f%%' % accuracy(test_prediction.eval(), test_labels))"
   ]
  },
  {
   "cell_type": "markdown",
   "metadata": {
    "colab_type": "text",
    "id": "na8xX2yHZzNF"
   },
   "source": [
    "---\n",
    "Problem 2\n",
    "---------\n",
    "Let's demonstrate an extreme case of overfitting. Restrict your training data to just a few batches. What happens?\n",
    "\n",
    "---"
   ]
  },
  {
   "cell_type": "code",
   "execution_count": null,
   "metadata": {
    "collapsed": true
   },
   "outputs": [],
   "source": []
  },
  {
   "cell_type": "markdown",
   "metadata": {
    "colab_type": "text",
    "id": "ww3SCBUdlkRc"
   },
   "source": [
    "---\n",
    "Problem 3\n",
    "---------\n",
    "Introduce Dropout on the hidden layer of the neural network. Remember: Dropout should only be introduced during training, not evaluation, otherwise your evaluation results would be stochastic as well. TensorFlow provides `nn.dropout()` for that, but you have to make sure it's only inserted during training.\n",
    "\n",
    "What happens to our extreme overfitting case?\n",
    "\n",
    "---"
   ]
  },
  {
   "cell_type": "markdown",
   "metadata": {
    "colab_type": "text",
    "id": "-b1hTz3VWZjw"
   },
   "source": [
    "---\n",
    "Problem 4\n",
    "---------\n",
    "\n",
    "Try to get the best performance you can using a multi-layer model! The best reported test accuracy using a deep network is [97.1%](http://yaroslavvb.blogspot.com/2011/09/notmnist-dataset.html?showComment=1391023266211#c8758720086795711595).\n",
    "\n",
    "One avenue you can explore is to add multiple layers.\n",
    "\n",
    "Another one is to use learning rate decay:\n",
    "\n",
    "    global_step = tf.Variable(0)  # count the number of steps taken.\n",
    "    learning_rate = tf.train.exponential_decay(0.5, global_step, ...)\n",
    "    optimizer = tf.train.GradientDescentOptimizer(learning_rate).minimize(loss, global_step=global_step)\n",
    " \n",
    " ---\n"
   ]
  }
 ],
 "metadata": {
  "colab": {
   "default_view": {},
   "name": "3_regularization.ipynb",
   "provenance": [],
   "version": "0.3.2",
   "views": {}
  },
  "kernelspec": {
   "display_name": "Python 2",
   "language": "python",
   "name": "python2"
  },
  "language_info": {
   "codemirror_mode": {
    "name": "ipython",
    "version": 2
   },
   "file_extension": ".py",
   "mimetype": "text/x-python",
   "name": "python",
   "nbconvert_exporter": "python",
   "pygments_lexer": "ipython2",
   "version": "2.7.11"
  }
 },
 "nbformat": 4,
 "nbformat_minor": 0
}
